{
  "nbformat": 4,
  "nbformat_minor": 0,
  "metadata": {
    "colab": {
      "name": "Assignment3.ipynb",
      "provenance": [],
      "collapsed_sections": [
        "J5nU2UyOyJtZ",
        "a3E4h7fe2fTI",
        "d8p3-S_s7SqP",
        "106H9eHLHmsD",
        "VR4OmWb7I46F",
        "xFoNZwChJ39u",
        "wC1O1a-3KIB9"
      ],
      "include_colab_link": true
    },
    "kernelspec": {
      "name": "python3",
      "display_name": "Python 3"
    },
    "language_info": {
      "name": "python"
    }
  },
  "cells": [
    {
      "cell_type": "markdown",
      "metadata": {
        "id": "view-in-github",
        "colab_type": "text"
      },
      "source": [
        "<a href=\"https://colab.research.google.com/github/thlystrd/LinearAlgebra_2ndsem/blob/main/Assignment3.ipynb\" target=\"_parent\"><img src=\"https://colab.research.google.com/assets/colab-badge.svg\" alt=\"Open In Colab\"/></a>"
      ]
    },
    {
      "cell_type": "markdown",
      "source": [
        "#Linear Algebra for ChE\n",
        "##Laboratory 2: Matrices"
      ],
      "metadata": {
        "id": "uZFoHwAsxr9l"
      }
    },
    {
      "cell_type": "markdown",
      "source": [
        "Now that you have a fundamental knowledge about Python, we'll try to look into greater dimensions."
      ],
      "metadata": {
        "id": "pdW_-N3jCygA"
      }
    },
    {
      "cell_type": "markdown",
      "source": [
        "###Objectives\n",
        "At the end of this activity you will be able to:\n",
        "\n",
        "  1. Be familiar with matrices and their relation to linear equations.\n",
        "  2. Perform basic matrix operations.\n",
        "  3. Program and translate matrix equations and operations using Python."
      ],
      "metadata": {
        "id": "23GoCstWx-xW"
      }
    },
    {
      "cell_type": "markdown",
      "source": [
        "#Discussion"
      ],
      "metadata": {
        "id": "J5nU2UyOyJtZ"
      }
    },
    {
      "cell_type": "markdown",
      "source": [
        "The import keyword can make code from one code available in another. The import function is essential in organizing your codes and saving time by reusing what you imported. [1]\n",
        "\n",
        "> Numerical Programming Libraries:\n",
        "> *   **Numerical Python** is also known as ***numpy*** and uses ***np*** as a coding shortcut. It is a library of multidimensional arrays as well as a set of algorithms for manipulating which is helpful in conducting mathematical and logical array operations. [2]\n",
        "> *   **Matplotlib** is also known as ***matplotlib.pyplot*** and uses ***plt*** as a coding shortcut. It is a library that helps in easier visualization and analysis of the data. This will help display the matrices.  [3]\n",
        "> *   **SciPy** is also known as ***scipy.linalg*** and uses ***la*** as a coding shortcut. It is an open source library designed for science and engineering tasks.\n",
        "This usually deals with linear algebra to help us perform tasks like matrix calculations. [4]\n",
        "\n",
        "\n",
        "> Running the import code cell before everything below is important for your codes to function."
      ],
      "metadata": {
        "id": "vjgkvmL6Rkr9"
      }
    },
    {
      "cell_type": "code",
      "source": [
        "import numpy as np\n",
        "import matplotlib.pyplot as plt\n",
        "import scipy.linalg as la\n",
        "%matplotlib inline"
      ],
      "metadata": {
        "id": "L8mH7g9wyTJ2"
      },
      "execution_count": null,
      "outputs": []
    },
    {
      "cell_type": "markdown",
      "source": [
        "##Matrices"
      ],
      "metadata": {
        "id": "cd3tC5flzF3o"
      }
    },
    {
      "cell_type": "markdown",
      "source": [
        "Matrix is a two-dimensional rectangular array that stores data in rows and columns. The data you can input on a matrix can be integers, strings, equations, symbols, etc. It is a data structure that operates mathematical and scientific operations. [5]"
      ],
      "metadata": {
        "id": "BHWpUyoRLYnd"
      }
    },
    {
      "cell_type": "markdown",
      "source": [
        "We have $A$, $B$, and $C$ as system of equations."
      ],
      "metadata": {
        "id": "yqn_iSvLLbQs"
      }
    },
    {
      "cell_type": "markdown",
      "source": [
        "$$\n",
        "A = \\left\\{\n",
        "    \\begin{array}\\\n",
        "        11x + 6y \\\\ \n",
        "        19x + 3y\n",
        "    \\end{array}\n",
        "\\right. \\\\\n",
        "B = \\left\\{\n",
        "    \\begin{array}\\\n",
        "        2x + 7y + 3z \\\\ \n",
        "        9x + 2y + 8z \\\\\n",
        "        4x + 7y + 2z\n",
        "    \\end{array}\n",
        "\\right. \\\\\n",
        "C = \\left\\{\n",
        "    \\begin{array}\\\n",
        "        -w + 12x - 3y + 4z \\\\ \n",
        "        -3w + 13x - 7y + z \\\\\n",
        "        -2w + 11x - 9y + 2z\n",
        "    \\end{array}\n",
        "\\right. $$"
      ],
      "metadata": {
        "id": "X2KUtC9XLhBM"
      }
    },
    {
      "cell_type": "markdown",
      "source": [
        "We could see that $A$ is a system of 2 equations with 2 parameters, $B$ is a system of 3 equations with 3 parameters and $C$ is a system of 4 equations and 4 parameters. The matrix representation for the system of linear combinations above represented as:"
      ],
      "metadata": {
        "id": "ACzZVnYuLkCt"
      }
    },
    {
      "cell_type": "markdown",
      "source": [
        "$$\n",
        "A=\\begin{bmatrix} 11 & 6 \\\\ 19 & 3\\end{bmatrix} \\\\\n",
        "B=\\begin{bmatrix} 2 & 7 & 3 \\\\ 9 & 2 & 8 \\\\ 4 & 7 & 2\\end{bmatrix}\\\\\n",
        "C=\\begin{bmatrix} -1 & 12 & -3 & 4 \\\\ -3 & 13 & -7 & 1 \\\\ -2 & 11 & -9 & 2\\end{bmatrix}\n",
        "$$\n"
      ],
      "metadata": {
        "id": "AvHSgWbl1RTE"
      }
    },
    {
      "cell_type": "markdown",
      "source": [
        "So assuming that you already discussed the fundamental representation of matrices, their types, and operations. We'll proceed in doing them in\n",
        "here in Python"
      ],
      "metadata": {
        "id": "NLKj-V-U2bQJ"
      }
    },
    {
      "cell_type": "markdown",
      "source": [
        "##Declaring Matrices"
      ],
      "metadata": {
        "id": "a3E4h7fe2fTI"
      }
    },
    {
      "cell_type": "markdown",
      "source": [
        "The system of linear equations can be represented as a matrix consisting of a row and column. The integers, strings, equations, symbols, and etc. inputted inside the matrices are called as *elements* or *entry*. A matrix has the size of ***$i$ x $j$*** in which **$i$** represents the matrix's column and **$j$** represents the matrix's row. Columns goes in a vertical way making the elements appear as a list from top to bottom while rows are arranged horizontally making the elements appear as an array-like or in a linear form. This can be represented\n",
        "just like the equation below. Whereas $A$ is a matrix consisting of elements denoted by $ai,j$. "
      ],
      "metadata": {
        "id": "hDIZu2KH3Xbm"
      }
    },
    {
      "cell_type": "markdown",
      "source": [
        "$$A=\\begin{bmatrix}\n",
        "a_{(0,0)}&a_{(0,1)}&\\dots&a_{(0,j-1)}\\\\\n",
        "a_{(1,0)}&a_{(1,1)}&\\dots&a_{(1,j-1)}\\\\\n",
        "\\vdots&\\vdots&\\ddots&\\vdots&\\\\\n",
        "a_{(i-1,0)}&a_{(i-1,1)}&\\dots&a_{(i-1,j-1)}\n",
        "\\end{bmatrix}\n",
        "$$\n"
      ],
      "metadata": {
        "id": "zkn5I_Tz3pJu"
      }
    },
    {
      "cell_type": "code",
      "source": [
        "## Since we’11 keep on describing matrices. Let's make a function.\n",
        "def describe_mat (matrix):\n",
        "   print(f'Matrix:\\n{matrix}\\n\\nShape:\\t{matrix.shape}\\nRank:\\t{matrix.ndim}\\n')"
      ],
      "metadata": {
        "id": "BrPV5JDY58gK"
      },
      "execution_count": null,
      "outputs": []
    },
    {
      "cell_type": "code",
      "source": [
        "## Declaring a 2 x 2 matrix\n",
        "K = np.array([\n",
        "  [11, 12],\n",
        "  [13, 11]\n",
        "])\n",
        "describe_mat(K)"
      ],
      "metadata": {
        "colab": {
          "base_uri": "https://localhost:8080/"
        },
        "id": "bzoFjoNS6E_T",
        "outputId": "ed8cffa4-ace0-4abe-bc48-f13af15dc280"
      },
      "execution_count": null,
      "outputs": [
        {
          "output_type": "stream",
          "name": "stdout",
          "text": [
            "Matrix:\n",
            "[[11 12]\n",
            " [13 11]]\n",
            "\n",
            "Shape:\t(2, 2)\n",
            "Rank:\t2\n",
            "\n"
          ]
        }
      ]
    },
    {
      "cell_type": "code",
      "source": [
        "M = np.array([\n",
        "    [6,1,2],\n",
        "    [1,2,9]\n",
        "])\n",
        "describe_mat(M)"
      ],
      "metadata": {
        "id": "dVDYHAdYMPrk",
        "outputId": "e7fa3149-5598-4ab4-c48a-c956914f85c5",
        "colab": {
          "base_uri": "https://localhost:8080/"
        }
      },
      "execution_count": null,
      "outputs": [
        {
          "output_type": "stream",
          "name": "stdout",
          "text": [
            "Matrix:\n",
            "[[6 1 2]\n",
            " [1 2 9]]\n",
            "\n",
            "Shape:\t(2, 3)\n",
            "Rank:\t2\n",
            "\n"
          ]
        }
      ]
    },
    {
      "cell_type": "code",
      "source": [
        "## Declaring a 3 x 2 matrix\n",
        "A = np.array([\n",
        "    [18, 22],\n",
        "    [35, 41],\n",
        "    [71, 18]\n",
        "])\n",
        "describe_mat(A)"
      ],
      "metadata": {
        "id": "BzWzrB-LMlub",
        "outputId": "741b257b-d9ad-4e50-95e5-ca237fdc4311",
        "colab": {
          "base_uri": "https://localhost:8080/"
        }
      },
      "execution_count": null,
      "outputs": [
        {
          "output_type": "stream",
          "name": "stdout",
          "text": [
            "Matrix:\n",
            "[[18 22]\n",
            " [35 41]\n",
            " [71 18]]\n",
            "\n",
            "Shape:\t(3, 2)\n",
            "Rank:\t2\n",
            "\n"
          ]
        }
      ]
    },
    {
      "cell_type": "code",
      "source": [
        "T = np.array([1,2,3,4])\n",
        "describe_mat(T)"
      ],
      "metadata": {
        "id": "JWj7JKARDTLA",
        "outputId": "1833086f-10cf-4fb8-da54-a1d8c600bfcb",
        "colab": {
          "base_uri": "https://localhost:8080/"
        }
      },
      "execution_count": null,
      "outputs": [
        {
          "output_type": "stream",
          "name": "stdout",
          "text": [
            "Matrix:\n",
            "[1 2 3 4]\n",
            "\n",
            "Shape:\t(4,)\n",
            "Rank:\t1\n",
            "\n"
          ]
        }
      ]
    },
    {
      "cell_type": "markdown",
      "source": [
        "##Categorizing Matrices"
      ],
      "metadata": {
        "id": "d8p3-S_s7SqP"
      }
    },
    {
      "cell_type": "markdown",
      "source": [
        "**Matrices** can be categorized according to their *Shapes* annd according to their *Element Values*. \n",
        "> Matrix According to Shape:\n",
        "> * Row and Column Matrix\n",
        "> * Square Matrix\n",
        "\n",
        ">Matrix According to Element Values:\n",
        "> * Null Matrix\n",
        "> * Zero Matrix\n",
        "> * Ones Matrix\n",
        "> * Diagonal Matrix\n",
        "> * Identity Matrix\n",
        "> * Upper Triangular Matrix\n",
        "> * Lower Triangular Matrix"
      ],
      "metadata": {
        "id": "TJimOFbPD09J"
      }
    },
    {
      "cell_type": "markdown",
      "source": [
        "###According to shape"
      ],
      "metadata": {
        "id": "LcDo9ifqD9kw"
      }
    },
    {
      "cell_type": "markdown",
      "source": [
        "#### Row and Column Matrices"
      ],
      "metadata": {
        "id": "q5HTWv9eEB-w"
      }
    },
    {
      "cell_type": "markdown",
      "source": [
        "Row and Column Matrices are necessary for matrix computations. The shape of row matrices would be  $1×j$ given that a row is array-like or arranged horizontally. The shape of Column Matrices would be $i×1$ given that a column is list-like or arranged vertically."
      ],
      "metadata": {
        "id": "QXmkdNZ1EIvv"
      }
    },
    {
      "cell_type": "code",
      "source": [
        "## Declaring a Row Matrix\n",
        "row_yzel=np.array([\n",
        "    [12, 19, 20, -1]\n",
        "]) ## this is a 1-D Matrix with a shape of (3,), it's not really considered as a row matrix.\n",
        "row_oreo=np.array([\n",
        "    [-6, 11, 20, -2]\n",
        "]) ## this is a 2-D Matrix with a shape of (1,3)\n",
        "describe_mat (row_yzel)\n",
        "describe_mat (row_oreo)"
      ],
      "metadata": {
        "colab": {
          "base_uri": "https://localhost:8080/"
        },
        "id": "5CZe_sf27jxC",
        "outputId": "3196b5bc-2a2e-4e2f-bc65-7a58e021fba1"
      },
      "execution_count": null,
      "outputs": [
        {
          "output_type": "stream",
          "name": "stdout",
          "text": [
            "Matrix:\n",
            "[[12 19 20 -1]]\n",
            "\n",
            "Shape:\t(1, 4)\n",
            "Rank:\t2\n",
            "\n",
            "Matrix:\n",
            "[[-6 11 20 -2]]\n",
            "\n",
            "Shape:\t(1, 4)\n",
            "Rank:\t2\n",
            "\n"
          ]
        }
      ]
    },
    {
      "cell_type": "code",
      "source": [
        "## Declaring a Column Matrix\n",
        "col_mocha=np. array ([\n",
        "[-2],\n",
        "[-9],\n",
        "[20],\n",
        "[20]\n",
        "])## this is a 2-D Matrix with a shape of (3,1)\n",
        "describe_mat (col_mocha)\n"
      ],
      "metadata": {
        "colab": {
          "base_uri": "https://localhost:8080/"
        },
        "id": "AX2SXdcX9VeH",
        "outputId": "6592db64-d215-45ec-d47f-0fda9cadd4e3"
      },
      "execution_count": null,
      "outputs": [
        {
          "output_type": "stream",
          "name": "stdout",
          "text": [
            "Matrix:\n",
            "[[-2]\n",
            " [-9]\n",
            " [20]\n",
            " [20]]\n",
            "\n",
            "Shape:\t(4, 1)\n",
            "Rank:\t2\n",
            "\n"
          ]
        }
      ]
    },
    {
      "cell_type": "markdown",
      "source": [
        "#### Square Matrices"
      ],
      "metadata": {
        "id": "JtOU2YhPEYng"
      }
    },
    {
      "cell_type": "markdown",
      "source": [
        "Square Matrices are are consists of rows and columns that are equal to each other. A matrix can be considered as square if $i = j$. Matrix descriptor function can determine if a matrix is square or not."
      ],
      "metadata": {
        "id": "YL2y1D_REcCG"
      }
    },
    {
      "cell_type": "code",
      "source": [
        "def describe_mat(matrix):\n",
        "  is_square = True if matrix.shape[0] == matrix.shape[1] else False\n",
        "  print(f'Matrix:\\n{matrix}\\n\\nShape:\\t{matrix.shape}\\nRank:\\t{matrix.ndim}\\nIs Square: {is_square}\\n')"
      ],
      "metadata": {
        "id": "iAFKfYqq-N6n"
      },
      "execution_count": null,
      "outputs": []
    },
    {
      "cell_type": "code",
      "source": [
        "square_kar= np.array([\n",
        "  [2,9,20],\n",
        "  [3,18,20],\n",
        "  [7,13,21]\n",
        "])\n",
        "\n",
        "non_square_kar = np. array([\n",
        "  [2,6,20],\n",
        "  [3,18,21]\n",
        "])\n",
        "describe_mat(square_kar)\n",
        "describe_mat(non_square_kar)\n",
        "\n"
      ],
      "metadata": {
        "colab": {
          "base_uri": "https://localhost:8080/"
        },
        "id": "yC67gEGR--IP",
        "outputId": "b105744c-1570-43d5-e380-b1c408574d3c"
      },
      "execution_count": null,
      "outputs": [
        {
          "output_type": "stream",
          "name": "stdout",
          "text": [
            "Matrix:\n",
            "[[ 2  9 20]\n",
            " [ 3 18 20]\n",
            " [ 7 13 21]]\n",
            "\n",
            "Shape:\t(3, 3)\n",
            "Rank:\t2\n",
            "Is Square: True\n",
            "\n",
            "Matrix:\n",
            "[[ 2  6 20]\n",
            " [ 3 18 21]]\n",
            "\n",
            "Shape:\t(2, 3)\n",
            "Rank:\t2\n",
            "Is Square: False\n",
            "\n"
          ]
        }
      ]
    },
    {
      "cell_type": "markdown",
      "source": [
        "### According to element values"
      ],
      "metadata": {
        "id": "92B5sKJdE_zA"
      }
    },
    {
      "cell_type": "markdown",
      "source": [
        "#### Null Matrix"
      ],
      "metadata": {
        "id": "bWZ_PORjFXQt"
      }
    },
    {
      "cell_type": "markdown",
      "source": [
        "A Null Matrix is a matrix that does not have any element, entry, row, column, or shape. This matrix contains nothing; hence its name null."
      ],
      "metadata": {
        "id": "xvP-f4ofM7Gz"
      }
    },
    {
      "cell_type": "code",
      "source": [
        "def describe_mat(matrix):\n",
        "    if matrix.size > 0:\n",
        "        is_square = True if matrix.shape[0] == matrix.shape[1] else False \n",
        "        print(f'Matrix:\\n{matrix}\\n\\nShape:\\t{matrix.shape}\\nRank:\\t{matrix.ndim}\\nIs Square: {is_square}\\n')\n",
        "    else:\n",
        "        print('Matrix is Null')"
      ],
      "metadata": {
        "id": "-JfQkQ_LFcKm"
      },
      "execution_count": null,
      "outputs": []
    },
    {
      "cell_type": "code",
      "source": [
        "null_meh = np.array([])\n",
        "describe_mat(null_meh)"
      ],
      "metadata": {
        "id": "Hqr-6FOnFhTO",
        "outputId": "bd9d7fe3-f774-448e-c060-944f4b001b1f",
        "colab": {
          "base_uri": "https://localhost:8080/"
        }
      },
      "execution_count": null,
      "outputs": [
        {
          "output_type": "stream",
          "name": "stdout",
          "text": [
            "Matrix is Null\n"
          ]
        }
      ]
    },
    {
      "cell_type": "markdown",
      "source": [
        "####Zero Matrix"
      ],
      "metadata": {
        "id": "hQ--6hafC1O_"
      }
    },
    {
      "cell_type": "markdown",
      "source": [
        "Zero matrix displays an element of zero given a shape or type. Zero matrix can be inputted on a shape of $i$ x $j$. The matrix will display a resultant matrix that is filled with zeros in accordance to the given size. "
      ],
      "metadata": {
        "id": "mNYxPsNgFpcg"
      }
    },
    {
      "cell_type": "code",
      "source": [
        "zero_na_ba_talaga = np.zeros((1,2))\n",
        "zero_na_po_ba = np.zeros((2,2) )\n",
        "zero_na_nga_daw = np.zeros((3,2))\n",
        "\n",
        "print(f'Zero Row Matrix: \\n{zero_na_ba_talaga}')\n",
        "print(f'Zero Square Matrix: \\n{zero_na_po_ba}')\n",
        "print(f'Zero Rectangular Matrix: \\n{zero_na_nga_daw}')"
      ],
      "metadata": {
        "colab": {
          "base_uri": "https://localhost:8080/"
        },
        "id": "CGNNn5_7C1lo",
        "outputId": "9cc9ba94-d026-491f-d7ea-476aba250a81"
      },
      "execution_count": null,
      "outputs": [
        {
          "output_type": "stream",
          "name": "stdout",
          "text": [
            "Zero Row Matrix: \n",
            "[[0. 0.]]\n",
            "Zero Square Matrix: \n",
            "[[0. 0.]\n",
            " [0. 0.]]\n",
            "Zero Rectangular Matrix: \n",
            "[[0. 0.]\n",
            " [0. 0.]\n",
            " [0. 0.]]\n"
          ]
        }
      ]
    },
    {
      "cell_type": "markdown",
      "source": [
        "####Ones Matrix"
      ],
      "metadata": {
        "id": "Hrh92TtSDruT"
      }
    },
    {
      "cell_type": "markdown",
      "source": [
        "Ones matrix displays an element of one given a shape or type. Ones matrix can be inputted on a shape of $i$ x $j$. The matrix will display a resultant matrix that is filled with ones in accordance to the given size. "
      ],
      "metadata": {
        "id": "prtguC0cF9uO"
      }
    },
    {
      "cell_type": "code",
      "source": [
        "ones_upon_a_time = np.ones((1,2))\n",
        "ones_in_a_while = np.ones((2,2) )\n",
        "ones_a_lifetime = np.ones((3,2))\n",
        "\n",
        "print(f'Ones Row Matrix: \\n{ones_upon_a_time}')\n",
        "print(f'Ones Square Matrix: \\n{ones_in_a_while}')\n",
        "print(f'Ones Rectangular Matrix: \\n{ones_a_lifetime}')"
      ],
      "metadata": {
        "colab": {
          "base_uri": "https://localhost:8080/"
        },
        "id": "xYhgVHMcDwqP",
        "outputId": "3990f68a-af9b-4fba-8caa-eead9f98759e"
      },
      "execution_count": null,
      "outputs": [
        {
          "output_type": "stream",
          "name": "stdout",
          "text": [
            "Ones Row Matrix: \n",
            "[[1. 1.]]\n",
            "Ones Square Matrix: \n",
            "[[1. 1.]\n",
            " [1. 1.]]\n",
            "Ones Rectangular Matrix: \n",
            "[[1. 1.]\n",
            " [1. 1.]\n",
            " [1. 1.]]\n"
          ]
        }
      ]
    },
    {
      "cell_type": "markdown",
      "source": [
        "####Diagonal Matrix"
      ],
      "metadata": {
        "id": "ykkVLjLwEnCM"
      }
    },
    {
      "cell_type": "markdown",
      "source": [
        "Diagonal Matrix is a matrix that contains numerical values placed in a diagonal line with zeroes to fill in the blank spaces of the matrix [6]. This is mostly used to reperesent the scale of the vectors found in linear equations. "
      ],
      "metadata": {
        "id": "DTUBNWIaErKS"
      }
    },
    {
      "cell_type": "code",
      "source": [
        "np.array([\n",
        "        [12,19,1],\n",
        "        [3,11,20],\n",
        "        [6,11,2]\n",
        "  ])\n",
        "  # a[1,1], a[2,2], ... a[n-1,n-1]"
      ],
      "metadata": {
        "colab": {
          "base_uri": "https://localhost:8080/"
        },
        "id": "VvZyTq6UEt8J",
        "outputId": "e7f9a864-433b-4c88-b1f4-116f4ff42d79"
      },
      "execution_count": null,
      "outputs": [
        {
          "output_type": "execute_result",
          "data": {
            "text/plain": [
              "array([[12, 19,  1],\n",
              "       [ 3, 11, 20],\n",
              "       [ 6, 11,  2]])"
            ]
          },
          "metadata": {},
          "execution_count": 89
        }
      ]
    },
    {
      "cell_type": "code",
      "source": [
        "hi = np.diag([-3,11,20,20])\n",
        "hi.shape[0] == hi.shape[1]\n",
        "hi"
      ],
      "metadata": {
        "colab": {
          "base_uri": "https://localhost:8080/"
        },
        "id": "w1PomDJ4FGzh",
        "outputId": "7dd700ce-733f-49ee-9279-7d9ada03f913"
      },
      "execution_count": null,
      "outputs": [
        {
          "output_type": "execute_result",
          "data": {
            "text/plain": [
              "array([[-3,  0,  0,  0],\n",
              "       [ 0, 11,  0,  0],\n",
              "       [ 0,  0, 20,  0],\n",
              "       [ 0,  0,  0, 20]])"
            ]
          },
          "metadata": {},
          "execution_count": 90
        }
      ]
    },
    {
      "cell_type": "markdown",
      "source": [
        "####Identity Matrix"
      ],
      "metadata": {
        "id": "Dke5G8wHF4ze"
      }
    },
    {
      "cell_type": "markdown",
      "source": [
        "Identity Matrix is a type of diagonal square matrix that is specifically filled with ones placed along its diagonal line and zeroes everywhere else to fill up the matrix [7]. This is called an identity matrix because when it is multiplied to any other matrix the result contains the contents of the matrix itself. "
      ],
      "metadata": {
        "id": "0jgOLMjoGAEf"
      }
    },
    {
      "cell_type": "code",
      "source": [
        "np.eye(6)"
      ],
      "metadata": {
        "colab": {
          "base_uri": "https://localhost:8080/"
        },
        "id": "cTC77C-4GIFH",
        "outputId": "bafe9649-6079-423b-ed8e-b5256a0fc133"
      },
      "execution_count": null,
      "outputs": [
        {
          "output_type": "execute_result",
          "data": {
            "text/plain": [
              "array([[1., 0., 0., 0., 0., 0.],\n",
              "       [0., 1., 0., 0., 0., 0.],\n",
              "       [0., 0., 1., 0., 0., 0.],\n",
              "       [0., 0., 0., 1., 0., 0.],\n",
              "       [0., 0., 0., 0., 1., 0.],\n",
              "       [0., 0., 0., 0., 0., 1.]])"
            ]
          },
          "metadata": {},
          "execution_count": 91
        }
      ]
    },
    {
      "cell_type": "code",
      "source": [
        "np.identity(11)"
      ],
      "metadata": {
        "colab": {
          "base_uri": "https://localhost:8080/"
        },
        "id": "BrRrai0aGM_Q",
        "outputId": "1a7ae309-7a5d-47c1-9dc5-1e46e3b14fff"
      },
      "execution_count": null,
      "outputs": [
        {
          "output_type": "execute_result",
          "data": {
            "text/plain": [
              "array([[1., 0., 0., 0., 0., 0., 0., 0., 0., 0., 0.],\n",
              "       [0., 1., 0., 0., 0., 0., 0., 0., 0., 0., 0.],\n",
              "       [0., 0., 1., 0., 0., 0., 0., 0., 0., 0., 0.],\n",
              "       [0., 0., 0., 1., 0., 0., 0., 0., 0., 0., 0.],\n",
              "       [0., 0., 0., 0., 1., 0., 0., 0., 0., 0., 0.],\n",
              "       [0., 0., 0., 0., 0., 1., 0., 0., 0., 0., 0.],\n",
              "       [0., 0., 0., 0., 0., 0., 1., 0., 0., 0., 0.],\n",
              "       [0., 0., 0., 0., 0., 0., 0., 1., 0., 0., 0.],\n",
              "       [0., 0., 0., 0., 0., 0., 0., 0., 1., 0., 0.],\n",
              "       [0., 0., 0., 0., 0., 0., 0., 0., 0., 1., 0.],\n",
              "       [0., 0., 0., 0., 0., 0., 0., 0., 0., 0., 1.]])"
            ]
          },
          "metadata": {},
          "execution_count": 92
        }
      ]
    },
    {
      "cell_type": "markdown",
      "source": [
        "####Upper Triangular Matrix"
      ],
      "metadata": {
        "id": "m85aXOUbGQua"
      }
    },
    {
      "cell_type": "markdown",
      "source": [
        "Upper Triangular Matrix is a type of matrix that is filled with zeroes below the matrix's diagonal creating a zero triangle. This may or may not contain a parameter to specify if the zero triangle would be the main diagonal (K = 0), which is the default, above the main diagonal (K > 0), or below the main diagonal (K < 0) [8]. "
      ],
      "metadata": {
        "id": "XzG6r1DAGVA8"
      }
    },
    {
      "cell_type": "code",
      "source": [
        "np.array([\n",
        "        [1,2,3,4],\n",
        "        [0,3,1,-1],\n",
        "        [0,0,5,2],\n",
        "        [0,0,0,2]\n",
        "])"
      ],
      "metadata": {
        "colab": {
          "base_uri": "https://localhost:8080/"
        },
        "id": "YyPpAAU6GYSy",
        "outputId": "f524e9d9-c20f-4c7e-b5bc-76a8e9f0bda6"
      },
      "execution_count": null,
      "outputs": [
        {
          "output_type": "execute_result",
          "data": {
            "text/plain": [
              "array([[ 1,  2,  3,  4],\n",
              "       [ 0,  3,  1, -1],\n",
              "       [ 0,  0,  5,  2],\n",
              "       [ 0,  0,  0,  2]])"
            ]
          },
          "metadata": {},
          "execution_count": 93
        }
      ]
    },
    {
      "cell_type": "markdown",
      "source": [
        "####Lower Triangular Matrix"
      ],
      "metadata": {
        "id": "Yi_S_42GHAjG"
      }
    },
    {
      "cell_type": "markdown",
      "source": [
        "Lower Triangular Matrix is a type of matrix that is filled with zeroes above the matrix's diagonal creating a zero triangle. This may or may not contain a parameter to specify if the zero triangle would be the main diagonal (K = 0), which is the default, above the main diagonal (K > 0), or below the main diagonal (K < 0) [9]. "
      ],
      "metadata": {
        "id": "-ZZLVBBbHGc6"
      }
    },
    {
      "cell_type": "code",
      "source": [
        "np.array([\n",
        "   [6, 0, 0, 0],\n",
        "   [8, 5, 0, 0],\n",
        "   [9, 3, 7, 0],\n",
        "   [4, 2, 1, 8]\n",
        "])"
      ],
      "metadata": {
        "colab": {
          "base_uri": "https://localhost:8080/"
        },
        "id": "EdHedUCQHMiR",
        "outputId": "7a0af835-e462-4c7d-a43b-ea5f905de156"
      },
      "execution_count": null,
      "outputs": [
        {
          "output_type": "execute_result",
          "data": {
            "text/plain": [
              "array([[6, 0, 0, 0],\n",
              "       [8, 5, 0, 0],\n",
              "       [9, 3, 7, 0],\n",
              "       [4, 2, 1, 8]])"
            ]
          },
          "metadata": {},
          "execution_count": 94
        }
      ]
    },
    {
      "cell_type": "markdown",
      "source": [
        "##Practice"
      ],
      "metadata": {
        "id": "106H9eHLHmsD"
      }
    },
    {
      "cell_type": "markdown",
      "source": [
        "Given the linear combination below, try to create a corresponding matrix representing it.\n"
      ],
      "metadata": {
        "id": "BTruLITCHonS"
      }
    },
    {
      "cell_type": "markdown",
      "source": [
        "$$\\theta = 5x + 3y - z$$\n"
      ],
      "metadata": {
        "id": "CaQ1-rjPH2HL"
      }
    },
    {
      "cell_type": "markdown",
      "source": [
        "$$\n",
        "\\theta = \\begin{bmatrix} 5 & 3 & -1 \\end{bmatrix} \\\\\n",
        "$$"
      ],
      "metadata": {
        "id": "ITdqVPbmLDTW"
      }
    },
    {
      "cell_type": "markdown",
      "source": [
        "Given the system of linear combinations below, try to encode it as a matrix. Also describe the matrix.\n"
      ],
      "metadata": {
        "id": "il5BZ_wfH6Uk"
      }
    },
    {
      "cell_type": "markdown",
      "source": [
        "$$\n",
        "A = \\left\\{\\begin{array}\n",
        "5x_1 + 2x_2 +x_3\\\\\n",
        "4x_2 - x_3\\\\\n",
        "10x_3\n",
        "\\end{array}\\right.\n",
        "$$\n"
      ],
      "metadata": {
        "id": "l_sytvh6H8Nt"
      }
    },
    {
      "cell_type": "markdown",
      "source": [
        "$$\n",
        "A=\\begin{bmatrix} 1 & 2 & 1 \\\\ 0 & 4 & -1 \\\\ 0 & 0 & 10\\end{bmatrix} \\\\\n",
        "$$"
      ],
      "metadata": {
        "id": "Rx9pPUOALM_f"
      }
    },
    {
      "cell_type": "markdown",
      "source": [
        "Given the matrix below, express it as a linear combination in a markdown and a LaTeX markdown\n"
      ],
      "metadata": {
        "id": "LeVOyu1TH-Gq"
      }
    },
    {
      "cell_type": "code",
      "source": [
        "G = np.array([\n",
        "    [1,7,8],\n",
        "    [2,2,2],\n",
        "    [4,6,7]\n",
        "])\n"
      ],
      "metadata": {
        "id": "IMY2olqJJBF2"
      },
      "execution_count": null,
      "outputs": []
    },
    {
      "cell_type": "markdown",
      "source": [
        "$$\n",
        "G = \\left\\{\\begin{array}\n",
        "1x_1 + 7x_2 +8x_3\\\\\n",
        "2x_1 + 2x2 + 2x_3\\\\\n",
        "4x_1 + 6x_2 + 7x_3\n",
        "\\end{array}\\right.\n",
        "$$"
      ],
      "metadata": {
        "id": "XI6pCyepIt2V"
      }
    },
    {
      "cell_type": "markdown",
      "source": [
        "Given the matrix below, display the output as a LaTeX markdown also express it as a system of linear combinations.\n"
      ],
      "metadata": {
        "id": "qyohPvzrIOus"
      }
    },
    {
      "cell_type": "code",
      "source": [
        "H = np.tril(G)\n",
        "H"
      ],
      "metadata": {
        "colab": {
          "base_uri": "https://localhost:8080/"
        },
        "id": "1yNmj5HEJFkB",
        "outputId": "5866bcc6-96d1-4251-9962-3a4cb63dcc29"
      },
      "execution_count": null,
      "outputs": [
        {
          "output_type": "execute_result",
          "data": {
            "text/plain": [
              "array([[1, 0, 0],\n",
              "       [2, 2, 0],\n",
              "       [4, 6, 7]])"
            ]
          },
          "metadata": {},
          "execution_count": 96
        }
      ]
    },
    {
      "cell_type": "markdown",
      "source": [
        "# Matrix Algebra"
      ],
      "metadata": {
        "id": "VR4OmWb7I46F"
      }
    },
    {
      "cell_type": "markdown",
      "source": [
        "###Addition"
      ],
      "metadata": {
        "id": "4vcLRC9eJl-S"
      }
    },
    {
      "cell_type": "markdown",
      "source": [
        "Addition of Matrices operation requires that both matrices have the same dimensions. With this function, the components of the matrices are summed up element-wise creating an output with the same dimensions as the matrices used [10]. "
      ],
      "metadata": {
        "id": "tdtW5RVSxHMi"
      }
    },
    {
      "cell_type": "code",
      "source": [
        "M = np.array([\n",
        "              [11, 19],\n",
        "              [12, -6],\n",
        "              [-3, 11]\n",
        "])\n",
        "\n",
        "E = np.array([\n",
        "              [-2, -9],\n",
        "              [-3, 18],\n",
        "              [-7, 13]\n",
        "])\n",
        "M+E"
      ],
      "metadata": {
        "colab": {
          "base_uri": "https://localhost:8080/"
        },
        "id": "dFjUbGuOJOmT",
        "outputId": "45e228d4-d88a-48f0-8d90-6360ab5e9a34"
      },
      "execution_count": null,
      "outputs": [
        {
          "output_type": "execute_result",
          "data": {
            "text/plain": [
              "array([[  9,  10],\n",
              "       [  9,  12],\n",
              "       [-10,  24]])"
            ]
          },
          "metadata": {},
          "execution_count": 81
        }
      ]
    },
    {
      "cell_type": "code",
      "source": [
        "3+M*E ##Broadcasting\n",
        "# 3*np.ones(A.shape)+A"
      ],
      "metadata": {
        "colab": {
          "base_uri": "https://localhost:8080/"
        },
        "id": "Wu9bjQJiJrs5",
        "outputId": "92093aaf-5d3b-44a2-cd6f-13bcce5e1036"
      },
      "execution_count": null,
      "outputs": [
        {
          "output_type": "execute_result",
          "data": {
            "text/plain": [
              "array([[ -19, -168],\n",
              "       [ -33, -105],\n",
              "       [  24,  146]])"
            ]
          },
          "metadata": {},
          "execution_count": 82
        }
      ]
    },
    {
      "cell_type": "markdown",
      "source": [
        "###Subtraction"
      ],
      "metadata": {
        "id": "xFoNZwChJ39u"
      }
    },
    {
      "cell_type": "markdown",
      "source": [
        "Similar to the addition of matrices, the subtraction of matrices operation requires that both matrices have the same dimensions. With this function, the components of the matrices are subtracted element-wise creating an output with the same dimensions as the matrices used. "
      ],
      "metadata": {
        "id": "ZwRNpD8RxMAC"
      }
    },
    {
      "cell_type": "code",
      "source": [
        "Y = np.array([\n",
        "              [8, 4],\n",
        "              [2, 7],\n",
        "              [3, 9]\n",
        "])\n",
        "\n",
        "O = np.array([\n",
        "              [10, 12],\n",
        "              [12, 13],\n",
        "              [13, 14]\n",
        "])\n",
        "\n",
        "U = np.array([\n",
        "              [-2, -2],\n",
        "              [-1, -3],\n",
        "              [-3, -4]\n",
        "])\n",
        "2*Y-O-U"
      ],
      "metadata": {
        "colab": {
          "base_uri": "https://localhost:8080/"
        },
        "id": "PBV-sXeKJ6jL",
        "outputId": "f7da1eee-bc07-40b0-cefe-79e2e6866d56"
      },
      "execution_count": null,
      "outputs": [
        {
          "output_type": "execute_result",
          "data": {
            "text/plain": [
              "array([[ 8, -2],\n",
              "       [-7,  4],\n",
              "       [-4,  8]])"
            ]
          },
          "metadata": {},
          "execution_count": 83
        }
      ]
    },
    {
      "cell_type": "code",
      "source": [
        "9-M*O ##Broadcasting\n",
        "# 9*np.ones(M.shape)-M"
      ],
      "metadata": {
        "colab": {
          "base_uri": "https://localhost:8080/"
        },
        "id": "nW_JJm-lKCWF",
        "outputId": "3d4e28c9-7a9b-47b8-f587-67cdca0ec4dc"
      },
      "execution_count": null,
      "outputs": [
        {
          "output_type": "execute_result",
          "data": {
            "text/plain": [
              "array([[-101, -219],\n",
              "       [-135,   87],\n",
              "       [  48, -145]])"
            ]
          },
          "metadata": {},
          "execution_count": 84
        }
      ]
    },
    {
      "cell_type": "markdown",
      "source": [
        "##Element-wise Multiplication"
      ],
      "metadata": {
        "id": "rx5d5x5kKHdc"
      }
    },
    {
      "cell_type": "markdown",
      "source": [
        "Element-wise multiplication of matrices operation requires that both matrices have the same dimensions. With this function, the components of the matrices are multiplied element-wise creating an output with the same dimensions as the matrices used [11]. "
      ],
      "metadata": {
        "id": "TJuCqka5xO-8"
      }
    },
    {
      "cell_type": "code",
      "source": [
        "M*E\n",
        "np.multiply(M,E)"
      ],
      "metadata": {
        "colab": {
          "base_uri": "https://localhost:8080/"
        },
        "id": "-xNMxUuDKK2b",
        "outputId": "0158c67f-5a15-4bb6-93c7-657ed6f4aa1f"
      },
      "execution_count": null,
      "outputs": [
        {
          "output_type": "execute_result",
          "data": {
            "text/plain": [
              "array([[ -22, -171],\n",
              "       [ -36, -108],\n",
              "       [  21,  143]])"
            ]
          },
          "metadata": {},
          "execution_count": 85
        }
      ]
    },
    {
      "cell_type": "code",
      "source": [
        "2*Y*O*U"
      ],
      "metadata": {
        "colab": {
          "base_uri": "https://localhost:8080/"
        },
        "id": "8khvwqnZKXaP",
        "outputId": "2f4d9df5-1a79-4105-c110-a3f587e9dbcf"
      },
      "execution_count": null,
      "outputs": [
        {
          "output_type": "execute_result",
          "data": {
            "text/plain": [
              "array([[ -320,  -192],\n",
              "       [  -48,  -546],\n",
              "       [ -234, -1008]])"
            ]
          },
          "metadata": {},
          "execution_count": 86
        }
      ]
    },
    {
      "cell_type": "code",
      "source": [
        "2*M*E"
      ],
      "metadata": {
        "id": "YJLiLxEiJvF3",
        "outputId": "5d80c9d7-fb06-42bc-ec1d-661d7a399a4a",
        "colab": {
          "base_uri": "https://localhost:8080/"
        }
      },
      "execution_count": null,
      "outputs": [
        {
          "output_type": "execute_result",
          "data": {
            "text/plain": [
              "array([[ -44, -342],\n",
              "       [ -72, -216],\n",
              "       [  42,  286]])"
            ]
          },
          "metadata": {},
          "execution_count": 87
        }
      ]
    },
    {
      "cell_type": "code",
      "source": [
        "alpha=3**-11\n",
        "M/(alpha+E)\n"
      ],
      "metadata": {
        "id": "rE0xlEulKD_d",
        "colab": {
          "base_uri": "https://localhost:8080/"
        },
        "outputId": "905f850f-9627-43a2-cae4-ca93f9bdc740"
      },
      "execution_count": null,
      "outputs": [
        {
          "output_type": "execute_result",
          "data": {
            "text/plain": [
              "array([[-5.50001552, -2.11111244],\n",
              "       [-4.00000753, -0.33333323],\n",
              "       [ 0.42857177,  0.84615348]])"
            ]
          },
          "metadata": {},
          "execution_count": 88
        }
      ]
    },
    {
      "cell_type": "code",
      "source": [
        "np.add(Y,O,U)"
      ],
      "metadata": {
        "id": "6i_HJQusKEH9",
        "colab": {
          "base_uri": "https://localhost:8080/"
        },
        "outputId": "5f34eacd-5c06-4903-e31f-737926ae9d27"
      },
      "execution_count": null,
      "outputs": [
        {
          "output_type": "execute_result",
          "data": {
            "text/plain": [
              "array([[18, 16],\n",
              "       [14, 20],\n",
              "       [16, 23]])"
            ]
          },
          "metadata": {},
          "execution_count": 89
        }
      ]
    },
    {
      "cell_type": "markdown",
      "source": [
        "# Activity"
      ],
      "metadata": {
        "id": "goY776NQKFS_"
      }
    },
    {
      "cell_type": "markdown",
      "source": [
        "### Task 1\n"
      ],
      "metadata": {
        "id": "wC1O1a-3KIB9"
      }
    },
    {
      "cell_type": "markdown",
      "source": [
        "Task 1 is all about the application of most of what has been conducted in this experiment mainly the categorization of matrices as the researchers created their own program that determined a given matrix’s shape, size, rank, whether or not it is a square matrix, whether or not it is an empty matrix, whether or not it is an identity matrix, whether or not it is a ones matrix, and whether or not it is a zeros matrix."
      ],
      "metadata": {
        "id": "0xkBjh-QOG0K"
      }
    },
    {
      "cell_type": "code",
      "source": [
        "import numpy as np\n",
        "import matplotlib.pyplot as plt\n",
        "import scipy.linalg as la\n",
        "%matplotlib inline"
      ],
      "metadata": {
        "id": "I3iAbKIsOOJC"
      },
      "execution_count": null,
      "outputs": []
    },
    {
      "cell_type": "code",
      "source": [
        "def mat_desc(matrix):\n",
        "  print(f'Matrix:\\n{matrix}\\n\\nShape:\\t{matrix.shape}\\nSize:\\t{matrix.size}\\nRank:\\t{matrix.ndim}\\n')\n",
        "\n",
        "  [r,c] = matrix.shape\n",
        "  if r == c:\n",
        "     print(\"Matrix is a Square Matrix\")\n",
        "  else:\n",
        "     print(\"Matrix is Not a Square Matrix\")\n",
        "\n",
        "  Emat = not np.any\n",
        "  if Emat:\n",
        "    print(\"Matrix is Empty\")\n",
        "  else:\n",
        "    print(\"Matrix is Not Empty\")\n",
        "\n",
        "  result=True\n",
        "  for r in range(len(matrix)):\n",
        "    for c in range(len(matrix[0])):\n",
        "        if r == c and matrix[r][c] != 1:\n",
        "            result=False\n",
        "        elif r != c and matrix[r][c]!=0:\n",
        "            result=False\n",
        "\n",
        "  if result==True:\n",
        "    print(\"Matrix is an Identity Matrix\")\n",
        "  else:\n",
        "    print(\"Matrix is not an Identity Matrix\")\n",
        "\n",
        "  MM = matrix\n",
        "  OM = np.all((MM == 1))\n",
        "  if OM:\n",
        "    print(\"Matrix is a Ones Matrix\")\n",
        "  else:\n",
        "    print(\"Matrix is not a Ones Matrix\")\n",
        "  ZM = np.all((MM == 0))\n",
        "  if ZM:\n",
        "    print(\"Matrix is a Zero Matrix\")\n",
        "  else: \n",
        "    print(\"Matrix is not a Zero Matrix\")"
      ],
      "metadata": {
        "id": "XHFw7eQBOOVC"
      },
      "execution_count": null,
      "outputs": []
    },
    {
      "cell_type": "code",
      "source": [
        "A = np.array([\n",
        "    [1+2,2,5,4-1],\n",
        "    [3,4,12-5, 9-1],\n",
        "    [4,5*2, 16-7, 1+9],\n",
        "    [1,1**2, 1+0, 21-20]          \n",
        "])\n",
        "\n",
        "mat_desc(A)"
      ],
      "metadata": {
        "id": "2E32AXJcOObS",
        "colab": {
          "base_uri": "https://localhost:8080/"
        },
        "outputId": "8a08742e-a3a5-408e-8de1-b3686d0efe1d"
      },
      "execution_count": null,
      "outputs": [
        {
          "output_type": "stream",
          "name": "stdout",
          "text": [
            "Matrix:\n",
            "[[ 3  2  5  3]\n",
            " [ 3  4  7  8]\n",
            " [ 4 10  9 10]\n",
            " [ 1  1  1  1]]\n",
            "\n",
            "Shape:\t(4, 4)\n",
            "Size:\t16\n",
            "Rank:\t2\n",
            "\n",
            "Matrix is a Square Matrix\n",
            "Matrix is Not Empty\n",
            "Matrix is not an Identity Matrix\n",
            "Matrix is not a Ones Matrix\n",
            "Matrix is not a Zero Matrix\n"
          ]
        }
      ]
    },
    {
      "cell_type": "code",
      "source": [
        "B = np.array([\n",
        "    [1,1,1,1,1],\n",
        "    [1,1,1,1,1],\n",
        "    [1,1,1,1,1],\n",
        "    [1,1,1,1,1]          \n",
        "])\n",
        "\n",
        "mat_desc(B)"
      ],
      "metadata": {
        "id": "GzstP8wL0dsD",
        "colab": {
          "base_uri": "https://localhost:8080/"
        },
        "outputId": "ad0a4fc1-e8ef-467a-843e-f760a2214364"
      },
      "execution_count": null,
      "outputs": [
        {
          "output_type": "stream",
          "name": "stdout",
          "text": [
            "Matrix:\n",
            "[[1 1 1 1 1]\n",
            " [1 1 1 1 1]\n",
            " [1 1 1 1 1]\n",
            " [1 1 1 1 1]]\n",
            "\n",
            "Shape:\t(4, 5)\n",
            "Size:\t20\n",
            "Rank:\t2\n",
            "\n",
            "Matrix is Not a Square Matrix\n",
            "Matrix is Not Empty\n",
            "Matrix is not an Identity Matrix\n",
            "Matrix is a Ones Matrix\n",
            "Matrix is not a Zero Matrix\n"
          ]
        }
      ]
    },
    {
      "cell_type": "code",
      "source": [
        "C = np.array([\n",
        "    [1,0,0,0,0,0],\n",
        "    [0,1,0,0,0,0],\n",
        "    [0,0,1,0,0,0],\n",
        "    [0,0,0,1,0,0],\n",
        "    [0,0,0,0,1,0],\n",
        "    [0,0,0,0,0,1]          \n",
        "])\n",
        "\n",
        "mat_desc(C)"
      ],
      "metadata": {
        "id": "1inbxyNc0gFA",
        "colab": {
          "base_uri": "https://localhost:8080/"
        },
        "outputId": "878eb015-8167-4ddf-88a6-db5819962f16"
      },
      "execution_count": null,
      "outputs": [
        {
          "output_type": "stream",
          "name": "stdout",
          "text": [
            "Matrix:\n",
            "[[1 0 0 0 0 0]\n",
            " [0 1 0 0 0 0]\n",
            " [0 0 1 0 0 0]\n",
            " [0 0 0 1 0 0]\n",
            " [0 0 0 0 1 0]\n",
            " [0 0 0 0 0 1]]\n",
            "\n",
            "Shape:\t(6, 6)\n",
            "Size:\t36\n",
            "Rank:\t2\n",
            "\n",
            "Matrix is a Square Matrix\n",
            "Matrix is Not Empty\n",
            "Matrix is an Identity Matrix\n",
            "Matrix is not a Ones Matrix\n",
            "Matrix is not a Zero Matrix\n"
          ]
        }
      ]
    },
    {
      "cell_type": "markdown",
      "source": [
        "###Task 2\n"
      ],
      "metadata": {
        "id": "kw_Jar7M2p7g"
      }
    },
    {
      "cell_type": "markdown",
      "source": [
        "Task 2 performs matrix algebra that researchers in this experiment previously did. This program displays the two matrices provided by the researchers and determines whether the two given matrices were viable for operations or not. Once the two matrices are possible for operation, this program then performs application, subtraction, element-wise multiplication, and element-wise division of the two matrices given."
      ],
      "metadata": {
        "id": "cJSPiFKOKNA2"
      }
    },
    {
      "cell_type": "code",
      "source": [
        "import numpy as np\n",
        "import matplotlib.pyplot as plt\n",
        "import scipy.linalg as la\n",
        "%matplotlib inline\n",
        "\n",
        "def mat_operations(matA, matB):\n",
        "    matA = np.array(matA)\n",
        "    matB = np.array(matB)\n",
        "    print(f'Matrix A:\\n{matA}\\n')\n",
        "    print(f'Matrix B:\\n{matB}\\n')\n",
        "    if(matA.shape != matB.shape):\n",
        "        print('Matrix A and Matrix B are not viable for operations.')\n",
        "    else:\n",
        "      print('Sum of Matrix A and Matrix B:')\n",
        "      matsum = matA + matB\n",
        "      print(matsum)\n",
        "      print('Difference of Matrix A and Matrix B:')\n",
        "      matdiff = matA - matB\n",
        "      print(matdiff)\n",
        "      print('Element-wise Multiplication of Matrix A and Matrix B:')\n",
        "      matmul = np.multiply(matA, matB)\n",
        "      print(matmul)\n",
        "      print('Element-wise Division of Matrix A and Matrix B:')\n",
        "      mmul = np.divide(matA, matB)\n",
        "      print(mmul)"
      ],
      "metadata": {
        "id": "PRt0Up4n24Gj"
      },
      "execution_count": null,
      "outputs": []
    },
    {
      "cell_type": "code",
      "source": [
        "matA = np.array([\n",
        "                 [11, 19, 20],\n",
        "                 [23, 27, 21],\n",
        "                 [20, 24, 23],\n",
        "                 [12, 25, 14]\n",
        "])\n",
        "\n",
        "matB = np.array([\n",
        "                 [12, 19, 21, 18, 24],\n",
        "                 [6, 11, 22, 29, 26],\n",
        "                 [3, 11, 20, 24, 18]\n",
        "])\n",
        "mat_operations(matA, matB)"
      ],
      "metadata": {
        "colab": {
          "base_uri": "https://localhost:8080/"
        },
        "id": "af9MIAhhLZsV",
        "outputId": "c7960090-d15b-4a48-98cb-74c5b84f799e"
      },
      "execution_count": null,
      "outputs": [
        {
          "output_type": "stream",
          "name": "stdout",
          "text": [
            "Matrix A:\n",
            "[[11 19 20]\n",
            " [23 27 21]\n",
            " [20 24 23]\n",
            " [12 25 14]]\n",
            "\n",
            "Matrix B:\n",
            "[[12 19 21 18 24]\n",
            " [ 6 11 22 29 26]\n",
            " [ 3 11 20 24 18]]\n",
            "\n",
            "Matrix A and Matrix B are not viable for operations.\n"
          ]
        }
      ]
    },
    {
      "cell_type": "code",
      "source": [
        "matA = np.array([\n",
        "                 [20, 19+5, 12*2],\n",
        "                 [2*4, 27-3, 21+7],\n",
        "                 [2*14, 24-1, 23+3]\n",
        "])\n",
        "\n",
        "matB = np.array([\n",
        "                 [12*3, 90-64, 3**3],\n",
        "                 [6+16, 11*3, 22+23],\n",
        "                 [3*5*2, 11+26-3, 20*5-50]\n",
        "])\n",
        "mat_operations(matA, matB)"
      ],
      "metadata": {
        "colab": {
          "base_uri": "https://localhost:8080/"
        },
        "id": "fNP4w871Q0_8",
        "outputId": "2ca53d69-517c-4267-cde0-4582443125b4"
      },
      "execution_count": null,
      "outputs": [
        {
          "output_type": "stream",
          "name": "stdout",
          "text": [
            "Matrix A:\n",
            "[[20 24 24]\n",
            " [ 8 24 28]\n",
            " [28 23 26]]\n",
            "\n",
            "Matrix B:\n",
            "[[36 26 27]\n",
            " [22 33 45]\n",
            " [30 34 50]]\n",
            "\n",
            "Sum of Matrix A and Matrix B:\n",
            "[[56 50 51]\n",
            " [30 57 73]\n",
            " [58 57 76]]\n",
            "Difference of Matrix A and Matrix B:\n",
            "[[-16  -2  -3]\n",
            " [-14  -9 -17]\n",
            " [ -2 -11 -24]]\n",
            "Element-wise Multiplication of Matrix A and Matrix B:\n",
            "[[ 720  624  648]\n",
            " [ 176  792 1260]\n",
            " [ 840  782 1300]]\n",
            "Element-wise Division of Matrix A and Matrix B:\n",
            "[[0.55555556 0.92307692 0.88888889]\n",
            " [0.36363636 0.72727273 0.62222222]\n",
            " [0.93333333 0.67647059 0.52      ]]\n"
          ]
        }
      ]
    },
    {
      "cell_type": "code",
      "source": [
        "matA = np.array([\n",
        "                 [23-10, 2*8, 45-23, 74-60],\n",
        "                 [15+7, 27-2, 2*9, 2**4],\n",
        "                 [20-3, 24+4, 3**3, 16+8],\n",
        "                 [87-36, 3**2, 4**2, 14+16]\n",
        "])\n",
        "\n",
        "matB = np.array([\n",
        "                 [12-6, 19-8, 2*5, 6+2],\n",
        "                 [6+15, 11*1, 2**2, 65-60],\n",
        "                 [3*5, 11+12, 40-20, 4*2],\n",
        "                 [4**2, 16-8, 3*2, 2**4]\n",
        "])\n",
        "mat_operations(matA, matB)"
      ],
      "metadata": {
        "colab": {
          "base_uri": "https://localhost:8080/"
        },
        "id": "McVzoUmHOgxf",
        "outputId": "dad8bbcf-e5d4-4ab0-febd-be438fdaf015"
      },
      "execution_count": null,
      "outputs": [
        {
          "output_type": "stream",
          "name": "stdout",
          "text": [
            "Matrix A:\n",
            "[[13 16 22 14]\n",
            " [22 25 18 16]\n",
            " [17 28 27 24]\n",
            " [51  9 16 30]]\n",
            "\n",
            "Matrix B:\n",
            "[[ 6 11 10  8]\n",
            " [21 11  4  5]\n",
            " [15 23 20  8]\n",
            " [16  8  6 16]]\n",
            "\n",
            "Sum of Matrix A and Matrix B:\n",
            "[[19 27 32 22]\n",
            " [43 36 22 21]\n",
            " [32 51 47 32]\n",
            " [67 17 22 46]]\n",
            "Difference of Matrix A and Matrix B:\n",
            "[[ 7  5 12  6]\n",
            " [ 1 14 14 11]\n",
            " [ 2  5  7 16]\n",
            " [35  1 10 14]]\n",
            "Element-wise Multiplication of Matrix A and Matrix B:\n",
            "[[ 78 176 220 112]\n",
            " [462 275  72  80]\n",
            " [255 644 540 192]\n",
            " [816  72  96 480]]\n",
            "Element-wise Division of Matrix A and Matrix B:\n",
            "[[2.16666667 1.45454545 2.2        1.75      ]\n",
            " [1.04761905 2.27272727 4.5        3.2       ]\n",
            " [1.13333333 1.2173913  1.35       3.        ]\n",
            " [3.1875     1.125      2.66666667 1.875     ]]\n"
          ]
        }
      ]
    }
  ]
}