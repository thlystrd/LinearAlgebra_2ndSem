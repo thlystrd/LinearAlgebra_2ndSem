{
  "nbformat": 4,
  "nbformat_minor": 0,
  "metadata": {
    "kernelspec": {
      "display_name": "Python 3",
      "language": "python",
      "name": "python3"
    },
    "language_info": {
      "codemirror_mode": {
        "name": "ipython",
        "version": 3
      },
      "file_extension": ".py",
      "mimetype": "text/x-python",
      "name": "python",
      "nbconvert_exporter": "python",
      "pygments_lexer": "ipython3",
      "version": "3.8.3"
    },
    "colab": {
      "name": "Assignment 9",
      "provenance": [],
      "collapsed_sections": [
        "DQhfqdq_Hs4l",
        "py5fQQAbgkNc",
        "j04WSo4YHs4z"
      ],
      "include_colab_link": true
    }
  },
  "cells": [
    {
      "cell_type": "markdown",
      "metadata": {
        "id": "view-in-github",
        "colab_type": "text"
      },
      "source": [
        "<a href=\"https://colab.research.google.com/github/thlystrd/LinearAlgebra_2ndsem/blob/main/Assignment_9.ipynb\" target=\"_parent\"><img src=\"https://colab.research.google.com/assets/colab-badge.svg\" alt=\"Open In Colab\"/></a>"
      ]
    },
    {
      "cell_type": "markdown",
      "metadata": {
        "id": "SLUubLCzHs4V"
      },
      "source": [
        "# Linear Algebra for ChE\n",
        "## Laboratory 4 - Plotting Vector using NumPy and MatPlotLib"
      ]
    },
    {
      "cell_type": "markdown",
      "metadata": {
        "id": "QSDFae7hHs4Z"
      },
      "source": [
        "In this laboratory we will be discussing the basics of numerical and scientific programming by working with Vectors using NumPy and MatPlotLib."
      ]
    },
    {
      "cell_type": "markdown",
      "metadata": {
        "id": "Wg4cezD8Hs4b"
      },
      "source": [
        "### Objectives\n",
        "Once accomplished, the researchers are anticipated to\n",
        "1.   Describe and represent the vectors accordingly.\n",
        "2.   Execute different operations in vector matrices without any difficulties.\n",
        "3. Plot and visualize vectors through coding in Python programming."
      ]
    },
    {
      "cell_type": "markdown",
      "metadata": {
        "id": "UQD7DoC2Hs4b"
      },
      "source": [
        "## Discussion"
      ]
    },
    {
      "cell_type": "markdown",
      "metadata": {
        "id": "A6grbAIbHs4c"
      },
      "source": [
        "#### NumPy"
      ]
    },
    {
      "cell_type": "markdown",
      "metadata": {
        "id": "xY4puSv4Hs4d"
      },
      "source": [
        "Numerical Python, or most commonly known as NumPy, is a public library in python that is used for mathematical operations such as linear algebra problems like arrays, matrices, and scalars & vectors [1]. Scalar quantities are quantities that only have a magnitude whereas vector quantities are quantities that have a magnitude and a direction [2]."
      ]
    },
    {
      "cell_type": "markdown",
      "metadata": {
        "id": "OXixP-e6Hs4d"
      },
      "source": [
        "#### Representing Vectors"
      ]
    },
    {
      "cell_type": "markdown",
      "metadata": {
        "id": "y-nXPTTuHs4e"
      },
      "source": [
        "In the most basic sense, a vector is a single-dimensional array. In Python, a vector is a one-dimensional array of lists [3]. A vector can either be represented in a horizontal form named horizontal vector in which is it an array that occupies one line, or a vectical vector in a vertical form which is shown as a list type. As an example, the vector given below has its own horizontal and vertical form."
      ]
    },
    {
      "cell_type": "markdown",
      "metadata": {
        "id": "LlEfOzbtHs4e"
      },
      "source": [
        "$$ KAKAMBREAD = 3\\hat{x} + 4\\hat{y} \\\\\n",
        "KAKAMBRIDGE = 5\\hat{x} + 2\\hat{y}\\\\\n",
        "KAKAMRICE = 5\\hat{x} + 7\\hat{y} \\\\\n",
        "PINKTILIZER = -5\\hat{x} - 9\\hat{y}$$"
      ]
    },
    {
      "cell_type": "markdown",
      "metadata": {
        "id": "l6LHUvnRHs4f"
      },
      "source": [
        "The matrix of the vector represented in a horizontal form:\n",
        "$$ KAKAMBREAD = \\begin{bmatrix} 3 & 4\\end{bmatrix} , KAKAMBRIDGE = \\begin{bmatrix} 5 & 2\\end{bmatrix} , KAKAMRICE = \\begin{bmatrix} 5 & 7\\end{bmatrix} , PINKTILIZER = \\begin{bmatrix} -5 & -9\\end{bmatrix} \n",
        "$$"
      ]
    },
    {
      "cell_type": "markdown",
      "metadata": {
        "id": "YKAjjPnYHs4g"
      },
      "source": [
        "The matrix of the vector represented in a vertical form: \n",
        "\n",
        "$$ KAKAMBREAD = \\begin{bmatrix} 3 \\\\ 4\\end{bmatrix} , KAKAMBRIDGE = \\begin{bmatrix} 5 \\\\ 2\\end{bmatrix} , KAKAMRICE = \\begin{bmatrix} 5 \\\\ 7\\end{bmatrix}, PINKTILIZER = \\begin{bmatrix} -5 \\\\ -9\\end{bmatrix}\n",
        "$$\n"
      ]
    },
    {
      "cell_type": "code",
      "metadata": {
        "id": "Vi6yz53gHs4h"
      },
      "source": [
        "import numpy as np "
      ],
      "execution_count": 5,
      "outputs": []
    },
    {
      "cell_type": "code",
      "metadata": {
        "colab": {
          "base_uri": "https://localhost:8080/"
        },
        "id": "KGr4fBg0Hs4j",
        "outputId": "cb240e10-77f8-4359-a8d8-963f516f3231"
      },
      "source": [
        "KAKAMBREAD = np.array([3, 4])\n",
        "KAKAMBRIDGE = np.array([5, 2])\n",
        "KAKAMRICE = np.array([5, 7])\n",
        "PINKTILIZER = np.array ([[-5],\n",
        "                             [-9]])\n",
        "print('Vector KAKAMBREAD is ', KAKAMBREAD)\n",
        "print('Vector KAKAMBRIDGE is ', KAKAMBRIDGE)\n",
        "print('Vector KAKAMRICE is ', KAKAMRICE)\n",
        "print('Vector PINKTILIZER is \\n', PINKTILIZER)"
      ],
      "execution_count": 10,
      "outputs": [
        {
          "output_type": "stream",
          "name": "stdout",
          "text": [
            "Vector KAKAMBREAD is  [3 4]\n",
            "Vector KAKAMBRIDGE is  [5 2]\n",
            "Vector KAKAMRICE is  [5 7]\n",
            "Vector PINKTILIZER is \n",
            " [[-5]\n",
            " [-9]]\n"
          ]
        }
      ]
    },
    {
      "cell_type": "markdown",
      "metadata": {
        "id": "DQhfqdq_Hs4l"
      },
      "source": [
        "#### Describing vectors in NumPy"
      ]
    },
    {
      "cell_type": "markdown",
      "metadata": {
        "id": "fzU-jDHoHs4m"
      },
      "source": [
        "Describing vectors through the use of NumPy functions is a way of determining a vector's shape, size, and dimensions. A vector is typically a one-dimensional array [3]. \n",
        "\n"
      ]
    },
    {
      "cell_type": "code",
      "metadata": {
        "colab": {
          "base_uri": "https://localhost:8080/"
        },
        "id": "HRz2gx6JHs4n",
        "outputId": "74ae30ee-7e6a-4a6e-a2ef-d96851585e0e"
      },
      "source": [
        "MALENS = np.array([[12, 5, 14, -9],\n",
        "                  [1, 0, -1, -0]])\n",
        "MALENS.shape"
      ],
      "execution_count": 42,
      "outputs": [
        {
          "output_type": "execute_result",
          "data": {
            "text/plain": [
              "(2, 4)"
            ]
          },
          "metadata": {},
          "execution_count": 42
        }
      ]
    },
    {
      "cell_type": "code",
      "metadata": {
        "colab": {
          "base_uri": "https://localhost:8080/"
        },
        "id": "dlDEokrAHs4o",
        "outputId": "134fbc45-af6c-4419-e4b5-fe850ab9cf87"
      },
      "source": [
        "MALENS.size"
      ],
      "execution_count": 43,
      "outputs": [
        {
          "output_type": "execute_result",
          "data": {
            "text/plain": [
              "8"
            ]
          },
          "metadata": {},
          "execution_count": 43
        }
      ]
    },
    {
      "cell_type": "code",
      "metadata": {
        "colab": {
          "base_uri": "https://localhost:8080/"
        },
        "id": "lwAQGA_JHs4p",
        "outputId": "c84fcd1a-e966-47ad-812c-b76a727dcfcc"
      },
      "source": [
        "MALENS.ndim"
      ],
      "execution_count": 44,
      "outputs": [
        {
          "output_type": "execute_result",
          "data": {
            "text/plain": [
              "2"
            ]
          },
          "metadata": {},
          "execution_count": 44
        }
      ]
    },
    {
      "cell_type": "markdown",
      "source": [
        "#### Vector Operations\n",
        "\n",
        "There are four (4) basic operations that can be performed using the Python Program and these are:\n",
        "1. Addition\n",
        "2. Subtraction\n",
        "3. Multiplication\n",
        "4. Division"
      ],
      "metadata": {
        "id": "py5fQQAbgkNc"
      }
    },
    {
      "cell_type": "markdown",
      "metadata": {
        "id": "tMdCFWyUHs4r"
      },
      "source": [
        "##### Addition"
      ]
    },
    {
      "cell_type": "markdown",
      "metadata": {
        "id": "OjVFwq6iHs4r"
      },
      "source": [
        "The addition operation on vectors is done by addition two or more compatible matrices in order to obtain the sum of the following. As an example, vectors $KAKAMBREAD$ and $KAKAMBRIDGE$ are added into each other to acquire vector $KIKO$."
      ]
    },
    {
      "cell_type": "markdown",
      "metadata": {
        "id": "9zUtJ7oEHs4s"
      },
      "source": [
        "$$KIKO = 8\\hat{x} +6\\hat{y} \\\\ \\\\or \\\\ \\\\ KIKO = \\begin{bmatrix} 8 \\\\ 6\\end{bmatrix} $$"
      ]
    },
    {
      "cell_type": "code",
      "metadata": {
        "id": "X1D_izU4Hs4t",
        "colab": {
          "base_uri": "https://localhost:8080/"
        },
        "outputId": "c8149ec9-b653-4d99-ed67-012331e42b1a"
      },
      "source": [
        "KIKO = np.add(KAKAMBREAD, KAKAMBRIDGE)\n",
        "KIKO"
      ],
      "execution_count": 45,
      "outputs": [
        {
          "output_type": "execute_result",
          "data": {
            "text/plain": [
              "array([8, 6])"
            ]
          },
          "metadata": {},
          "execution_count": 45
        }
      ]
    },
    {
      "cell_type": "code",
      "metadata": {
        "colab": {
          "base_uri": "https://localhost:8080/"
        },
        "id": "jzH3b6dtHs4t",
        "outputId": "87d85e8f-a1bf-4761-f634-ef47b08c6cf5"
      },
      "source": [
        "KIKO = KAKAMBREAD + KAKAMBRIDGE   \n",
        "KIKO"
      ],
      "execution_count": 46,
      "outputs": [
        {
          "output_type": "execute_result",
          "data": {
            "text/plain": [
              "array([8, 6])"
            ]
          },
          "metadata": {},
          "execution_count": 46
        }
      ]
    },
    {
      "cell_type": "markdown",
      "metadata": {
        "id": "CuAeF55ZHs4u"
      },
      "source": [
        "##### Subtraction"
      ]
    },
    {
      "cell_type": "markdown",
      "metadata": {
        "id": "oeSxmIS8Hs4v"
      },
      "source": [
        "The subtraction operation is done by subtracting the vectors from each other element-wise wherein the length of the resultant vector would be difference in the operation. An example of this is by subtracting vector $KAKAMBREAD$ minus vector $KAKAMBRIDGE$."
      ]
    },
    {
      "cell_type": "code",
      "metadata": {
        "id": "g4-WGjUvHs4v",
        "colab": {
          "base_uri": "https://localhost:8080/"
        },
        "outputId": "4c43950a-4f3a-4bd6-ebc6-9b0d59672770"
      },
      "source": [
        "CHEL = np.subtract(KAKAMBREAD, KAKAMBRIDGE)\n",
        "CHEL\n"
      ],
      "execution_count": 48,
      "outputs": [
        {
          "output_type": "execute_result",
          "data": {
            "text/plain": [
              "array([-2,  2])"
            ]
          },
          "metadata": {},
          "execution_count": 48
        }
      ]
    },
    {
      "cell_type": "code",
      "source": [
        "CHEL = KAKAMBREAD - KAKAMBRIDGE\n",
        "CHEL"
      ],
      "metadata": {
        "colab": {
          "base_uri": "https://localhost:8080/"
        },
        "id": "eNnFwRdWWR-P",
        "outputId": "653af74f-2ceb-40a6-c5b7-e63b465a9269"
      },
      "execution_count": 50,
      "outputs": [
        {
          "output_type": "execute_result",
          "data": {
            "text/plain": [
              "array([-2,  2])"
            ]
          },
          "metadata": {},
          "execution_count": 50
        }
      ]
    },
    {
      "cell_type": "markdown",
      "source": [
        "#####Multiplication"
      ],
      "metadata": {
        "id": "zw9xEyvEWiXf"
      }
    },
    {
      "cell_type": "markdown",
      "source": [
        "The multiplication operation on vectors is done by multiplying two or more compatible matrices in order to obtain the product of the following. As an example, vectors $KAKAMRICE$ and $PINKTILIZER$ are multiplied into each other to acquire vector $RISA$."
      ],
      "metadata": {
        "id": "BC5GocXAWpki"
      }
    },
    {
      "cell_type": "code",
      "source": [
        "RISA = np.multiply(KAKAMRICE, PINKTILIZER)\n",
        "RISA"
      ],
      "metadata": {
        "colab": {
          "base_uri": "https://localhost:8080/"
        },
        "id": "IEZuP5NrWquJ",
        "outputId": "fe1da358-bbb0-4d1f-9f41-05f40dfc2c91"
      },
      "execution_count": 11,
      "outputs": [
        {
          "output_type": "execute_result",
          "data": {
            "text/plain": [
              "array([[-25, -35],\n",
              "       [-45, -63]])"
            ]
          },
          "metadata": {},
          "execution_count": 11
        }
      ]
    },
    {
      "cell_type": "code",
      "source": [
        "RISA = KAKAMRICE * PINKTILIZER\n",
        "RISA"
      ],
      "metadata": {
        "colab": {
          "base_uri": "https://localhost:8080/"
        },
        "id": "zBtYwPo3WzQe",
        "outputId": "8f19e388-60ec-469b-c746-2f9908ce5aec"
      },
      "execution_count": 12,
      "outputs": [
        {
          "output_type": "execute_result",
          "data": {
            "text/plain": [
              "array([[-25, -35],\n",
              "       [-45, -63]])"
            ]
          },
          "metadata": {},
          "execution_count": 12
        }
      ]
    },
    {
      "cell_type": "markdown",
      "source": [
        "#####Division"
      ],
      "metadata": {
        "id": "lEKsZkx8W5lj"
      }
    },
    {
      "cell_type": "markdown",
      "source": [
        "dwsdw"
      ],
      "metadata": {
        "id": "TXfmQzouW-ha"
      }
    },
    {
      "cell_type": "code",
      "source": [
        "NERI = np.divide (KAKAMBREAD, KAKAMRICE)\n",
        "NERI"
      ],
      "metadata": {
        "colab": {
          "base_uri": "https://localhost:8080/"
        },
        "id": "nD87LZEhW_fs",
        "outputId": "4bbc30bb-28f0-46d2-f987-fff27a286888"
      },
      "execution_count": 13,
      "outputs": [
        {
          "output_type": "execute_result",
          "data": {
            "text/plain": [
              "array([0.6       , 0.57142857])"
            ]
          },
          "metadata": {},
          "execution_count": 13
        }
      ]
    },
    {
      "cell_type": "code",
      "source": [
        "NERI = KAKAMBREAD/KAKAMRICE\n",
        "NERI"
      ],
      "metadata": {
        "colab": {
          "base_uri": "https://localhost:8080/"
        },
        "id": "lQOWzm5vXMJ4",
        "outputId": "ef51b769-dcf2-46b6-a17c-2b0904c1888d"
      },
      "execution_count": 14,
      "outputs": [
        {
          "output_type": "execute_result",
          "data": {
            "text/plain": [
              "array([0.6       , 0.57142857])"
            ]
          },
          "metadata": {},
          "execution_count": 14
        }
      ]
    },
    {
      "cell_type": "markdown",
      "metadata": {
        "id": "3otcBr7tHs4w"
      },
      "source": [
        "#### Scaling"
      ]
    },
    {
      "cell_type": "markdown",
      "metadata": {
        "id": "FVwvCklOHs4x"
      },
      "source": [
        "Scaling is also known as the Scalar Multipliplication which multiplies the scalar value or quantity given into all the elements of the vector matrix or matrices [4]. Given below is vector $ANGAT$ is an example:"
      ]
    },
    {
      "cell_type": "markdown",
      "metadata": {
        "id": "8el8_cMUHs4x"
      },
      "source": [
        "$$ANGAT = 10 \\cdot PINKTILIZER$$"
      ]
    },
    {
      "cell_type": "code",
      "metadata": {
        "colab": {
          "base_uri": "https://localhost:8080/"
        },
        "id": "QNruUX1pHs4y",
        "outputId": "37954165-c940-4ef1-fbe7-5e6ff8ef07df"
      },
      "source": [
        "ANGAT = np.multiply(10,PINKTILIZER)\n",
        "ANGAT"
      ],
      "execution_count": 55,
      "outputs": [
        {
          "output_type": "execute_result",
          "data": {
            "text/plain": [
              "array([-50, -90])"
            ]
          },
          "metadata": {},
          "execution_count": 55
        }
      ]
    },
    {
      "cell_type": "code",
      "source": [
        "BUHAY = np.multiply(10,(KAKAMRICE, KAKAMBRIDGE))\n",
        "BUHAY"
      ],
      "metadata": {
        "colab": {
          "base_uri": "https://localhost:8080/"
        },
        "id": "QFJ_I8txYNCD",
        "outputId": "84ebd1a5-2a15-48ca-e812-3c3051b87fed"
      },
      "execution_count": 58,
      "outputs": [
        {
          "output_type": "execute_result",
          "data": {
            "text/plain": [
              "array([[50, 70],\n",
              "       [50, 20]])"
            ]
          },
          "metadata": {},
          "execution_count": 58
        }
      ]
    },
    {
      "cell_type": "code",
      "source": [
        "LAHAT = np.multiply(10,(KAKAMRICE, KAKAMBRIDGE, KAKAMBREAD))\n",
        "LAHAT"
      ],
      "metadata": {
        "colab": {
          "base_uri": "https://localhost:8080/"
        },
        "id": "PESI1pIqYbDl",
        "outputId": "60110c74-4c15-46f0-f56d-a25d06a2ac90"
      },
      "execution_count": 59,
      "outputs": [
        {
          "output_type": "execute_result",
          "data": {
            "text/plain": [
              "array([[50, 70],\n",
              "       [50, 20],\n",
              "       [30, 40]])"
            ]
          },
          "metadata": {},
          "execution_count": 59
        }
      ]
    },
    {
      "cell_type": "markdown",
      "metadata": {
        "id": "j04WSo4YHs4z"
      },
      "source": [
        "#### MatPlotLib"
      ]
    },
    {
      "cell_type": "markdown",
      "metadata": {
        "id": "CP_9s8r-Hs4z"
      },
      "source": [
        "Matplotlib, commonly known as matplotlib.pyplot, is a Python plotting library that uses plt as a coding shortcut. It is a  library that aids in the viewing and analysis of data. This will aid in displaying the matrices."
      ]
    },
    {
      "cell_type": "markdown",
      "metadata": {
        "id": "ZM6_LZWWHs42"
      },
      "source": [
        "####Visualizing Data"
      ]
    },
    {
      "cell_type": "markdown",
      "metadata": {
        "id": "ziwIKGPHHs43"
      },
      "source": [
        "A vector can be plotted and visualized using the MatPlotLib. Visualizing vectors includes origin, data, colors and scale. A plot can considerably show the resultant, scale, magnitude, slope, and angle of the resultant vector while using the Head to Tail Method."
      ]
    },
    {
      "cell_type": "code",
      "metadata": {
        "id": "B2U78WnhHs43"
      },
      "source": [
        "import matplotlib.pyplot as plt\n",
        "import matplotlib\n",
        "%matplotlib inline"
      ],
      "execution_count": 65,
      "outputs": []
    },
    {
      "cell_type": "code",
      "metadata": {
        "colab": {
          "base_uri": "https://localhost:8080/",
          "height": 265
        },
        "id": "38rzjx3jXkK_",
        "outputId": "3456ba79-08f9-4a32-a5fc-f3fcadcf1afb"
      },
      "source": [
        "SHOT = [-10, -7]\n",
        "PUNO = [-7, -10]\n",
        "plt.scatter(SHOT[0], SHOT[1], label='SHOT', c='green')\n",
        "plt.scatter(PUNO[0], PUNO[1], label='PUNO', c='magenta')\n",
        "plt.grid()\n",
        "plt.legend()\n",
        "plt.show()"
      ],
      "execution_count": 68,
      "outputs": [
        {
          "output_type": "display_data",
          "data": {
            "text/plain": [
              "<Figure size 432x288 with 1 Axes>"
            ],
            "image/png": "[encoded data removed]"
          },
          "metadata": {
            "needs_background": "light"
          }
        }
      ]
    },
    {
      "cell_type": "code",
      "metadata": {
        "colab": {
          "base_uri": "https://localhost:8080/",
          "height": 348
        },
        "id": "KZgiMGCEZpJn",
        "outputId": "39db88f1-6fd0-4594-a9af-9bfa4838b287"
      },
      "source": [
        "AIK = np.array([-7, -10])\n",
        "DOC = np.array([-10, -7])\n",
        "JIL = AIK + DOC\n",
        "Magnitude = np.sqrt(np.sum(JIL**2))\n",
        "plt.title(\"Resultant Vector\\nMagnitude: {}\" .format(Magnitude))\n",
        "plt.xlim(7, -24)\n",
        "plt.ylim(7, -24)\n",
        "plt.quiver(0, 0, AIK[0], AIK[1], angles='xy', scale_units='xy', scale=1, color='green')\n",
        "plt.quiver(AIK[0], AIK[1], DOC[0], DOC[1], angles='xy', scale_units='xy', scale=1, color='magenta')\n",
        "plt.quiver(0, 0, JIL[0], JIL[1], angles='xy', scale_units='xy', scale=1, color='purple')\n",
        "plt.grid()\n",
        "plt.show()\n",
        "Slope = JIL[1]/JIL[0]\n",
        "Angle = (np.arctan(Slope))*(180/np.pi)\n",
        "print('Resultant: ',JIL)\n",
        "print('Slope: ',Slope)\n",
        "print('Angle: ',Angle)"
      ],
      "execution_count": 95,
      "outputs": [
        {
          "output_type": "display_data",
          "data": {
            "text/plain": [
              "<Figure size 432x288 with 1 Axes>"
            ],
            "image/png": "[encoded data removed]"
          },
          "metadata": {
            "needs_background": "light"
          }
        },
        {
          "output_type": "stream",
          "name": "stdout",
          "text": [
            "Resultant:  [-17 -17]\n",
            "Slope:  1.0\n",
            "Angle:  45.0\n"
          ]
        }
      ]
    },
    {
      "cell_type": "code",
      "metadata": {
        "id": "0NZnAZckHs44",
        "outputId": "8d309211-98e7-4897-c98e-de6dc0a5d0d2",
        "colab": {
          "base_uri": "https://localhost:8080/",
          "height": 265
        }
      },
      "source": [
        "JESS = AIK.shape[0]\n",
        "plt.xlim(7, -24)\n",
        "plt.ylim(7, -24)\n",
        "plt.quiver(0,0, AIK[0], AIK[1], angles='xy', scale_units='xy',scale=1)\n",
        "plt.quiver(AIK[0],AIK[1], DOC[0], DOC[1], angles='xy', scale_units='xy',scale=1)\n",
        "plt.quiver(0,0, JIL[0], JIL[1], angles='xy', scale_units='xy',scale=1)\n",
        "plt.show()"
      ],
      "execution_count": 97,
      "outputs": [
        {
          "output_type": "display_data",
          "data": {
            "text/plain": [
              "<Figure size 432x288 with 1 Axes>"
            ],
            "image/png": "[encoded data removed]"
          },
          "metadata": {
            "needs_background": "light"
          }
        }
      ]
    },
    {
      "cell_type": "code",
      "source": [
        "HELLO = np.array([-7, -10])\n",
        "PAGKAIN = np.array([-10, 7])\n",
        "BYE = HELLO + PAGKAIN\n",
        "GUTOM = np.array([17, -17])\n",
        "YEHEY = HELLO + PAGKAIN + GUTOM\n",
        "Magnitude = np.sqrt(np.sum(YEHEY**2))\n",
        "plt.title(\"Resultant Vector\\nMagnitude: {} \\n Resultant: {}\" .format(Magnitude, YEHEY))\n",
        "plt.xlim(10, -27)\n",
        "plt.ylim(10, -27)\n",
        "plt.quiver(0, 0, HELLO[0], HELLO[1], angles='xy', scale_units='xy', scale=1, color='pink')\n",
        "plt.quiver(HELLO[0], HELLO[1], PAGKAIN[0], PAGKAIN[1], angles='xy', scale_units='xy', scale=1, color='magenta')\n",
        "plt.quiver(BYE[0], BYE[1], GUTOM[0], GUTOM[1], angles='xy', scale_units='xy', scale=1, color='purple')\n",
        "plt.quiver(0, 0, YEHEY[0], YEHEY[1], angles='xy', scale_units='xy', scale=1, color='red')\n",
        "plt.grid()\n",
        "plt.show()"
      ],
      "metadata": {
        "colab": {
          "base_uri": "https://localhost:8080/",
          "height": 311
        },
        "id": "1Y81EoGJeAml",
        "outputId": "2b3494e2-f32a-4a2e-c55f-1f110fa3fe78"
      },
      "execution_count": 105,
      "outputs": [
        {
          "output_type": "display_data",
          "data": {
            "text/plain": [
              "<Figure size 432x288 with 1 Axes>"
            ],
            "image/png": "[encoded data removed]"
          },
          "metadata": {
            "needs_background": "light"
          }
        }
      ]
    }
  ]
}