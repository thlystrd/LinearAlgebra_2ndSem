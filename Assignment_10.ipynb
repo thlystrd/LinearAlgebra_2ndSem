{
  "nbformat": 4,
  "nbformat_minor": 0,
  "metadata": {
    "kernelspec": {
      "display_name": "Python 3",
      "language": "python",
      "name": "python3"
    },
    "language_info": {
      "codemirror_mode": {
        "name": "ipython",
        "version": 3
      },
      "file_extension": ".py",
      "mimetype": "text/x-python",
      "name": "python",
      "nbconvert_exporter": "python",
      "pygments_lexer": "ipython3",
      "version": "3.8.3"
    },
    "colab": {
      "name": "Assignment 10",
      "provenance": [],
      "collapsed_sections": [],
      "include_colab_link": true
    }
  },
  "cells": [
    {
      "cell_type": "markdown",
      "metadata": {
        "id": "view-in-github",
        "colab_type": "text"
      },
      "source": [
        "<a href=\"https://colab.research.google.com/github/thlystrd/LinearAlgebra_2ndsem/blob/main/Assignment_10.ipynb\" target=\"_parent\"><img src=\"https://colab.research.google.com/assets/colab-badge.svg\" alt=\"Open In Colab\"/></a>"
      ]
    },
    {
      "cell_type": "markdown",
      "metadata": {
        "id": "F7JH-Oc2O9Sw"
      },
      "source": [
        "# Linear Algebra for ChE\n",
        "## Laboratory 5 : Linear Combination and Vector Spaces"
      ]
    },
    {
      "cell_type": "markdown",
      "metadata": {
        "id": "aTacEIfvO9S0"
      },
      "source": [
        "Now that you have a fundamental knowledge about linear combination, we'll try to visualize it using scientific programming."
      ]
    },
    {
      "cell_type": "markdown",
      "metadata": {
        "id": "5Rk-2NPqO9S1"
      },
      "source": [
        "###Objectives\n",
        "\n",
        "At the end of this activity the researchers are expected to:\n",
        "\n",
        "1. Be accustomed to single vectors, linear combinations of vectors, and vector spaces with the use of Python programming language.\n",
        "2. Represent single vectors and linear combinations in a 2-dimensional plane.\n",
        "3. Apply knowledge gained through creating different linear combinations using different scalar values represented as a LaTex markdown and plot diagram."
      ]
    },
    {
      "cell_type": "markdown",
      "metadata": {
        "id": "PJYUg0_dO9S1"
      },
      "source": [
        "## Discussion"
      ]
    },
    {
      "cell_type": "code",
      "metadata": {
        "id": "ZQYRaKtkO9S1"
      },
      "source": [
        "import numpy as np\n",
        "import matplotlib.pyplot as plt\n",
        "%matplotlib inline"
      ],
      "execution_count": null,
      "outputs": []
    },
    {
      "cell_type": "markdown",
      "metadata": {
        "id": "REOM226CO9S2"
      },
      "source": [
        "## Linear Combination"
      ]
    },
    {
      "cell_type": "markdown",
      "metadata": {
        "id": "mXycshXOO9S3"
      },
      "source": [
        "In mathematics, a linear combination is an expression formed by multiplying each term by a constant and adding the results. If we have two vectors $KAR$ and $REN$, the linear combination of these two vectors is $(aKAR+bREN)$, where $(a)$ and $(b)$ are scalar coefficients."
      ]
    },
    {
      "cell_type": "markdown",
      "metadata": {
        "id": "A1p9s0DvO9S4"
      },
      "source": [
        "$$KAR = \\begin{bmatrix} 12\\\\19 \\\\\\end{bmatrix} , REN = \\begin{bmatrix} 20\\\\-1 \\\\\\end{bmatrix} $$"
      ]
    },
    {
      "cell_type": "code",
      "metadata": {
        "colab": {
          "base_uri": "https://localhost:8080/"
        },
        "id": "V0jYnfAaO9S4",
        "outputId": "39d8dabe-ec92-4d7f-940c-191ed84aa684"
      },
      "source": [
        "KAR =  np.array([12,19])\n",
        "REN =  np.array([20,-1])\n",
        "REN"
      ],
      "execution_count": null,
      "outputs": [
        {
          "output_type": "execute_result",
          "data": {
            "text/plain": [
              "array([20, -1])"
            ]
          },
          "metadata": {},
          "execution_count": 2
        }
      ]
    },
    {
      "cell_type": "markdown",
      "metadata": {
        "id": "ZnweVCl3O9S4"
      },
      "source": [
        "#### Span of single vectors"
      ]
    },
    {
      "cell_type": "markdown",
      "metadata": {
        "id": "I1is-SWEO9S5"
      },
      "source": [
        "The span, or set of linear combinations, of single vectors is a way of visualizing vectors as an infinite line plotted across a 2-dimensional plane [1]. An example of this is vector $KAR$ as well as vector $REN$."
      ]
    },
    {
      "cell_type": "markdown",
      "metadata": {
        "id": "1TuPwTkVO9S5"
      },
      "source": [
        "$$KAR = K\\cdot \\begin{bmatrix} 12\\\\19 \\\\\\end{bmatrix} $$"
      ]
    },
    {
      "cell_type": "code",
      "metadata": {
        "colab": {
          "base_uri": "https://localhost:8080/",
          "height": 265
        },
        "id": "ttPQ0Ti4O9S5",
        "outputId": "890cafc7-4ac0-4b2d-dfb3-c3ecad393254"
      },
      "source": [
        "K = np.arange(-12,19,0.1219)\n",
        "\n",
        "plt.scatter(K*KAR[0],K*REN[1])\n",
        "\n",
        "plt.xlim(-12,12)\n",
        "plt.ylim(-19,19)\n",
        "plt.axhline(y=0, color='red')\n",
        "plt.axvline(x=0, color='maroon')\n",
        "plt.grid()\n",
        "plt.show()"
      ],
      "execution_count": null,
      "outputs": [
        {
          "output_type": "display_data",
          "data": {
            "text/plain": [
              "<Figure size 432x288 with 1 Axes>"
            ],
            "image/png": "[encoded data removed]"
          },
          "metadata": {
            "needs_background": "light"
          }
        }
      ]
    },
    {
      "cell_type": "markdown",
      "metadata": {
        "id": "pf_rVm8FV0Jy"
      },
      "source": [
        "$$REN = R\\cdot \\begin{bmatrix} 19\\\\12 \\\\\\end{bmatrix} $$"
      ]
    },
    {
      "cell_type": "code",
      "metadata": {
        "colab": {
          "base_uri": "https://localhost:8080/",
          "height": 265
        },
        "id": "OjoN2KdzV5s2",
        "outputId": "251fe121-2d31-4cfd-9a36-ec0cafa241fd"
      },
      "source": [
        "R = np.arange(-19,12,0.1912)\n",
        "\n",
        "plt.scatter(R*KAR[0],R*REN[1])\n",
        "\n",
        "plt.xlim(-12,12)\n",
        "plt.ylim(-19,19)\n",
        "plt.axhline(y=0, color='violet')\n",
        "plt.axvline(x=0, color='purple')\n",
        "plt.grid()\n",
        "plt.show()"
      ],
      "execution_count": null,
      "outputs": [
        {
          "output_type": "display_data",
          "data": {
            "text/plain": [
              "<Figure size 432x288 with 1 Axes>"
            ],
            "image/png": "[encoded data removed]"
          },
          "metadata": {
            "needs_background": "light"
          }
        }
      ]
    },
    {
      "cell_type": "markdown",
      "metadata": {
        "id": "BXNrnuFLO9S6"
      },
      "source": [
        "### Span of a linear combination of vectors"
      ]
    },
    {
      "cell_type": "markdown",
      "metadata": {
        "id": "5gYQM__tO9S6"
      },
      "source": [
        "The span of a set of vectors is the sum of all their linear combinations. Consider the vectors (-2, 9) and (-9, 2); a span of these two vectors would include the whole x-y plane. On a two-dimensional coordinate system, we can represent it as a plane."
      ]
    },
    {
      "cell_type": "markdown",
      "metadata": {
        "id": "7Tc0vPm-O9S6"
      },
      "source": [
        "$$KAREN = \\begin{Bmatrix} K_1 \\cdot\\begin{bmatrix} -2\\\\9 \\\\\\end{bmatrix}, \n",
        "K_2 \\cdot \\begin{bmatrix} -9\\\\2 \\\\\\end{bmatrix}\\end{Bmatrix} $$"
      ]
    },
    {
      "cell_type": "code",
      "metadata": {
        "colab": {
          "base_uri": "https://localhost:8080/",
          "height": 265
        },
        "id": "Z8UT7UNUO9S6",
        "outputId": "46c2000b-c50d-4103-e1f6-c8e9605be3a6"
      },
      "source": [
        "GRIZZLY = np.array([-2,9])\n",
        "ICEBEAR = np.array([-9,2])\n",
        "\n",
        "PANPAN = np.arange(-12,19,1)\n",
        "\n",
        "K1, K2 = np.meshgrid(PANPAN,PANPAN)\n",
        "\n",
        "PANPAN = GRIZZLY + ICEBEAR\n",
        "spanRx = K1*GRIZZLY[0] + K2*ICEBEAR[0]\n",
        "spanRy = K1*GRIZZLY[1] + K2*ICEBEAR[1]\n",
        "plt.scatter(spanRx,spanRy, s=5, alpha=0.75)\n",
        "\n",
        "plt.axhline(y=0, color='violet')\n",
        "plt.axvline(x=0, color='pink')\n",
        "plt.grid()\n",
        "plt.show()"
      ],
      "execution_count": null,
      "outputs": [
        {
          "output_type": "display_data",
          "data": {
            "text/plain": [
              "<Figure size 432x288 with 1 Axes>"
            ],
            "image/png": "[encoded data removed]"
          },
          "metadata": {
            "needs_background": "light"
          }
        }
      ]
    },
    {
      "cell_type": "code",
      "metadata": {
        "colab": {
          "base_uri": "https://localhost:8080/",
          "height": 265
        },
        "id": "REIskplJad3G",
        "outputId": "31e99095-0c15-4d9f-9775-ee64b4ac64b1"
      },
      "source": [
        "MOCHA = np.array([6,5])\n",
        "OREO = np.array([7,8])\n",
        "\n",
        "YZEL = np.arange(-18,5,2)\n",
        "\n",
        "K1, K2 = np.meshgrid(YZEL,YZEL)\n",
        "\n",
        "YZEL = MOCHA + OREO\n",
        "spanRx = K1*MOCHA[0] + K2*OREO[0]\n",
        "spanRy = K1*MOCHA[1] + K2*OREO[1]\n",
        "plt.scatter(spanRx,spanRy, s=10, alpha=0.75)\n",
        "\n",
        "plt.axhline(y=0, color='red')\n",
        "plt.axvline(x=0, color='magenta')\n",
        "plt.grid()\n",
        "plt.show()"
      ],
      "execution_count": null,
      "outputs": [
        {
          "output_type": "display_data",
          "data": {
            "text/plain": [
              "<Figure size 432x288 with 1 Axes>"
            ],
            "image/png": "[encoded data removed]"
          },
          "metadata": {
            "needs_background": "light"
          }
        }
      ]
    },
    {
      "cell_type": "markdown",
      "metadata": {
        "id": "N9nhJvXFO9S7"
      },
      "source": [
        "Take note that if vectors are seen to be as a 2-dimensional span we can say it has a Rank of 2 or $\\mathbb{R}^2$. But if the span of the linear combination of vectors are seen to be like a line, they are said to be <b> linearly dependent </b> and they have a rank of 1 or $\\mathbb{R}^1$."
      ]
    },
    {
      "cell_type": "markdown",
      "metadata": {
        "id": "2OVPBMoSO9S7"
      },
      "source": [
        "# Activity"
      ]
    },
    {
      "cell_type": "markdown",
      "metadata": {
        "id": "iT7GLOf6O9S7"
      },
      "source": [
        "### Task 1"
      ]
    },
    {
      "cell_type": "markdown",
      "metadata": {
        "id": "As7P0lcrO9S7"
      },
      "source": [
        "Task 1 is the application of linear combinations for the span of single vectors and span of linear combination of vectors using different vector and scalar values. This is done to visualize the data points along the plane. The LaTex markdown is used to present the general linear equation forms as well as the vector forms. These can then be visualized through the following codes used. "
      ]
    },
    {
      "cell_type": "code",
      "source": [
        "import numpy as np\n",
        "import matplotlib.pyplot as plt\n",
        "%matplotlib inline"
      ],
      "metadata": {
        "id": "XQFpQPp-8nMu"
      },
      "execution_count": null,
      "outputs": []
    },
    {
      "cell_type": "markdown",
      "metadata": {
        "id": "8Usvs9WoO9S7"
      },
      "source": [
        "$$\n",
        "SINGLE = -15ax - 15bx \\\\\\\\\n",
        "COMBO1 = 1ax + 7bx \\\\\\\\\n",
        "COMBO2 = -7ax + 7bx \n",
        "$$"
      ]
    },
    {
      "cell_type": "markdown",
      "source": [
        "$$\n",
        "SINGLE = \\begin{bmatrix} -15 \\\\\\\\ -15 \\end{bmatrix} \\\\\n",
        "COMBO1 = \\begin{bmatrix} 1 \\\\\\\\ 7 \\end{bmatrix} \\\\\n",
        "COMBO2 = \\begin{bmatrix} -7 \\\\\\\\ 7 \\end{bmatrix}\n",
        "$$"
      ],
      "metadata": {
        "id": "GTRi_p2o8sC_"
      }
    },
    {
      "cell_type": "markdown",
      "source": [
        "$$\n",
        "SINGLE = SS \\cdot \\begin{bmatrix} -15 \\\\\\\\ -15 \\end{bmatrix}\n",
        "$$"
      ],
      "metadata": {
        "id": "v1uyBEvm8u6d"
      }
    },
    {
      "cell_type": "code",
      "metadata": {
        "id": "0zDr8Wt0O9S8",
        "colab": {
          "base_uri": "https://localhost:8080/",
          "height": 281
        },
        "outputId": "c1656232-ee45-4097-e2e7-b922ed6bd37b"
      },
      "source": [
        "SINGLE = ([-15, -15])\n",
        "\n",
        "SS = np.arange(-15,15,0.15)\n",
        "\n",
        "plt.scatter(SS*SINGLE[0],SS*SINGLE[1])\n",
        "plt.title(\"Span of Single Vectors\")\n",
        "\n",
        "plt.xlim(-50,50)\n",
        "plt.ylim(-50,50)\n",
        "plt.axhline(y=0, color='blue')\n",
        "plt.axvline(x=0, color='yellow')\n",
        "plt.grid()\n",
        "plt.show()"
      ],
      "execution_count": null,
      "outputs": [
        {
          "output_type": "display_data",
          "data": {
            "text/plain": [
              "<Figure size 432x288 with 1 Axes>"
            ],
            "image/png": "[encoded data removed]"
          },
          "metadata": {
            "needs_background": "light"
          }
        }
      ]
    },
    {
      "cell_type": "markdown",
      "source": [
        "$$\n",
        "COMBO = \\begin{Bmatrix} \n",
        "    SC_1 \\cdot \\begin{bmatrix} 1 \\\\\\\\ 7 \\end{bmatrix}, \n",
        "    SC_2 \\cdot \\begin{bmatrix} -7 \\\\\\\\ 7 \\end{bmatrix}\n",
        "    \\end{Bmatrix} \n",
        "$$"
      ],
      "metadata": {
        "id": "i6DQip-D8z28"
      }
    },
    {
      "cell_type": "code",
      "source": [
        "COMBO1 = np.array([1,7])\n",
        "COMBO2 = np.array([-7,7])\n",
        "\n",
        "SC = np.arange(-4,4,0.5)\n",
        "\n",
        "SC1, SC2 = np.meshgrid(SC,SC)\n",
        "\n",
        "COMBO = COMBO1 + COMBO2\n",
        "spanCx = SC1*COMBO1[0] + SC2*COMBO2[0]\n",
        "spanCy = SC1*COMBO1[1] + SC2*COMBO2[1]\n",
        "plt.scatter(spanCx, spanCy, s=2, alpha=0.75)\n",
        "plt.title(\"Span of Linear Combination of Vectors\")\n",
        "\n",
        "plt.axhline(y=0, color='magenta')\n",
        "plt.axvline(x=0, color='green')\n",
        "plt.grid()\n",
        "plt.show()"
      ],
      "metadata": {
        "id": "MYSuuu2Z80j5"
      },
      "execution_count": null,
      "outputs": []
    }
  ]
}