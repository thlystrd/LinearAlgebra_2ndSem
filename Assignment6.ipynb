{
  "nbformat": 4,
  "nbformat_minor": 0,
  "metadata": {
    "kernelspec": {
      "display_name": "Python 3",
      "language": "python",
      "name": "python3"
    },
    "language_info": {
      "codemirror_mode": {
        "name": "ipython",
        "version": 3
      },
      "file_extension": ".py",
      "mimetype": "text/x-python",
      "name": "python",
      "nbconvert_exporter": "python",
      "pygments_lexer": "ipython3",
      "version": "3.8.3"
    },
    "colab": {
      "name": "Assignment6.ipynb",
      "provenance": [],
      "collapsed_sections": [
        "Fz9EI_8Z5qAV",
        "ORllWzOl5qAX",
        "xkLTJ0fl5qAc",
        "Lv7Fp_pvmtgx",
        "4LuGMTDV5qAi",
        "meSNX76X5qAk",
        "YgnCzR5i5qAk",
        "hlP1zGsC5qAm"
      ],
      "include_colab_link": true
    }
  },
  "cells": [
    {
      "cell_type": "markdown",
      "metadata": {
        "id": "view-in-github",
        "colab_type": "text"
      },
      "source": [
        "<a href=\"https://colab.research.google.com/github/thlystrd/LinearAlgebra_2ndsem/blob/main/Assignment6.ipynb\" target=\"_parent\"><img src=\"https://colab.research.google.com/assets/colab-badge.svg\" alt=\"Open In Colab\"/></a>"
      ]
    },
    {
      "cell_type": "markdown",
      "metadata": {
        "id": "YH6dSOMX5qAQ"
      },
      "source": [
        "# Linear Algebra for ChE\n",
        "## Laboratory 4 : Matrix Operations"
      ]
    },
    {
      "cell_type": "markdown",
      "metadata": {
        "id": "jYeiRZm35qAU"
      },
      "source": [
        "Now that you have a fundamental knowledge about representing and operating with vectors as well as the fundamentals of matrices, we'll try to the same operations with matrices and even more."
      ]
    },
    {
      "cell_type": "markdown",
      "metadata": {
        "id": "BInKdhlu5qAV"
      },
      "source": [
        "### Objectives\n",
        "At the end of this activity you will be able to:\n",
        "1. Be familiar with the fundamental matrix operations.\n",
        "2. Apply the operations to solve intemrediate equations.\n",
        "3. Apply matrix algebra in engineering solutions."
      ]
    },
    {
      "cell_type": "markdown",
      "metadata": {
        "id": "Fz9EI_8Z5qAV"
      },
      "source": [
        "## Discussion"
      ]
    },
    {
      "cell_type": "markdown",
      "source": [
        "The import keyword can make code from one code available in another. The import function is essential in organizing your codes and saving time by reusing what you imported. [1]\n",
        "\n",
        "> Numerical Programming Libraries:\n",
        "> *   **Numerical Python** is also known as ***numpy*** and uses ***np*** as a coding shortcut. It is a library of multidimensional arrays as well as a set of algorithms for manipulating which is helpful in conducting mathematical and logical array operations. [2]\n",
        "> *   **Matplotlib** is also known as ***matplotlib.pyplot*** and uses ***plt*** as a coding shortcut. It is a library that helps in easier visualization and analysis of the data. This will help display the matrices.  [3]\n",
        "> *   **SciPy** is also known as ***scipy.linalg*** and uses ***la*** as a coding shortcut. It is an open source library designed for science and engineering tasks.\n",
        "This usually deals with linear algebra to help us perform tasks like matrix calculations. [4]\n",
        "\n",
        "\n",
        "> Running the import code cell before everything below is important for your codes to function."
      ],
      "metadata": {
        "id": "KIGDw5803DZQ"
      }
    },
    {
      "cell_type": "code",
      "metadata": {
        "id": "S6r8UaPu5qAW"
      },
      "source": [
        "import numpy as np\n",
        "import matplotlib.pyplot as plt\n",
        "%matplotlib inline"
      ],
      "execution_count": null,
      "outputs": []
    },
    {
      "cell_type": "markdown",
      "metadata": {
        "id": "ORllWzOl5qAX"
      },
      "source": [
        "## Transposition"
      ]
    },
    {
      "cell_type": "markdown",
      "metadata": {
        "id": "4LtZTUbY5qAY"
      },
      "source": [
        "Transposition is the act of transposing a matrix by switching its rows and columns to obtain its transpose. This is attained by exhanging an array A from array A [i] [j] into A [j] [i] [x]. In python, this can be done in a two ways, with the use of np.transpose(A) or A.T."
      ]
    },
    {
      "cell_type": "markdown",
      "metadata": {
        "id": "HZeNXvo-5qAY"
      },
      "source": [
        "$$I = \\begin{bmatrix} 11 & -3 & 20\\\\20 & -6 & 11 \\\\ 12 & 19 & 30\\end{bmatrix} $$"
      ]
    },
    {
      "cell_type": "markdown",
      "metadata": {
        "id": "tgGXC4Uz5qAZ"
      },
      "source": [
        "$$ A^T = \\begin{bmatrix} 11 & 20 & 12\\\\-3 & -6 & 19 \\\\ 20 & 11 & 30\\end{bmatrix}$$"
      ]
    },
    {
      "cell_type": "code",
      "metadata": {
        "colab": {
          "base_uri": "https://localhost:8080/"
        },
        "id": "7cIxacBV5qAa",
        "outputId": "f4b2f695-1593-4e63-a871-e9d721358b36"
      },
      "source": [
        "CUTIE = np.array([\n",
        "    [11 ,-3, 20],\n",
        "    [20, -6, 11],\n",
        "    [12, 19, 30]\n",
        "])\n",
        "CUTIE"
      ],
      "execution_count": null,
      "outputs": [
        {
          "output_type": "execute_result",
          "data": {
            "text/plain": [
              "array([[11, -3, 20],\n",
              "       [20, -6, 11],\n",
              "       [12, 19, 30]])"
            ]
          },
          "metadata": {},
          "execution_count": 10
        }
      ]
    },
    {
      "cell_type": "code",
      "metadata": {
        "colab": {
          "base_uri": "https://localhost:8080/"
        },
        "id": "AhW8-DMO5qAb",
        "outputId": "4d80c3d8-7cd1-433b-b831-3f1490bc8633"
      },
      "source": [
        "CUTIE1 = np.transpose(CUTIE)\n",
        "CUTIE1\n"
      ],
      "execution_count": null,
      "outputs": [
        {
          "output_type": "execute_result",
          "data": {
            "text/plain": [
              "array([[11, 20, 12],\n",
              "       [-3, -6, 19],\n",
              "       [20, 11, 30]])"
            ]
          },
          "metadata": {},
          "execution_count": 11
        }
      ]
    },
    {
      "cell_type": "code",
      "metadata": {
        "id": "eP1SHyCK5qAb",
        "colab": {
          "base_uri": "https://localhost:8080/"
        },
        "outputId": "657dfa4f-8e4b-4bc2-fb4e-9c99ff5ee676"
      },
      "source": [
        "CUTIE2 = CUTIE.T\n",
        "CUTIE2"
      ],
      "execution_count": null,
      "outputs": [
        {
          "output_type": "execute_result",
          "data": {
            "text/plain": [
              "array([[11, 20, 12],\n",
              "       [-3, -6, 19],\n",
              "       [20, 11, 30]])"
            ]
          },
          "metadata": {},
          "execution_count": 12
        }
      ]
    },
    {
      "cell_type": "code",
      "metadata": {
        "id": "sQzzt0hr5qAb",
        "outputId": "a984a413-5a8c-4b81-e6c9-01367867cb4f",
        "colab": {
          "base_uri": "https://localhost:8080/"
        }
      },
      "source": [
        "np.array_equiv(CUTIE1, CUTIE2)"
      ],
      "execution_count": null,
      "outputs": [
        {
          "output_type": "execute_result",
          "data": {
            "text/plain": [
              "True"
            ]
          },
          "metadata": {},
          "execution_count": 13
        }
      ]
    },
    {
      "cell_type": "code",
      "metadata": {
        "id": "Z2piL7OG5qAb",
        "outputId": "291c4843-4e93-4f1c-b873-0d9d05c5e894",
        "colab": {
          "base_uri": "https://localhost:8080/"
        }
      },
      "source": [
        "PATOOTIE = np.array([\n",
        "    [8,6,2,3,1],\n",
        "    [1,8,2,5,1],\n",
        "    [1,8,7,6,9],\n",
        "    [8,5,2,6,7]\n",
        "])\n",
        "PATOOTIE.shape"
      ],
      "execution_count": null,
      "outputs": [
        {
          "output_type": "execute_result",
          "data": {
            "text/plain": [
              "(4, 5)"
            ]
          },
          "metadata": {},
          "execution_count": 14
        }
      ]
    },
    {
      "cell_type": "code",
      "metadata": {
        "id": "AJ99IXpz5qAc",
        "outputId": "01b8dab9-a878-482d-844a-d63bd437b38c",
        "colab": {
          "base_uri": "https://localhost:8080/"
        }
      },
      "source": [
        "np.transpose(PATOOTIE).shape"
      ],
      "execution_count": null,
      "outputs": [
        {
          "output_type": "execute_result",
          "data": {
            "text/plain": [
              "(5, 4)"
            ]
          },
          "metadata": {},
          "execution_count": 15
        }
      ]
    },
    {
      "cell_type": "code",
      "metadata": {
        "id": "lZCQUI7M5qAc",
        "outputId": "c601f69d-130a-4762-ebe1-6d927765c44f",
        "colab": {
          "base_uri": "https://localhost:8080/"
        }
      },
      "source": [
        "PATOOTIE.T.shape"
      ],
      "execution_count": null,
      "outputs": [
        {
          "output_type": "execute_result",
          "data": {
            "text/plain": [
              "(5, 4)"
            ]
          },
          "metadata": {},
          "execution_count": 16
        }
      ]
    },
    {
      "cell_type": "markdown",
      "metadata": {
        "id": "xkLTJ0fl5qAc"
      },
      "source": [
        "## Dot Product / Inner Product"
      ]
    },
    {
      "cell_type": "markdown",
      "metadata": {
        "id": "6kzi5rKI5qAd"
      },
      "source": [
        "Dot Product or Inner Product delivers the same result. It is an algebraic operation that operates matrices of two equal-sized vectors and returns a single scalar. The two matrices must be nonscalar, and their final dimensions must match. As an example,  $NANA$ and $LALA$ are two matrices of identical shape, and they will be labeled as:\n",
        "\n",
        "$$NANA = \\begin{bmatrix}x_{(0,0)}&x_{(0,1)}\\\\ x_{(1,0)}&x_{(1,1)}\\end{bmatrix}, LALA = \\begin{bmatrix}y_{(0,0)}&y_{(0,1)}\\\\ y_{(1,0)}&y_{(1,1)}\\end{bmatrix}$$\n",
        "\n",
        "The assigned values for $NANA$ and $LALA$ are:\n",
        "\n",
        "$$NANA = \\begin{bmatrix}15&21\\\\ -9&17\\end{bmatrix}, LALA = \\begin{bmatrix}-8&10\\\\ 21&12\\end{bmatrix}$$\n",
        "\n",
        "We will acquire the sum of vector products by row-column pairings, which will return to a single number. The process for this algebraic operation can be done by following this:\n",
        "$$NANA \\cdot LALA= \\begin{bmatrix} x_{(0,0)}*y_{(0,0)} + x_{(0,1)}*y_{(1,0)} & x_{(0,0)}*y_{(0,1)} + x_{(0,1)}*y_{(1,1)} \\\\  x_{(1,0)}*y_{(0,0)} + x_{(1,1)}*y_{(1,0)} & x_{(1,0)}*y_{(0,1)} + x_{(1,1)}*y_{(1,1)}\n",
        "\\end{bmatrix}$$\n",
        "\n",
        "Once substituted, the matrix will look like this, and the dot product will be shown as:\n",
        "$$NANA \\cdot LALA= \\begin{bmatrix} 15*-8 + 21*21 & 15*10 + 21*12 \\\\  -9*-8 + 17*21 & -9*10 + 17*12 \\end{bmatrix} = \\begin{bmatrix} 321 & 402 \\\\429 & 114 \\end{bmatrix}$$\n",
        "\n"
      ]
    },
    {
      "cell_type": "code",
      "metadata": {
        "id": "tcFdaGtG5qAd"
      },
      "source": [
        "NANA = np.array([\n",
        "    [15,21],\n",
        "    [-9,17]\n",
        "])\n",
        "LALA = np.array([\n",
        "    [-8,10],\n",
        "    [21,12]\n",
        "])"
      ],
      "execution_count": null,
      "outputs": []
    },
    {
      "cell_type": "code",
      "metadata": {
        "id": "RUczGxF85qAe",
        "outputId": "8d016aea-fb8e-480f-84dd-9a4519082812",
        "colab": {
          "base_uri": "https://localhost:8080/"
        }
      },
      "source": [
        "np.dot(NANA,LALA)"
      ],
      "execution_count": null,
      "outputs": [
        {
          "output_type": "execute_result",
          "data": {
            "text/plain": [
              "array([[321, 402],\n",
              "       [429, 114]])"
            ]
          },
          "metadata": {},
          "execution_count": 21
        }
      ]
    },
    {
      "cell_type": "code",
      "metadata": {
        "id": "q-mALRKb5qAe",
        "outputId": "73f1c964-3722-45bc-822d-2fa05612758c",
        "colab": {
          "base_uri": "https://localhost:8080/"
        }
      },
      "source": [
        "NANA.dot(LALA)"
      ],
      "execution_count": null,
      "outputs": [
        {
          "output_type": "execute_result",
          "data": {
            "text/plain": [
              "array([[321, 402],\n",
              "       [429, 114]])"
            ]
          },
          "metadata": {},
          "execution_count": 22
        }
      ]
    },
    {
      "cell_type": "code",
      "metadata": {
        "id": "ZTuRvubF5qAe",
        "outputId": "a076f8a4-61a5-4dac-c5e5-0d4e19a01fe3",
        "colab": {
          "base_uri": "https://localhost:8080/"
        }
      },
      "source": [
        "NANA @ LALA"
      ],
      "execution_count": null,
      "outputs": [
        {
          "output_type": "execute_result",
          "data": {
            "text/plain": [
              "array([[321, 402],\n",
              "       [429, 114]])"
            ]
          },
          "metadata": {},
          "execution_count": 23
        }
      ]
    },
    {
      "cell_type": "code",
      "metadata": {
        "id": "kKqFUIuC5qAe",
        "outputId": "20bcdf9b-8e6e-41bf-b3dc-401d840196e5",
        "colab": {
          "base_uri": "https://localhost:8080/"
        }
      },
      "source": [
        "np.matmul(NANA,LALA)"
      ],
      "execution_count": null,
      "outputs": [
        {
          "output_type": "execute_result",
          "data": {
            "text/plain": [
              "array([[321, 402],\n",
              "       [429, 114]])"
            ]
          },
          "metadata": {},
          "execution_count": 24
        }
      ]
    },
    {
      "cell_type": "markdown",
      "source": [
        "##Rule 1: The inner dimensions of the two matrices in question must be the same. "
      ],
      "metadata": {
        "id": "Lv7Fp_pvmtgx"
      }
    },
    {
      "cell_type": "markdown",
      "metadata": {
        "id": "tmcO-1oc5qAf"
      },
      "source": [
        "\n",
        "\n",
        "During matrix multiplication, the main condition is that the inner dimensions of the two matrices must be the same in order to result in a matrix with the same dimensions as that of the outer dimensions of the multiplied matrices. An array A with dimensions of **m×n** and array B with dimensions **n×p** are multiplicable as they have the same inner dimensions. Multiplying these arrays would result in a matrix with dimensions **m×p**. \n",
        "\n",
        "$$YZEL = \\begin{bmatrix}6&7&3&-1\\\\-9&-2&7&4\\\\6&1&5&-4\\end{bmatrix}, OREO = \\begin{bmatrix}8&-4&9&-5\\\\1&8&-3&1\\\\-1&4&9&8\\\\-9&2&3&-7\\end{bmatrix}, MOCHA = \\begin{bmatrix}-9&-5&6\\\\6&-8&0\\\\8&-7&1\\\\2&-3&4\\end{bmatrix}$$\n"
      ]
    },
    {
      "cell_type": "code",
      "metadata": {
        "colab": {
          "base_uri": "https://localhost:8080/"
        },
        "id": "BHg0ldDB5qAf",
        "outputId": "5d571611-d5d9-4a1c-f4ca-54a87add5160"
      },
      "source": [
        "YZEL = np.array([\n",
        "    [6,7,3,-1],\n",
        "    [-9,-2,7,4],\n",
        "    [6,1,5,-4]\n",
        "])\n",
        "OREO = np.array([\n",
        "    [8,-4,9,-5],\n",
        "    [1,8,-3,1],\n",
        "    [-1,4,9,8],\n",
        "    [-9,2,3,-7]\n",
        "])\n",
        "MOCHA = np.array([\n",
        "    [-8,-5,6],\n",
        "    [6,-8,0],\n",
        "    [8,-7,1],\n",
        "    [2,-3,4]\n",
        "])\n",
        "print(YZEL.shape)\n",
        "print(OREO.shape)\n",
        "print(MOCHA.shape)"
      ],
      "execution_count": null,
      "outputs": [
        {
          "output_type": "stream",
          "name": "stdout",
          "text": [
            "(3, 4)\n",
            "(4, 4)\n",
            "(4, 3)\n"
          ]
        }
      ]
    },
    {
      "cell_type": "code",
      "metadata": {
        "colab": {
          "base_uri": "https://localhost:8080/"
        },
        "id": "v5A58bku5qAg",
        "outputId": "b395164b-75f0-46a4-a400-84d6258fc7f6"
      },
      "source": [
        "YZEL @ MOCHA"
      ],
      "execution_count": null,
      "outputs": [
        {
          "output_type": "execute_result",
          "data": {
            "text/plain": [
              "array([[  16, -104,   35],\n",
              "       [ 124,    0,  -31],\n",
              "       [ -10,  -61,   25]])"
            ]
          },
          "metadata": {},
          "execution_count": 40
        }
      ]
    },
    {
      "cell_type": "code",
      "metadata": {
        "id": "XpFBfYcr5qAg",
        "outputId": "7336711a-849c-4863-a945-b3690eec1e4f",
        "colab": {
          "base_uri": "https://localhost:8080/"
        }
      },
      "source": [
        "OREO @ MOCHA"
      ],
      "execution_count": null,
      "outputs": [
        {
          "output_type": "execute_result",
          "data": {
            "text/plain": [
              "array([[ -26,  -56,   37],\n",
              "       [  18,  -51,    7],\n",
              "       [ 120, -114,   35],\n",
              "       [  94,   29,  -79]])"
            ]
          },
          "metadata": {},
          "execution_count": 41
        }
      ]
    },
    {
      "cell_type": "code",
      "metadata": {
        "colab": {
          "base_uri": "https://localhost:8080/"
        },
        "id": "GV5OX8Yq5qAg",
        "outputId": "a91375f2-fdbd-4d79-bcc6-90f94929dfa7"
      },
      "source": [
        "YZEL @ OREO.T"
      ],
      "execution_count": null,
      "outputs": [
        {
          "output_type": "execute_result",
          "data": {
            "text/plain": [
              "array([[ 52,  52,  41, -24],\n",
              "       [-21, -42,  96,  70],\n",
              "       [109,  -5,  11,  -9]])"
            ]
          },
          "metadata": {},
          "execution_count": 45
        }
      ]
    },
    {
      "cell_type": "code",
      "metadata": {
        "colab": {
          "base_uri": "https://localhost:8080/"
        },
        "id": "3lB2SJC45qAi",
        "outputId": "0d4cb77c-dbb1-4a8a-ccc7-14fa1cc6df61"
      },
      "source": [
        "KAR = np.array([\n",
        "    [-6,11,20,-2,-3,11,20,20]\n",
        "])\n",
        "REN = np.array([\n",
        "    [12,19,20,-1,-3,11,20,20]\n",
        "])\n",
        "print(KAR.shape)\n",
        "print(REN.shape)"
      ],
      "execution_count": null,
      "outputs": [
        {
          "output_type": "stream",
          "name": "stdout",
          "text": [
            "(1, 8)\n",
            "(1, 8)\n"
          ]
        }
      ]
    },
    {
      "cell_type": "code",
      "metadata": {
        "colab": {
          "base_uri": "https://localhost:8080/"
        },
        "id": "6wmNHDiG5qAi",
        "outputId": "22a72fc8-2a39-4d83-8ff4-37aed1f6b2c7"
      },
      "source": [
        "REN.T @ KAR"
      ],
      "execution_count": null,
      "outputs": [
        {
          "output_type": "execute_result",
          "data": {
            "text/plain": [
              "array([[ -72,  132,  240,  -24,  -36,  132,  240,  240],\n",
              "       [-114,  209,  380,  -38,  -57,  209,  380,  380],\n",
              "       [-120,  220,  400,  -40,  -60,  220,  400,  400],\n",
              "       [   6,  -11,  -20,    2,    3,  -11,  -20,  -20],\n",
              "       [  18,  -33,  -60,    6,    9,  -33,  -60,  -60],\n",
              "       [ -66,  121,  220,  -22,  -33,  121,  220,  220],\n",
              "       [-120,  220,  400,  -40,  -60,  220,  400,  400],\n",
              "       [-120,  220,  400,  -40,  -60,  220,  400,  400]])"
            ]
          },
          "metadata": {},
          "execution_count": 50
        }
      ]
    },
    {
      "cell_type": "markdown",
      "source": [
        ""
      ],
      "metadata": {
        "id": "rleReoU-moYE"
      }
    },
    {
      "cell_type": "markdown",
      "metadata": {
        "id": "4LuGMTDV5qAi"
      },
      "source": [
        "## Rule 2: Dot Product has special properties\n",
        "\n"
      ]
    },
    {
      "cell_type": "markdown",
      "source": [
        "Dot Product has five unique properties to discuss, namely:\n",
        "1. Commutative Property - operates two matrices in a commutative way which result in unequal matrices and can be stated as: \n",
        "$A \\cdot B \\neq B \\cdot A$\n",
        "\n",
        "2. Associative Property - operates three or more matrices by interchanging the operation position using parentheses and still getting the same answer. This can be stated as:\n",
        "$A \\cdot (B \\cdot C) = (A \\cdot B) \\cdot C$ or $A\\cdot(B+C) = A\\cdot B + A\\cdot C$\n",
        "3. Distributive Property - operates three or more matrices by distributing the operations for the matrices inside the parentheses and still getting the same answer. This can be stated as:\n",
        "$(B+C)\\cdot A = B⋅ A + C\\cdot A$\n",
        "4. Identity Property - a function used to return the identity of a given matrix. It can be stated as: \n",
        " $A⋅ I = A$\n",
        "5. Multiplicative Property of Zero - a function used to return the shape of a given matrix displaying zeroes in it. It can be stated as:\n",
        "$A\\cdot \\emptyset = \\emptyset$ \n",
        " "
      ],
      "metadata": {
        "id": "41-QPf3_uNX4"
      }
    },
    {
      "cell_type": "code",
      "metadata": {
        "id": "NIuJS5DD5qAj"
      },
      "source": [
        "YAW = np.array([\n",
        "    [8,3,5],\n",
        "    [7,5,4],\n",
        "    [1,0,9]\n",
        "])\n",
        "KOH = np.array([\n",
        "    [-9,5,6],\n",
        "    [7,-2,9],\n",
        "    [4,-8,0]\n",
        "])\n",
        "NAH = np.array([\n",
        "    [7,8,-4],\n",
        "    [1,0,-5],\n",
        "    [1,1,0]\n",
        "])\n",
        "POH = np.zeros((3,3))"
      ],
      "execution_count": null,
      "outputs": []
    },
    {
      "cell_type": "code",
      "metadata": {
        "colab": {
          "base_uri": "https://localhost:8080/"
        },
        "id": "HUwRJACI5qAj",
        "outputId": "a37e0e7c-eca0-4c8f-ce92-59e6ef565401"
      },
      "source": [
        "one = YAW.dot(KOH)\n",
        "one1 = KOH.dot(YAW)\n",
        "print(f'{one}  \\n\\n{one1}\\n')\n",
        "print(f'Array Equality: {np.array_equal(one,one1)}')"
      ],
      "execution_count": null,
      "outputs": [
        {
          "output_type": "stream",
          "name": "stdout",
          "text": [
            "[[-31  -6  75]\n",
            " [-12  -7  87]\n",
            " [ 27 -67   6]]  \n",
            "\n",
            "[[-31  -2  29]\n",
            " [ 51  11 108]\n",
            " [-24 -28 -12]]\n",
            "\n",
            "Array Equality: False\n"
          ]
        }
      ]
    },
    {
      "cell_type": "code",
      "metadata": {
        "colab": {
          "base_uri": "https://localhost:8080/"
        },
        "id": "UhgjprXt5qAj",
        "outputId": "d9570249-dbc9-4b86-c1b8-61f2006d8cde"
      },
      "source": [
        "two = YAW.dot(KOH.dot(NAH))\n",
        "two2 = (YAW.dot(KOH)).dot(NAH)\n",
        "print(f'{two}  \\n\\n{two2}\\n')\n",
        "print(f'Array Equality: {np.array_equal(two,two2)}')"
      ],
      "execution_count": null,
      "outputs": [
        {
          "output_type": "stream",
          "name": "stdout",
          "text": [
            "[[-148 -173  154]\n",
            " [  -4   -9   83]\n",
            " [ 128  222  227]]  \n",
            "\n",
            "[[-148 -173  154]\n",
            " [  -4   -9   83]\n",
            " [ 128  222  227]]\n",
            "\n",
            "Array Equality: True\n"
          ]
        }
      ]
    },
    {
      "cell_type": "code",
      "metadata": {
        "colab": {
          "base_uri": "https://localhost:8080/"
        },
        "id": "Y88CuKNy5qAj",
        "outputId": "29370b34-bcf4-4b83-f284-565441419665"
      },
      "source": [
        "three = YAW.dot(KOH+NAH)\n",
        "three3 = (YAW.dot(KOH))+(YAW.dot(NAH))\n",
        "print(f'{three}  \\n\\n{three3}\\n')\n",
        "print(f'Array Equality: {np.array_equal(three,three3)}')"
      ],
      "execution_count": null,
      "outputs": [
        {
          "output_type": "stream",
          "name": "stdout",
          "text": [
            "[[ 33  63  28]\n",
            " [ 46  53  34]\n",
            " [ 43 -50   2]]  \n",
            "\n",
            "[[ 33  63  28]\n",
            " [ 46  53  34]\n",
            " [ 43 -50   2]]\n",
            "\n",
            "Array Equality: True\n"
          ]
        }
      ]
    },
    {
      "cell_type": "code",
      "metadata": {
        "colab": {
          "base_uri": "https://localhost:8080/"
        },
        "id": "7gLbl0xi5qAj",
        "outputId": "6df03f76-9ed0-48f3-a3b6-f8d03eeaf5ae"
      },
      "source": [
        "four = (KOH+NAH).dot(YAW)\n",
        "four4 = (KOH.dot(YAW))+(NAH.dot(YAW))\n",
        "print(f'{four}  \\n\\n{four4}\\n')\n",
        "print(f'Array Equality: {np.array_equal(four,four4)}')"
      ],
      "execution_count": null,
      "outputs": [
        {
          "output_type": "stream",
          "name": "stdout",
          "text": [
            "[[ 77  59  60]\n",
            " [ 54  14  68]\n",
            " [ -9 -20  -3]]  \n",
            "\n",
            "[[ 77  59  60]\n",
            " [ 54  14  68]\n",
            " [ -9 -20  -3]]\n",
            "\n",
            "Array Equality: True\n"
          ]
        }
      ]
    },
    {
      "cell_type": "code",
      "metadata": {
        "colab": {
          "base_uri": "https://localhost:8080/"
        },
        "id": "O-BVE7BT5qAj",
        "outputId": "e14f98d5-999c-450e-b221-1242b798876b"
      },
      "source": [
        "five = YAW.dot(np.identity(3))\n",
        "five5 = YAW\n",
        "print(f'{five}  \\n\\n{five5}\\n')\n",
        "print(f'Array Equality: {np.array_equal(five,five5)}')"
      ],
      "execution_count": null,
      "outputs": [
        {
          "output_type": "stream",
          "name": "stdout",
          "text": [
            "[[8. 3. 5.]\n",
            " [7. 5. 4.]\n",
            " [1. 0. 9.]]  \n",
            "\n",
            "[[8 3 5]\n",
            " [7 5 4]\n",
            " [1 0 9]]\n",
            "\n",
            "Array Equality: True\n"
          ]
        }
      ]
    },
    {
      "cell_type": "code",
      "source": [
        "six = YAW.dot(POH)\n",
        "six6 = (POH)\n",
        "print(f'{six}  \\n\\n{six6}\\n')\n",
        "print(f'Array Equality: {np.array_equal(six,six6)}')"
      ],
      "metadata": {
        "colab": {
          "base_uri": "https://localhost:8080/"
        },
        "id": "wap-MELpziqE",
        "outputId": "711b9c8b-4290-456b-8d42-c37dea960b39"
      },
      "execution_count": null,
      "outputs": [
        {
          "output_type": "stream",
          "name": "stdout",
          "text": [
            "[[0. 0. 0.]\n",
            " [0. 0. 0.]\n",
            " [0. 0. 0.]]  \n",
            "\n",
            "[[0. 0. 0.]\n",
            " [0. 0. 0.]\n",
            " [0. 0. 0.]]\n",
            "\n",
            "Array Equality: True\n"
          ]
        }
      ]
    },
    {
      "cell_type": "code",
      "source": [
        "YAW.dot(np.zeros(YAW.shape))"
      ],
      "metadata": {
        "colab": {
          "base_uri": "https://localhost:8080/"
        },
        "id": "ZsNOcnsbzoEl",
        "outputId": "61942a46-eb33-487c-9b99-e1d95dfb3035"
      },
      "execution_count": null,
      "outputs": [
        {
          "output_type": "execute_result",
          "data": {
            "text/plain": [
              "array([[0., 0., 0.],\n",
              "       [0., 0., 0.],\n",
              "       [0., 0., 0.]])"
            ]
          },
          "metadata": {},
          "execution_count": 64
        }
      ]
    },
    {
      "cell_type": "code",
      "source": [
        "TAH = np.zeros(YAW.shape)\n",
        "TAH"
      ],
      "metadata": {
        "colab": {
          "base_uri": "https://localhost:8080/"
        },
        "id": "qeL2B1dAztTy",
        "outputId": "8838c1ed-3cc1-4de4-a77a-062dfa45a36a"
      },
      "execution_count": null,
      "outputs": [
        {
          "output_type": "execute_result",
          "data": {
            "text/plain": [
              "array([[0., 0., 0.],\n",
              "       [0., 0., 0.],\n",
              "       [0., 0., 0.]])"
            ]
          },
          "metadata": {},
          "execution_count": 65
        }
      ]
    },
    {
      "cell_type": "code",
      "source": [
        "LAH = YAW.dot(np.zeros(YAW.shape))\n",
        "LAH"
      ],
      "metadata": {
        "colab": {
          "base_uri": "https://localhost:8080/"
        },
        "id": "pefMgNy1zzNV",
        "outputId": "ddefbfb3-3c37-4bbb-a0d6-00b44e64b4a8"
      },
      "execution_count": null,
      "outputs": [
        {
          "output_type": "execute_result",
          "data": {
            "text/plain": [
              "array([[0., 0., 0.],\n",
              "       [0., 0., 0.],\n",
              "       [0., 0., 0.]])"
            ]
          },
          "metadata": {},
          "execution_count": 66
        }
      ]
    },
    {
      "cell_type": "code",
      "source": [
        "np.array_equal(TAH,LAH)"
      ],
      "metadata": {
        "colab": {
          "base_uri": "https://localhost:8080/"
        },
        "id": "J8nJXSGoz37C",
        "outputId": "9cfd3dbc-6be1-43f3-8678-f4e946864e53"
      },
      "execution_count": null,
      "outputs": [
        {
          "output_type": "execute_result",
          "data": {
            "text/plain": [
              "True"
            ]
          },
          "metadata": {},
          "execution_count": 67
        }
      ]
    },
    {
      "cell_type": "code",
      "source": [
        "null_mat = np.empty(YAW.shape, dtype=float)\n",
        "null = np.array(null_mat,dtype=float)\n",
        "print(null)\n",
        "np.allclose(TAH,null)"
      ],
      "metadata": {
        "colab": {
          "base_uri": "https://localhost:8080/"
        },
        "id": "U1I7wlHbz9pF",
        "outputId": "791d12cd-ea86-4cd1-d31b-52aa36baa213"
      },
      "execution_count": null,
      "outputs": [
        {
          "output_type": "stream",
          "name": "stdout",
          "text": [
            "[[0. 0. 0.]\n",
            " [0. 0. 0.]\n",
            " [0. 0. 0.]]\n"
          ]
        },
        {
          "output_type": "execute_result",
          "data": {
            "text/plain": [
              "True"
            ]
          },
          "metadata": {},
          "execution_count": 69
        }
      ]
    },
    {
      "cell_type": "markdown",
      "metadata": {
        "id": "meSNX76X5qAk"
      },
      "source": [
        "## Determinant"
      ]
    },
    {
      "cell_type": "markdown",
      "metadata": {
        "id": "usidzlzW5qAk"
      },
      "source": [
        "A determinant is a numerical output of an inputted square matrix array. These are useful in the analysis of solutions in linear algebra.  \n",
        "\n",
        "Properties of determinants include [x]:\n",
        "*   det $A^T$ = det A\n",
        "*   det (AB) = det (A) det (B)\n",
        "*   If a row or column of A is zero, det A = 0.\n",
        "*   The determinant of an upper or lower triangular matrix is the product of its diagonal elements.\n",
        "* $ A^-1 = adj(A)/det(A)  $"
      ]
    },
    {
      "cell_type": "code",
      "metadata": {
        "id": "UXIlruLY5qAk",
        "outputId": "2bc53418-4006-4353-863f-f45d8f274e12",
        "colab": {
          "base_uri": "https://localhost:8080/"
        }
      },
      "source": [
        "AY = np.array([\n",
        "    [12,19],\n",
        "    [20,-1]\n",
        "])\n",
        "np.linalg.det(AY)"
      ],
      "execution_count": null,
      "outputs": [
        {
          "output_type": "execute_result",
          "data": {
            "text/plain": [
              "-392.0000000000002"
            ]
          },
          "metadata": {},
          "execution_count": 70
        }
      ]
    },
    {
      "cell_type": "code",
      "source": [
        "NA = np.array([\n",
        "    [-2,-9,20],\n",
        "    [-3,18,20],\n",
        "    [-7,13,21]\n",
        "])\n",
        "np.linalg.det(NA)"
      ],
      "metadata": {
        "colab": {
          "base_uri": "https://localhost:8080/"
        },
        "id": "UjfemtpK0bDt",
        "outputId": "173d4554-a281-43ae-e2f9-9d1053657f44"
      },
      "execution_count": null,
      "outputs": [
        {
          "output_type": "execute_result",
          "data": {
            "text/plain": [
              "2197.000000000001"
            ]
          },
          "metadata": {},
          "execution_count": 72
        }
      ]
    },
    {
      "cell_type": "code",
      "source": [
        "KO = np.array([\n",
        "    [7,8,4,5],\n",
        "    [8,7,6,9],\n",
        "    [2,5,9,1],\n",
        "    [2,6,1,0]\n",
        "])\n",
        "np.linalg.det(KO)"
      ],
      "metadata": {
        "colab": {
          "base_uri": "https://localhost:8080/"
        },
        "id": "xsw3mXSa1Cs-",
        "outputId": "76f6480f-6d63-423a-bf06-a863a3e82117"
      },
      "execution_count": null,
      "outputs": [
        {
          "output_type": "execute_result",
          "data": {
            "text/plain": [
              "-488.00000000000017"
            ]
          },
          "metadata": {},
          "execution_count": 74
        }
      ]
    },
    {
      "cell_type": "markdown",
      "metadata": {
        "id": "YgnCzR5i5qAk"
      },
      "source": [
        "## Inverse"
      ]
    },
    {
      "cell_type": "markdown",
      "metadata": {
        "id": "NyZt93mR5qAk"
      },
      "source": [
        "The inverse of a matrix is an algebraic operation used to find the solution of a system of linear equations. The matrix should not include 0 as its determinant. The inverse of a matrix is known as its reciprocal. The rechecking of an inverse matrix can be done using the dot productin which the inverse of a matrix will be multiplied by the original matrix to solve for the identity matrix. \n",
        "The equation is stated as: $$AN ⋅ AN^{-1}=I$$\n",
        "\n"
      ]
    },
    {
      "cell_type": "code",
      "source": [
        "AN = np.array([\n",
        "    [7,3],\n",
        "    [2,5]\n",
        "])\n",
        "np.array(AN @ np.linalg.inv(AN))"
      ],
      "metadata": {
        "colab": {
          "base_uri": "https://localhost:8080/"
        },
        "id": "TrTwPlgwkEW1",
        "outputId": "aa041ec9-7708-4b2e-ae83-b2abf35a4c3a"
      },
      "execution_count": null,
      "outputs": [
        {
          "output_type": "execute_result",
          "data": {
            "text/plain": [
              "array([[1.00000000e+00, 5.55111512e-17],\n",
              "       [4.16333634e-17, 1.00000000e+00]])"
            ]
          },
          "metadata": {},
          "execution_count": 102
        }
      ]
    },
    {
      "cell_type": "code",
      "metadata": {
        "id": "6o_tzKcx5qAl",
        "outputId": "8a8ede2b-f053-421c-983d-7eabc4fc1fba",
        "colab": {
          "base_uri": "https://localhost:8080/"
        }
      },
      "source": [
        "AN = np.array([\n",
        "    [7,3],\n",
        "    [2,5]\n",
        "])\n",
        "np.array(AN @ np.linalg.inv(AN), dtype=int)"
      ],
      "execution_count": null,
      "outputs": [
        {
          "output_type": "execute_result",
          "data": {
            "text/plain": [
              "array([[1, 0],\n",
              "       [0, 1]])"
            ]
          },
          "metadata": {},
          "execution_count": 101
        }
      ]
    },
    {
      "cell_type": "code",
      "source": [
        "TOK = np.array([\n",
        "    [-1,8,7,3],\n",
        "    [8,5,3,-5],\n",
        "    [0,1,8,9],\n",
        "    [-6,4,1,3]\n",
        "])\n",
        "\n",
        "NA = np.linalg.inv(TOK)\n",
        "np.array(TOK @ NA,dtype=int)"
      ],
      "metadata": {
        "colab": {
          "base_uri": "https://localhost:8080/"
        },
        "id": "H01Bhs1j1iuL",
        "outputId": "abffd010-9af9-4f6b-a4ef-3d9799d3069b"
      },
      "execution_count": null,
      "outputs": [
        {
          "output_type": "execute_result",
          "data": {
            "text/plain": [
              "array([[0, 0, 0, 0],\n",
              "       [0, 1, 0, 0],\n",
              "       [0, 0, 1, 0],\n",
              "       [0, 0, 0, 1]])"
            ]
          },
          "metadata": {},
          "execution_count": 78
        }
      ]
    },
    {
      "cell_type": "code",
      "source": [
        "TU = np.array([\n",
        "    [-3,-8,64],\n",
        "    [12,-5,62],\n",
        "    [12,12,-1]\n",
        "])\n",
        "LOG = np.array([\n",
        "    [58,60,21]\n",
        "])\n",
        "ME = TU @ LOG.T\n",
        "ME"
      ],
      "metadata": {
        "colab": {
          "base_uri": "https://localhost:8080/"
        },
        "id": "pk70TqlZ18Fj",
        "outputId": "cf3fe687-3870-4c31-96de-0d4eb9e8eca9"
      },
      "execution_count": null,
      "outputs": [
        {
          "output_type": "execute_result",
          "data": {
            "text/plain": [
              "array([[ 690],\n",
              "       [1698],\n",
              "       [1395]])"
            ]
          },
          "metadata": {},
          "execution_count": 80
        }
      ]
    },
    {
      "cell_type": "markdown",
      "metadata": {
        "id": "hlP1zGsC5qAm"
      },
      "source": [
        "## Task 1"
      ]
    },
    {
      "cell_type": "markdown",
      "source": [
        "Task one (1) is an application of the concepts that have been taught during the lesson concerning the dot product/inner product matrix operation. This task contains the 5 special properties under the rule two (2) of the dot product operation, mainly:\n",
        "* Commutative Property\n",
        "* Associative Property\n",
        "* Distributive Property\n",
        "* Identity Property\n",
        "* Multiplicative Property of Zero\n",
        "\n",
        "\n",
        "\n"
      ],
      "metadata": {
        "id": "yn6Xn684tNG-"
      }
    },
    {
      "cell_type": "code",
      "source": [
        "A = np.array([\n",
        "    [1,3,5,7],\n",
        "    [3,6,9,12],\n",
        "    [6,12,18,24],\n",
        "    [12,24,36,48]\n",
        "])\n",
        "B = np.array([\n",
        "    [0,2,4,6],\n",
        "    [2,4,6,8],\n",
        "    [4,8,12,16],\n",
        "    [8,16,24,32]\n",
        "])\n",
        "C = np.array([\n",
        "    [2,0,2,2],\n",
        "    [2,0,2,1],\n",
        "    [2,0,2,0],\n",
        "    [2,0,1,9]\n",
        "])\n",
        "D = np.zeros((4,4))"
      ],
      "metadata": {
        "id": "cW0DOr4ktOpU"
      },
      "execution_count": null,
      "outputs": []
    },
    {
      "cell_type": "code",
      "source": [
        "one = A.dot(B)\n",
        "one1 = B.dot(A)\n",
        "print(f'Commutative Property: \\n{one}  \\n\\n{one1}\\n\\n')\n",
        "print(f'Array Equality: {np.array_equal(one,one1)}')"
      ],
      "metadata": {
        "colab": {
          "base_uri": "https://localhost:8080/"
        },
        "id": "a9cwqel_tRTI",
        "outputId": "bfb0104d-e873-4cb1-98b0-64dbf69232c8"
      },
      "execution_count": null,
      "outputs": [
        {
          "output_type": "stream",
          "name": "stdout",
          "text": [
            "Commutative Property: \n",
            "[[  82  166  250  334]\n",
            " [ 144  294  444  594]\n",
            " [ 288  588  888 1188]\n",
            " [ 576 1176 1776 2376]]  \n",
            "\n",
            "[[ 102  204  306  408]\n",
            " [ 146  294  442  590]\n",
            " [ 292  588  884 1180]\n",
            " [ 584 1176 1768 2360]]\n",
            "\n",
            "\n",
            "Array Equality: False\n"
          ]
        }
      ]
    },
    {
      "cell_type": "code",
      "source": [
        "two = A.dot(B.dot(C))\n",
        "two2 = (A.dot(B)).dot(C)\n",
        "print(f'Associative Property: \\n{two}  \\n\\n{two2}\\n\\n')\n",
        "print(f'Array Equality: {np.array_equal(two,two2)}')"
      ],
      "metadata": {
        "colab": {
          "base_uri": "https://localhost:8080/"
        },
        "id": "aV1zADoctUv5",
        "outputId": "0d19e9e5-3823-4f1b-826f-40f6db76dca2"
      },
      "execution_count": null,
      "outputs": [
        {
          "output_type": "stream",
          "name": "stdout",
          "text": [
            "Associative Property: \n",
            "[[ 1664     0  1330  3336]\n",
            " [ 2952     0  2358  5928]\n",
            " [ 5904     0  4716 11856]\n",
            " [11808     0  9432 23712]]  \n",
            "\n",
            "[[ 1664     0  1330  3336]\n",
            " [ 2952     0  2358  5928]\n",
            " [ 5904     0  4716 11856]\n",
            " [11808     0  9432 23712]]\n",
            "\n",
            "\n",
            "Array Equality: True\n"
          ]
        }
      ]
    },
    {
      "cell_type": "code",
      "source": [
        "three = A.dot(B+C)\n",
        "three3 = (A.dot(B))+(A.dot(C))\n",
        "print(f'Distibutive Property: \\n{three}  \\n\\n{three3}\\n\\n')\n",
        "print(f'Array Equality: {np.array_equal(three, three)}')"
      ],
      "metadata": {
        "colab": {
          "base_uri": "https://localhost:8080/"
        },
        "id": "oE4bB_9NtX7c",
        "outputId": "99eae2ad-9d6c-453c-89f6-42bcc88e48cc"
      },
      "execution_count": null,
      "outputs": [
        {
          "output_type": "stream",
          "name": "stdout",
          "text": [
            "Distibutive Property: \n",
            "[[ 114  166  275  402]\n",
            " [ 204  294  492  714]\n",
            " [ 408  588  984 1428]\n",
            " [ 816 1176 1968 2856]]  \n",
            "\n",
            "[[ 114  166  275  402]\n",
            " [ 204  294  492  714]\n",
            " [ 408  588  984 1428]\n",
            " [ 816 1176 1968 2856]]\n",
            "\n",
            "\n",
            "Array Equality: True\n"
          ]
        }
      ]
    },
    {
      "cell_type": "code",
      "source": [
        "four = (B+C).dot(A)\n",
        "four4 = (B.dot(A))+(C.dot(A))\n",
        "print(f'Distibutive Property: \\n{four}  \\n\\n{four4}\\n\\n')\n",
        "print(f'Array Equality: {np.array_equal(four,four4)}')"
      ],
      "metadata": {
        "colab": {
          "base_uri": "https://localhost:8080/"
        },
        "id": "fTZNruKctYdz",
        "outputId": "49a65b89-4b14-47f4-d980-025858044af6"
      },
      "execution_count": null,
      "outputs": [
        {
          "output_type": "stream",
          "name": "stdout",
          "text": [
            "Distibutive Property: \n",
            "[[ 140  282  424  566]\n",
            " [ 172  348  524  700]\n",
            " [ 306  618  930 1242]\n",
            " [ 700 1410 2120 2830]]  \n",
            "\n",
            "[[ 140  282  424  566]\n",
            " [ 172  348  524  700]\n",
            " [ 306  618  930 1242]\n",
            " [ 700 1410 2120 2830]]\n",
            "\n",
            "\n",
            "Array Equality: True\n"
          ]
        }
      ]
    },
    {
      "cell_type": "code",
      "source": [
        "five = A.dot(np.identity(4))\n",
        "five5 = A\n",
        "print(f'Identity Property: \\n{five}  \\n\\n{five5}\\n\\n')\n",
        "print(f'Array Equality: {np.array_equal(five, five5)}')"
      ],
      "metadata": {
        "colab": {
          "base_uri": "https://localhost:8080/"
        },
        "id": "0DgBYZ74takx",
        "outputId": "90740fa8-4b7b-4cb5-dcfa-38053d039633"
      },
      "execution_count": null,
      "outputs": [
        {
          "output_type": "stream",
          "name": "stdout",
          "text": [
            "Identity Property: \n",
            "[[ 1.  3.  5.  7.]\n",
            " [ 3.  6.  9. 12.]\n",
            " [ 6. 12. 18. 24.]\n",
            " [12. 24. 36. 48.]]  \n",
            "\n",
            "[[ 1  3  5  7]\n",
            " [ 3  6  9 12]\n",
            " [ 6 12 18 24]\n",
            " [12 24 36 48]]\n",
            "\n",
            "\n",
            "Array Equality: True\n"
          ]
        }
      ]
    },
    {
      "cell_type": "code",
      "source": [
        "six = A.dot(D)\n",
        "six6 = (D)\n",
        "print(f'Multiplicative Property of Zero: \\n{six}  \\n\\n{six6}\\n\\n')\n",
        "print(f'Array Equality: {np.array_equal(six,six6)}')"
      ],
      "metadata": {
        "colab": {
          "base_uri": "https://localhost:8080/"
        },
        "id": "09KE1rhJtcGd",
        "outputId": "15b26add-0ba1-4b10-d5bb-d347c19b104d"
      },
      "execution_count": null,
      "outputs": [
        {
          "output_type": "stream",
          "name": "stdout",
          "text": [
            "Multiplicative Property of Zero: \n",
            "[[0. 0. 0. 0.]\n",
            " [0. 0. 0. 0.]\n",
            " [0. 0. 0. 0.]\n",
            " [0. 0. 0. 0.]]  \n",
            "\n",
            "[[0. 0. 0. 0.]\n",
            " [0. 0. 0. 0.]\n",
            " [0. 0. 0. 0.]\n",
            " [0. 0. 0. 0.]]\n",
            "\n",
            "\n",
            "Array Equality: True\n"
          ]
        }
      ]
    }
  ]
}