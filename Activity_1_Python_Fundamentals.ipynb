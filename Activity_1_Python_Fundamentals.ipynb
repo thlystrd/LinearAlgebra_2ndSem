{
  "nbformat": 4,
  "nbformat_minor": 0,
  "metadata": {
    "colab": {
      "name": "Activity 1 - Python Fundamentals",
      "provenance": [],
      "authorship_tag": "ABX9TyMmjXmk0ECO9v30VPK40vFf",
      "include_colab_link": true
    },
    "kernelspec": {
      "name": "python3",
      "display_name": "Python 3"
    },
    "language_info": {
      "name": "python"
    }
  },
  "cells": [
    {
      "cell_type": "markdown",
      "metadata": {
        "id": "view-in-github",
        "colab_type": "text"
      },
      "source": [
        "<a href=\"https://colab.research.google.com/github/thlystrd/LinearAlgebra_2ndsem/blob/main/Activity_1_Python_Fundamentals.ipynb\" target=\"_parent\"><img src=\"https://colab.research.google.com/assets/colab-badge.svg\" alt=\"Open In Colab\"/></a>"
      ]
    },
    {
      "cell_type": "markdown",
      "source": [
        "# Welcome to Python Fundamentals\n",
        "In this module, we are going to establish or review our skills in Python programming. In this notebook we are going to cover:\n",
        "* Variables and Data Types \n",
        "* Operations\n",
        "* Input and Output Operations\n",
        "* Logic Control\n",
        "* Iterables\n",
        "* Functions"
      ],
      "metadata": {
        "id": "DjROMxalGij2"
      }
    },
    {
      "cell_type": "markdown",
      "source": [
        "## Variable and Data Types"
      ],
      "metadata": {
        "id": "Efqy4fb9rLQu"
      }
    },
    {
      "cell_type": "code",
      "source": [
        "uwu = 11\n",
        "aha,ahha = 3, -11\n",
        "uwu"
      ],
      "metadata": {
        "colab": {
          "base_uri": "https://localhost:8080/"
        },
        "id": "KbCzjBh7ro3c",
        "outputId": "c7c5d745-5e17-425f-ff2d-9045d01524f0"
      },
      "execution_count": 172,
      "outputs": [
        {
          "output_type": "execute_result",
          "data": {
            "text/plain": [
              "11"
            ]
          },
          "metadata": {},
          "execution_count": 172
        }
      ]
    },
    {
      "cell_type": "code",
      "source": [
        "type(uwu)"
      ],
      "metadata": {
        "colab": {
          "base_uri": "https://localhost:8080/"
        },
        "id": "a-VnW9LXuFpz",
        "outputId": "7c06c896-5fef-482e-b648-ebd8892344e6"
      },
      "execution_count": 173,
      "outputs": [
        {
          "output_type": "execute_result",
          "data": {
            "text/plain": [
              "int"
            ]
          },
          "metadata": {},
          "execution_count": 173
        }
      ]
    },
    {
      "cell_type": "code",
      "source": [
        "ehe = 1.0\n",
        "type(ehe)"
      ],
      "metadata": {
        "colab": {
          "base_uri": "https://localhost:8080/"
        },
        "id": "gbyeF7IguZsX",
        "outputId": "6693a496-6704-4e2c-aa99-578233e2a48e"
      },
      "execution_count": 174,
      "outputs": [
        {
          "output_type": "execute_result",
          "data": {
            "text/plain": [
              "float"
            ]
          },
          "metadata": {},
          "execution_count": 174
        }
      ]
    },
    {
      "cell_type": "code",
      "source": [
        "uwu = float(uwu)\n",
        "type (uwu)"
      ],
      "metadata": {
        "colab": {
          "base_uri": "https://localhost:8080/"
        },
        "id": "vh2WkX9iuvxm",
        "outputId": "a209b0a3-b658-40ee-b074-bb7e5b17be63"
      },
      "execution_count": 175,
      "outputs": [
        {
          "output_type": "execute_result",
          "data": {
            "text/plain": [
              "float"
            ]
          },
          "metadata": {},
          "execution_count": 175
        }
      ]
    },
    {
      "cell_type": "code",
      "source": [
        "k,a,r = \"3\" , 11 , 'twenty'\n",
        "type (r)"
      ],
      "metadata": {
        "colab": {
          "base_uri": "https://localhost:8080/"
        },
        "id": "jU0HWIKgv5FI",
        "outputId": "34e17dfe-0bdb-4031-8d82-42f149c4e758"
      },
      "execution_count": 176,
      "outputs": [
        {
          "output_type": "execute_result",
          "data": {
            "text/plain": [
              "str"
            ]
          },
          "metadata": {},
          "execution_count": 176
        }
      ]
    },
    {
      "cell_type": "code",
      "source": [
        "k_int = int(k)\n",
        "k_int"
      ],
      "metadata": {
        "colab": {
          "base_uri": "https://localhost:8080/"
        },
        "id": "EuWtlqW-wwvM",
        "outputId": "1030e8f5-41c0-4394-9515-10f3d15e7fed"
      },
      "execution_count": 177,
      "outputs": [
        {
          "output_type": "execute_result",
          "data": {
            "text/plain": [
              "3"
            ]
          },
          "metadata": {},
          "execution_count": 177
        }
      ]
    },
    {
      "cell_type": "markdown",
      "source": [
        "## Operations"
      ],
      "metadata": {
        "id": "P5omo7qnxlAH"
      }
    },
    {
      "cell_type": "markdown",
      "source": [
        "### Arethmetic"
      ],
      "metadata": {
        "id": "kO3k4Hqnx2us"
      }
    },
    {
      "cell_type": "code",
      "source": [
        "a , b , c , d = -3 , -11 , 20 , 20"
      ],
      "metadata": {
        "id": "UesuSc2cx78c"
      },
      "execution_count": 179,
      "outputs": []
    },
    {
      "cell_type": "code",
      "source": [
        "### Addition\n",
        "S = a+b\n",
        "S"
      ],
      "metadata": {
        "colab": {
          "base_uri": "https://localhost:8080/"
        },
        "id": "lMMOMDMZyR8U",
        "outputId": "4b5aaf7c-9608-4e36-9c2c-3781f1efd28e"
      },
      "execution_count": 180,
      "outputs": [
        {
          "output_type": "execute_result",
          "data": {
            "text/plain": [
              "-14"
            ]
          },
          "metadata": {},
          "execution_count": 180
        }
      ]
    },
    {
      "cell_type": "code",
      "source": [
        "### Subtraction\n",
        "D = b - d\n",
        "D"
      ],
      "metadata": {
        "colab": {
          "base_uri": "https://localhost:8080/"
        },
        "id": "ulomfj_MzKwl",
        "outputId": "ad79be97-cc3f-42ad-f316-39490bcdf997"
      },
      "execution_count": 181,
      "outputs": [
        {
          "output_type": "execute_result",
          "data": {
            "text/plain": [
              "-31"
            ]
          },
          "metadata": {},
          "execution_count": 181
        }
      ]
    },
    {
      "cell_type": "code",
      "source": [
        "### Multiplicaion\n",
        "P = a * d\n",
        "P"
      ],
      "metadata": {
        "colab": {
          "base_uri": "https://localhost:8080/"
        },
        "id": "0_rvjPmYzeje",
        "outputId": "4a1d370a-be7d-4883-a1e4-5bbc1fe87b4c"
      },
      "execution_count": 182,
      "outputs": [
        {
          "output_type": "execute_result",
          "data": {
            "text/plain": [
              "-60"
            ]
          },
          "metadata": {},
          "execution_count": 182
        }
      ]
    },
    {
      "cell_type": "code",
      "source": [
        "### Division\n",
        "Q = a / c\n",
        "Q"
      ],
      "metadata": {
        "colab": {
          "base_uri": "https://localhost:8080/"
        },
        "id": "3Xtf2t-rzwn2",
        "outputId": "2b8686e5-5012-4159-ed13-ca117d9e7b2a"
      },
      "execution_count": 183,
      "outputs": [
        {
          "output_type": "execute_result",
          "data": {
            "text/plain": [
              "-0.15"
            ]
          },
          "metadata": {},
          "execution_count": 183
        }
      ]
    },
    {
      "cell_type": "code",
      "source": [
        "### Floor Division\n",
        "Fq = d // c\n",
        "Fq"
      ],
      "metadata": {
        "colab": {
          "base_uri": "https://localhost:8080/"
        },
        "id": "ltn1c6fT0hY0",
        "outputId": "6431dc68-4a93-4ac5-bd10-22526fd9a71d"
      },
      "execution_count": 190,
      "outputs": [
        {
          "output_type": "execute_result",
          "data": {
            "text/plain": [
              "1"
            ]
          },
          "metadata": {},
          "execution_count": 190
        }
      ]
    },
    {
      "cell_type": "code",
      "source": [
        "### Expoentation\n",
        "E = a**c\n",
        "E"
      ],
      "metadata": {
        "colab": {
          "base_uri": "https://localhost:8080/"
        },
        "id": "r1FwIJCE1eq9",
        "outputId": "3e040a31-b056-4463-848a-37d848719f49"
      },
      "execution_count": 196,
      "outputs": [
        {
          "output_type": "execute_result",
          "data": {
            "text/plain": [
              "3486784401"
            ]
          },
          "metadata": {},
          "execution_count": 196
        }
      ]
    },
    {
      "cell_type": "code",
      "source": [
        "### Modulo\n",
        "mod = a%c\n",
        "mod"
      ],
      "metadata": {
        "colab": {
          "base_uri": "https://localhost:8080/"
        },
        "id": "u_mZ5iSZ2gx8",
        "outputId": "af19d5be-ef86-42d2-d059-ec23a0e2f60d"
      },
      "execution_count": 197,
      "outputs": [
        {
          "output_type": "execute_result",
          "data": {
            "text/plain": [
              "17"
            ]
          },
          "metadata": {},
          "execution_count": 197
        }
      ]
    },
    {
      "cell_type": "markdown",
      "source": [
        "### Assignment Operations"
      ],
      "metadata": {
        "id": "LvTSSpZl3T0U"
      }
    },
    {
      "cell_type": "code",
      "source": [
        "G , H , J , K = 6 , 12 , 20 , 1"
      ],
      "metadata": {
        "id": "A8gXjv513eTX"
      },
      "execution_count": 213,
      "outputs": []
    },
    {
      "cell_type": "code",
      "source": [
        "G += a\n",
        "G"
      ],
      "metadata": {
        "colab": {
          "base_uri": "https://localhost:8080/"
        },
        "id": "ZDspYGS73ym0",
        "outputId": "31bf635b-6331-4d3a-f770-6d41be58ab10"
      },
      "execution_count": 214,
      "outputs": [
        {
          "output_type": "execute_result",
          "data": {
            "text/plain": [
              "3"
            ]
          },
          "metadata": {},
          "execution_count": 214
        }
      ]
    },
    {
      "cell_type": "code",
      "source": [
        "H -= b\n",
        "H"
      ],
      "metadata": {
        "colab": {
          "base_uri": "https://localhost:8080/"
        },
        "id": "TUGmxchv4nSJ",
        "outputId": "f8687edc-a562-4ded-b02d-7846ae828733"
      },
      "execution_count": 215,
      "outputs": [
        {
          "output_type": "execute_result",
          "data": {
            "text/plain": [
              "23"
            ]
          },
          "metadata": {},
          "execution_count": 215
        }
      ]
    },
    {
      "cell_type": "code",
      "source": [
        "J *= c\n",
        "J"
      ],
      "metadata": {
        "colab": {
          "base_uri": "https://localhost:8080/"
        },
        "id": "Cdo1Nc0z5Mcw",
        "outputId": "e351487b-7b93-47c2-865c-dba7fba609ff"
      },
      "execution_count": 216,
      "outputs": [
        {
          "output_type": "execute_result",
          "data": {
            "text/plain": [
              "400"
            ]
          },
          "metadata": {},
          "execution_count": 216
        }
      ]
    },
    {
      "cell_type": "code",
      "source": [
        "K **= d\n",
        "K"
      ],
      "metadata": {
        "colab": {
          "base_uri": "https://localhost:8080/"
        },
        "id": "LIBxB40X5e07",
        "outputId": "bc0a2a0e-509a-4dd4-875d-0f088e50c2cf"
      },
      "execution_count": 217,
      "outputs": [
        {
          "output_type": "execute_result",
          "data": {
            "text/plain": [
              "1"
            ]
          },
          "metadata": {},
          "execution_count": 217
        }
      ]
    },
    {
      "cell_type": "markdown",
      "source": [
        "### Comparators"
      ],
      "metadata": {
        "id": "9NNI0SrE5vCO"
      }
    },
    {
      "cell_type": "code",
      "source": [
        "res_1, res_2, res_3 = 3, 6, \"19\"\n",
        "true_val = 3.0"
      ],
      "metadata": {
        "id": "HlsgxbKU6FB7"
      },
      "execution_count": 218,
      "outputs": []
    },
    {
      "cell_type": "code",
      "source": [
        "## Equality\n",
        "res_2 == true_val"
      ],
      "metadata": {
        "colab": {
          "base_uri": "https://localhost:8080/"
        },
        "id": "Sf2xemIe6l-d",
        "outputId": "eebf2ef2-1c1a-47ba-cded-e0e41f9b5afe"
      },
      "execution_count": 219,
      "outputs": [
        {
          "output_type": "execute_result",
          "data": {
            "text/plain": [
              "False"
            ]
          },
          "metadata": {},
          "execution_count": 219
        }
      ]
    },
    {
      "cell_type": "code",
      "source": [
        "## Non-equality\n",
        "res_2 != true_val"
      ],
      "metadata": {
        "colab": {
          "base_uri": "https://localhost:8080/"
        },
        "outputId": "f2b3ade2-0638-41fc-b34c-595019ad57e6",
        "id": "BZJRONgb7JTW"
      },
      "execution_count": 220,
      "outputs": [
        {
          "output_type": "execute_result",
          "data": {
            "text/plain": [
              "True"
            ]
          },
          "metadata": {},
          "execution_count": 220
        }
      ]
    },
    {
      "cell_type": "code",
      "source": [
        "## Inequality\n",
        "t1= res_1 > res_2\n",
        "t2= res_1 < res_2/2\n",
        "t3= res_1 >= res_2/2\n",
        "t4= res_1 <= res_2\n",
        "t3"
      ],
      "metadata": {
        "colab": {
          "base_uri": "https://localhost:8080/"
        },
        "id": "XC5Q6-lz7eZk",
        "outputId": "7beaecd9-262d-4275-8bcd-4ea0a2843a68"
      },
      "execution_count": 221,
      "outputs": [
        {
          "output_type": "execute_result",
          "data": {
            "text/plain": [
              "True"
            ]
          },
          "metadata": {},
          "execution_count": 221
        }
      ]
    },
    {
      "cell_type": "markdown",
      "source": [
        "### Logical"
      ],
      "metadata": {
        "id": "WdnR2J4o9IbK"
      }
    },
    {
      "cell_type": "code",
      "source": [
        "res_1 == true_val"
      ],
      "metadata": {
        "colab": {
          "base_uri": "https://localhost:8080/"
        },
        "id": "Tfr_546_9M6G",
        "outputId": "2c235f6f-5c76-4f43-bf47-681b703151be"
      },
      "execution_count": 222,
      "outputs": [
        {
          "output_type": "execute_result",
          "data": {
            "text/plain": [
              "True"
            ]
          },
          "metadata": {},
          "execution_count": 222
        }
      ]
    },
    {
      "cell_type": "code",
      "source": [
        " res_1 is true_val"
      ],
      "metadata": {
        "colab": {
          "base_uri": "https://localhost:8080/"
        },
        "id": "n40cQf1kCBd_",
        "outputId": "170699ff-e565-477e-b138-fdc58a70b241"
      },
      "execution_count": 223,
      "outputs": [
        {
          "output_type": "execute_result",
          "data": {
            "text/plain": [
              "False"
            ]
          },
          "metadata": {},
          "execution_count": 223
        }
      ]
    },
    {
      "cell_type": "code",
      "source": [
        " res_1 is not true_val"
      ],
      "metadata": {
        "colab": {
          "base_uri": "https://localhost:8080/"
        },
        "id": "DG2ej-FnCIla",
        "outputId": "e90e772e-022e-4759-b809-d2cdbb389d56"
      },
      "execution_count": 224,
      "outputs": [
        {
          "output_type": "execute_result",
          "data": {
            "text/plain": [
              "True"
            ]
          },
          "metadata": {},
          "execution_count": 224
        }
      ]
    },
    {
      "cell_type": "code",
      "source": [
        "p,q = True, False \n",
        "conj = p and q\n",
        "conj"
      ],
      "metadata": {
        "colab": {
          "base_uri": "https://localhost:8080/"
        },
        "id": "_uqCma7XCWAq",
        "outputId": "2646dce6-4be5-41d1-ca8f-c4509e5e08c1"
      },
      "execution_count": 225,
      "outputs": [
        {
          "output_type": "execute_result",
          "data": {
            "text/plain": [
              "False"
            ]
          },
          "metadata": {},
          "execution_count": 225
        }
      ]
    },
    {
      "cell_type": "code",
      "source": [
        "p,j = True, False\n",
        "disj = p or q\n",
        "disj"
      ],
      "metadata": {
        "colab": {
          "base_uri": "https://localhost:8080/"
        },
        "id": "Uwj7FfyBCofC",
        "outputId": "8baa55e7-938b-46fe-cd7c-e94f2160a087"
      },
      "execution_count": 226,
      "outputs": [
        {
          "output_type": "execute_result",
          "data": {
            "text/plain": [
              "True"
            ]
          },
          "metadata": {},
          "execution_count": 226
        }
      ]
    },
    {
      "cell_type": "code",
      "source": [
        "p, q = True , False\n",
        "e = not (q)\n",
        "e"
      ],
      "metadata": {
        "colab": {
          "base_uri": "https://localhost:8080/"
        },
        "id": "Em-oci37EpiM",
        "outputId": "cf5bf4a0-a8db-48db-df7a-055963de2fb6"
      },
      "execution_count": 227,
      "outputs": [
        {
          "output_type": "execute_result",
          "data": {
            "text/plain": [
              "True"
            ]
          },
          "metadata": {},
          "execution_count": 227
        }
      ]
    },
    {
      "cell_type": "code",
      "source": [
        "p,q = True, False\n",
        "xor = (not p and q) or (p and not q)\n",
        "xor"
      ],
      "metadata": {
        "colab": {
          "base_uri": "https://localhost:8080/"
        },
        "id": "Uuvhi9pzFZ2S",
        "outputId": "87bd3ce8-fed7-4787-a23f-12b56ef8aed9"
      },
      "execution_count": 228,
      "outputs": [
        {
          "output_type": "execute_result",
          "data": {
            "text/plain": [
              "True"
            ]
          },
          "metadata": {},
          "execution_count": 228
        }
      ]
    },
    {
      "cell_type": "markdown",
      "source": [
        "### I/O"
      ],
      "metadata": {
        "id": "9JicNDeUHVbq"
      }
    },
    {
      "cell_type": "code",
      "source": [
        "print (\"Hello Master\")"
      ],
      "metadata": {
        "colab": {
          "base_uri": "https://localhost:8080/"
        },
        "id": "YKQac77cHcjy",
        "outputId": "5763840b-8a29-4844-b0a6-fcadee05a3f5"
      },
      "execution_count": null,
      "outputs": [
        {
          "output_type": "stream",
          "name": "stdout",
          "text": [
            "Hello Master\n"
          ]
        }
      ]
    },
    {
      "cell_type": "code",
      "source": [
        "cnt=1"
      ],
      "metadata": {
        "id": "yA_YKw02Hqy6"
      },
      "execution_count": null,
      "outputs": []
    },
    {
      "cell_type": "code",
      "source": [
        "string = \"Hello World\"\n",
        "print(string,  \",Current run count is:\" , cnt)\n",
        "cnt += 1"
      ],
      "metadata": {
        "colab": {
          "base_uri": "https://localhost:8080/"
        },
        "id": "_dkLWiAmHwCN",
        "outputId": "225627dd-61b5-41ed-e004-eb7a1abf0041"
      },
      "execution_count": null,
      "outputs": [
        {
          "output_type": "stream",
          "name": "stdout",
          "text": [
            "Hello World ,Current run count is: 1\n"
          ]
        }
      ]
    },
    {
      "cell_type": "code",
      "source": [
        "print(f\"{string}, Current count is: {cnt}\")"
      ],
      "metadata": {
        "colab": {
          "base_uri": "https://localhost:8080/"
        },
        "id": "8mBTbP1YJhyf",
        "outputId": "e7cf7b1a-4973-455f-bb6b-71ab89a6196c"
      },
      "execution_count": null,
      "outputs": [
        {
          "output_type": "stream",
          "name": "stdout",
          "text": [
            "Hello World, Current count is: 2\n"
          ]
        }
      ]
    },
    {
      "cell_type": "code",
      "source": [
        "sem_grade = 95.3333333\n",
        "name = \"Karen Alda\"\n",
        "print(\"Hello {} , your semestral grade is: {}\".format(name, sem_grade))"
      ],
      "metadata": {
        "colab": {
          "base_uri": "https://localhost:8080/"
        },
        "id": "s4yg9UKOLEVp",
        "outputId": "cbea31b8-ccfa-4207-ec22-bd00e381b262"
      },
      "execution_count": null,
      "outputs": [
        {
          "output_type": "stream",
          "name": "stdout",
          "text": [
            "Hello Karen Alda , your semestral grade is: 95.3333333\n"
          ]
        }
      ]
    },
    {
      "cell_type": "code",
      "source": [
        "w_pg, w_mg, w_fg = 0.3, 0.3, 0.4\n",
        "print(\"The weights of your semestral grades are; \\\n",
        "\\n\\t{: .2%} for Prelims\\\n",
        "\\n\\t{: .2%} for Midterms, and\\\n",
        "\\n\\t{: .2%} for Finals.\".format(w_pg, w_mg, w_fg))"
      ],
      "metadata": {
        "id": "pm-q-S0KXoB3",
        "outputId": "5918cd57-b6e7-483b-cdf5-7632bcf208cd",
        "colab": {
          "base_uri": "https://localhost:8080/"
        }
      },
      "execution_count": null,
      "outputs": [
        {
          "output_type": "stream",
          "name": "stdout",
          "text": [
            "The weights of your semestral grades are; \n",
            "\t 30.00% for Prelims\n",
            "\t 30.00% for Midterms, and\n",
            "\t 40.00% for Finals.\n"
          ]
        }
      ]
    },
    {
      "cell_type": "code",
      "source": [
        "x = input(\"enter a number: \")\n",
        "x"
      ],
      "metadata": {
        "id": "mHP2x8xnkfV6"
      },
      "execution_count": null,
      "outputs": []
    },
    {
      "cell_type": "code",
      "source": [
        "name = input(\"Name: \")\n",
        "pg = input(\"Enter prelim grade: \")\n",
        "mg = input(\"Enter midterm grade: \")\n",
        "fg = input(\"Enter finals grade: \")\n",
        "sem_grade = 95\n",
        "print(\"Hello {}, your semestral grade is: {}\" .format(name, sem_grade9))"
      ],
      "metadata": {
        "id": "KX2gd4tnksVh",
        "outputId": "f959eab2-e232-4970-aae6-cc3b1a5c7ffd",
        "colab": {
          "base_uri": "https://localhost:8080/"
        }
      },
      "execution_count": null,
      "outputs": [
        {
          "output_type": "stream",
          "name": "stdout",
          "text": [
            "Name: Karen Alda\n",
            "Enter prelim grade: 95\n",
            "Enter midterm grade: 95\n",
            "Enter finals grade: 95\n",
            "Hello Karen Alda, your semestral grade is: 95\n"
          ]
        }
      ]
    },
    {
      "cell_type": "markdown",
      "source": [
        "## Loopong Statements"
      ],
      "metadata": {
        "id": "K-JfbSMvnXt1"
      }
    },
    {
      "cell_type": "markdown",
      "source": [
        "### While"
      ],
      "metadata": {
        "id": "NRrzSnKXngMC"
      }
    },
    {
      "cell_type": "code",
      "source": [
        "## while loops\n",
        "i, j = 12, 19\n",
        "while(i<=j):\n",
        "  print(f\"{i}\\t|\\t{j}\")\n",
        "  i+=1"
      ],
      "metadata": {
        "id": "-zJddTNZnhzd",
        "outputId": "74b70921-11d5-4cb3-89cb-39adbcea3ac0",
        "colab": {
          "base_uri": "https://localhost:8080/"
        }
      },
      "execution_count": 230,
      "outputs": [
        {
          "output_type": "stream",
          "name": "stdout",
          "text": [
            "12\t|\t19\n",
            "13\t|\t19\n",
            "14\t|\t19\n",
            "15\t|\t19\n",
            "16\t|\t19\n",
            "17\t|\t19\n",
            "18\t|\t19\n",
            "19\t|\t19\n"
          ]
        }
      ]
    },
    {
      "cell_type": "markdown",
      "source": [
        "### For"
      ],
      "metadata": {
        "id": "z5cTAbTHpy_M"
      }
    },
    {
      "cell_type": "code",
      "source": [
        "# for(int i=0; i<10; i++){\n",
        "# print(i)\n",
        "# } eto pwede pang Java and c++\n",
        "\n",
        "i=0\n",
        "for i in range(10):\n",
        "  print(i)"
      ],
      "metadata": {
        "id": "s7yXFK9EokES",
        "outputId": "2f2de2c0-d316-492b-f0cb-662f30aef4c2",
        "colab": {
          "base_uri": "https://localhost:8080/"
        }
      },
      "execution_count": 231,
      "outputs": [
        {
          "output_type": "stream",
          "name": "stdout",
          "text": [
            "0\n",
            "1\n",
            "2\n",
            "3\n",
            "4\n",
            "5\n",
            "6\n",
            "7\n",
            "8\n",
            "9\n"
          ]
        }
      ]
    },
    {
      "cell_type": "code",
      "source": [
        "playlist = [\"We don't talk about Bruno\", \"Family Madrifal\"]\n",
        "print('Now playing: \\n')\n",
        "for song in playlist:\n",
        "  print(song)"
      ],
      "metadata": {
        "id": "RqGIF9bap18t",
        "outputId": "243fed04-06b5-4625-d080-8109751788d5",
        "colab": {
          "base_uri": "https://localhost:8080/"
        }
      },
      "execution_count": 232,
      "outputs": [
        {
          "output_type": "stream",
          "name": "stdout",
          "text": [
            "Now playing: \n",
            "\n",
            "We don't talk about Bruno\n",
            "Family Madrifal\n"
          ]
        }
      ]
    },
    {
      "cell_type": "markdown",
      "source": [
        "## Flow Control"
      ],
      "metadata": {
        "id": "RWOtpVUJqocr"
      }
    },
    {
      "cell_type": "markdown",
      "source": [
        "### Condition Statements"
      ],
      "metadata": {
        "id": "YJWsZLtVqqxa"
      }
    },
    {
      "cell_type": "code",
      "source": [
        "numeral1, numeral2 = 12, 2\n",
        "if(numeral1 == numeral2):\n",
        "  print(\"lods\")\n",
        "elif(numeral1>numeral2):\n",
        "  print(\"petmalu\")\n",
        "else:\n",
        "    print(\"retsam\")"
      ],
      "metadata": {
        "id": "CMelRgtTquEj",
        "outputId": "5a36e689-2d8c-41ea-a61f-b6f0643d4019",
        "colab": {
          "base_uri": "https://localhost:8080/"
        }
      },
      "execution_count": 233,
      "outputs": [
        {
          "output_type": "stream",
          "name": "stdout",
          "text": [
            "petmalu\n"
          ]
        }
      ]
    },
    {
      "cell_type": "markdown",
      "source": [
        "## Functions"
      ],
      "metadata": {
        "id": "PB0Hi8fgrXMa"
      }
    },
    {
      "cell_type": "code",
      "source": [
        "# void Deleteuser(int userid){\n",
        "#      delete(userid);\n",
        "# } pang java\n",
        "\n",
        "def delete_user (userid):\n",
        "  print(\"Succesfully deleted user:{}\".format(userid))\n",
        "\n",
        "def delete_all_users ():\n",
        "  print(\"Successfully deleted all users\")"
      ],
      "metadata": {
        "id": "z9XQuewnrY-a"
      },
      "execution_count": 234,
      "outputs": []
    },
    {
      "cell_type": "code",
      "source": [
        "userid = \"Purple\"\n",
        "delete_user(\"Purple\")\n",
        "delete_all_users()"
      ],
      "metadata": {
        "id": "EOecfq10sXmy",
        "outputId": "5d07d7eb-9d54-46f9-c894-0b7baeb95d9d",
        "colab": {
          "base_uri": "https://localhost:8080/"
        }
      },
      "execution_count": 235,
      "outputs": [
        {
          "output_type": "stream",
          "name": "stdout",
          "text": [
            "Succesfully deleted user:Purple\n",
            "Successfully deleted all users\n"
          ]
        }
      ]
    },
    {
      "cell_type": "code",
      "source": [
        "def add(addend1, addend2):\n",
        "  return addend1 + addend2\n",
        "\n",
        "def power_of_base4(exponent):\n",
        "  return 4**exponent"
      ],
      "metadata": {
        "id": "87xgsNSfsme8"
      },
      "execution_count": 236,
      "outputs": []
    },
    {
      "cell_type": "code",
      "source": [
        "# addend1, addend2 = 34, 35\n",
        "# add(addend1, addend2)\n",
        "\n",
        "exponent = 2\n",
        "power_of_base4(exponent)"
      ],
      "metadata": {
        "id": "ssnN925vtBGy",
        "outputId": "a5986979-5949-4573-e9cd-cd75c57af72f",
        "colab": {
          "base_uri": "https://localhost:8080/"
        }
      },
      "execution_count": 237,
      "outputs": [
        {
          "output_type": "execute_result",
          "data": {
            "text/plain": [
              "16"
            ]
          },
          "metadata": {},
          "execution_count": 237
        }
      ]
    },
    {
      "cell_type": "markdown",
      "source": [
        "##Grade Calculator"
      ],
      "metadata": {
        "id": "-aPeNYXScZpO"
      }
    },
    {
      "cell_type": "code",
      "source": [
        "name = input(\"Name: \")\n",
        "course = input(\"Course:\")\n",
        "pg = float(input(\"Enter prelim grade: \"))\n",
        "mg = float(input(\"Enter midterm grade: \"))\n",
        "fg = float(input(\"Enter finals grade: \"))\n",
        "sg = pg*.30+mg*.30+fg*.40\n",
        "print(\"Hello {} of {}, your semestral grade is: {}\" .format(name, course, sg))\n",
        "if (sg > 70.00) :\n",
        "  print(\"\\U0001F600\")\n",
        "elif(sg == 70.00) :\n",
        "  print(\"\\U0001F606\")\n",
        "else:\n",
        "  print(\"\\U0001F62D\")"
      ],
      "metadata": {
        "id": "wPuWCSTiccco",
        "outputId": "bf3edcef-d897-448b-8610-ab3a3cc1b62f",
        "colab": {
          "base_uri": "https://localhost:8080/"
        }
      },
      "execution_count": 242,
      "outputs": [
        {
          "output_type": "stream",
          "name": "stdout",
          "text": [
            "Name: astrid\n",
            "Course:che\n",
            "Enter prelim grade: 55\n",
            "Enter midterm grade: 48\n",
            "Enter finals grade: 70\n",
            "Hello astrid of che, your semestral grade is: 58.9\n",
            "😭\n"
          ]
        }
      ]
    }
  ]
}