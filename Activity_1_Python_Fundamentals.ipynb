{
  "nbformat": 4,
  "nbformat_minor": 0,
  "metadata": {
    "colab": {
      "name": "Activity 1 - Python Fundamentals",
      "provenance": [],
      "collapsed_sections": [
        "LvTSSpZl3T0U",
        "K-JfbSMvnXt1",
        "NRrzSnKXngMC",
        "z5cTAbTHpy_M",
        "RWOtpVUJqocr"
      ],
      "authorship_tag": "ABX9TyNUi6Hmr0axopYgK5+vSy72",
      "include_colab_link": true
    },
    "kernelspec": {
      "name": "python3",
      "display_name": "Python 3"
    },
    "language_info": {
      "name": "python"
    }
  },
  "cells": [
    {
      "cell_type": "markdown",
      "metadata": {
        "id": "view-in-github",
        "colab_type": "text"
      },
      "source": [
        "<a href=\"https://colab.research.google.com/github/thlystrd/LinearAlgebra_2ndsem/blob/main/Activity_1_Python_Fundamentals.ipynb\" target=\"_parent\"><img src=\"https://colab.research.google.com/assets/colab-badge.svg\" alt=\"Open In Colab\"/></a>"
      ]
    },
    {
      "cell_type": "markdown",
      "source": [
        "# Welcome to Python Fundamentals\n",
        "In this module, we are going to establish or review our skills in Python programming. In this notebook we are going to cover:\n",
        "* Variables and Data Types \n",
        "* Operations\n",
        "* Input and Output Operations\n",
        "* Logic Control\n",
        "* Iterables\n",
        "* Functions"
      ],
      "metadata": {
        "id": "DjROMxalGij2"
      }
    },
    {
      "cell_type": "markdown",
      "source": [
        "## Variable and Data Types"
      ],
      "metadata": {
        "id": "Efqy4fb9rLQu"
      }
    },
    {
      "cell_type": "markdown",
      "source": [
        "- codes used for identifying and calling out certain data types such as the following:\n",
        "   - **Integer** - whole numbers.\n",
        "   - **Float** - numbers that contain decimals.\n",
        "   - **String** - charaters that are placed inside quotation marks."
      ],
      "metadata": {
        "id": "tK5liyY9uFWt"
      }
    },
    {
      "cell_type": "code",
      "source": [
        "uwu = 11\n",
        "aha,ahha = 3, -11\n",
        "eme, emme, emme = 4, 5, 6\n",
        "uwu"
      ],
      "metadata": {
        "id": "KbCzjBh7ro3c",
        "colab": {
          "base_uri": "https://localhost:8080/"
        },
        "outputId": "a44f2691-88e1-4098-f44f-e8eee72b0984"
      },
      "execution_count": 101,
      "outputs": [
        {
          "output_type": "execute_result",
          "data": {
            "text/plain": [
              "11"
            ]
          },
          "metadata": {},
          "execution_count": 101
        }
      ]
    },
    {
      "cell_type": "code",
      "source": [
        "type(uwu)"
      ],
      "metadata": {
        "id": "a-VnW9LXuFpz",
        "colab": {
          "base_uri": "https://localhost:8080/"
        },
        "outputId": "4a7d2b5f-e511-40f3-9cbd-6aad4405dc5a"
      },
      "execution_count": 102,
      "outputs": [
        {
          "output_type": "execute_result",
          "data": {
            "text/plain": [
              "int"
            ]
          },
          "metadata": {},
          "execution_count": 102
        }
      ]
    },
    {
      "cell_type": "code",
      "source": [
        "ehe = 1.0\n",
        "type(ehe)"
      ],
      "metadata": {
        "id": "gbyeF7IguZsX",
        "colab": {
          "base_uri": "https://localhost:8080/"
        },
        "outputId": "5e1bec15-5d6d-456c-8c71-1c47e2712da0"
      },
      "execution_count": 103,
      "outputs": [
        {
          "output_type": "execute_result",
          "data": {
            "text/plain": [
              "float"
            ]
          },
          "metadata": {},
          "execution_count": 103
        }
      ]
    },
    {
      "cell_type": "code",
      "source": [
        "uwu = float(uwu)\n",
        "type (uwu)"
      ],
      "metadata": {
        "id": "vh2WkX9iuvxm",
        "colab": {
          "base_uri": "https://localhost:8080/"
        },
        "outputId": "4aaf395f-e408-46f4-f3e8-9bda4fa44bdb"
      },
      "execution_count": 104,
      "outputs": [
        {
          "output_type": "execute_result",
          "data": {
            "text/plain": [
              "float"
            ]
          },
          "metadata": {},
          "execution_count": 104
        }
      ]
    },
    {
      "cell_type": "code",
      "source": [
        "k,a,r = 3 , 11.11 , 'twenty'\n",
        "type (r)"
      ],
      "metadata": {
        "id": "jU0HWIKgv5FI",
        "colab": {
          "base_uri": "https://localhost:8080/"
        },
        "outputId": "194d520b-dce6-4fde-96d2-4838feadaa5f"
      },
      "execution_count": 105,
      "outputs": [
        {
          "output_type": "execute_result",
          "data": {
            "text/plain": [
              "str"
            ]
          },
          "metadata": {},
          "execution_count": 105
        }
      ]
    },
    {
      "cell_type": "code",
      "source": [
        "k_int = int(k)\n",
        "k_int"
      ],
      "metadata": {
        "id": "EuWtlqW-wwvM",
        "colab": {
          "base_uri": "https://localhost:8080/"
        },
        "outputId": "85bbc15e-1caa-4192-efd4-230e9dd75910"
      },
      "execution_count": 106,
      "outputs": [
        {
          "output_type": "execute_result",
          "data": {
            "text/plain": [
              "3"
            ]
          },
          "metadata": {},
          "execution_count": 106
        }
      ]
    },
    {
      "cell_type": "markdown",
      "source": [
        "## Operations"
      ],
      "metadata": {
        "id": "P5omo7qnxlAH"
      }
    },
    {
      "cell_type": "markdown",
      "source": [
        "###Arithmetic"
      ],
      "metadata": {
        "id": "kO3k4Hqnx2us"
      }
    },
    {
      "cell_type": "markdown",
      "source": [
        "- assigning numbers (integer or float) to each variable and using these variables to perform the following basic operations:\n",
        "  - **Addition** - wherein the sum of variables is equal to the sum of their values.\n",
        "  - **Subtraction** - wherein the difference of variables is equal to the difference of their designated values.\n",
        "  - **Multiplication** - wherein the product of variables is equal to the product of their designated values.\n",
        "  - **Division** - wherein the quotient of variables is equal to the quotient of their designated values.\n",
        "  - **Floor Division** - Division wherein the quotient containing a decimal point is the rounded up to the closest integer.\n",
        "  - **Exponentiation** - Wherein a variable is exponentiated. \n",
        "  - **Modulo** - Division operation wherein only the remainder is returned. [1]"
      ],
      "metadata": {
        "id": "uv5_V4TkuXFQ"
      }
    },
    {
      "cell_type": "code",
      "source": [
        "a , b , c , d = -3 , -11 , 20 , 20"
      ],
      "metadata": {
        "id": "UesuSc2cx78c"
      },
      "execution_count": 107,
      "outputs": []
    },
    {
      "cell_type": "code",
      "source": [
        "### Addition\n",
        "S = a+b\n",
        "S"
      ],
      "metadata": {
        "id": "lMMOMDMZyR8U",
        "colab": {
          "base_uri": "https://localhost:8080/"
        },
        "outputId": "c3d3d0ee-a887-4e0a-f7ad-8273a89e69c2"
      },
      "execution_count": 108,
      "outputs": [
        {
          "output_type": "execute_result",
          "data": {
            "text/plain": [
              "-14"
            ]
          },
          "metadata": {},
          "execution_count": 108
        }
      ]
    },
    {
      "cell_type": "code",
      "source": [
        "### Subtraction\n",
        "D = b - d\n",
        "D"
      ],
      "metadata": {
        "id": "ulomfj_MzKwl",
        "colab": {
          "base_uri": "https://localhost:8080/"
        },
        "outputId": "1b37e276-cf12-4e8c-9036-0c8784c6f45c"
      },
      "execution_count": 109,
      "outputs": [
        {
          "output_type": "execute_result",
          "data": {
            "text/plain": [
              "-31"
            ]
          },
          "metadata": {},
          "execution_count": 109
        }
      ]
    },
    {
      "cell_type": "code",
      "source": [
        "### Multiplicaion\n",
        "P = a * d\n",
        "P"
      ],
      "metadata": {
        "id": "0_rvjPmYzeje",
        "colab": {
          "base_uri": "https://localhost:8080/"
        },
        "outputId": "783df498-b5d9-4252-8614-436e48cf3add"
      },
      "execution_count": 110,
      "outputs": [
        {
          "output_type": "execute_result",
          "data": {
            "text/plain": [
              "-60"
            ]
          },
          "metadata": {},
          "execution_count": 110
        }
      ]
    },
    {
      "cell_type": "code",
      "source": [
        "### Division\n",
        "Q = a / c\n",
        "Q"
      ],
      "metadata": {
        "id": "3Xtf2t-rzwn2",
        "colab": {
          "base_uri": "https://localhost:8080/"
        },
        "outputId": "48144c51-9d7a-455f-9fd3-ef0a5d1a65ad"
      },
      "execution_count": 111,
      "outputs": [
        {
          "output_type": "execute_result",
          "data": {
            "text/plain": [
              "-0.15"
            ]
          },
          "metadata": {},
          "execution_count": 111
        }
      ]
    },
    {
      "cell_type": "code",
      "source": [
        "### Floor Division\n",
        "Fq = d // c\n",
        "Fq"
      ],
      "metadata": {
        "id": "ltn1c6fT0hY0",
        "colab": {
          "base_uri": "https://localhost:8080/"
        },
        "outputId": "868cc1eb-ceac-4d0e-ed6f-b39830092675"
      },
      "execution_count": 112,
      "outputs": [
        {
          "output_type": "execute_result",
          "data": {
            "text/plain": [
              "1"
            ]
          },
          "metadata": {},
          "execution_count": 112
        }
      ]
    },
    {
      "cell_type": "code",
      "source": [
        "### Exponentation\n",
        "E = a**c\n",
        "E"
      ],
      "metadata": {
        "id": "r1FwIJCE1eq9",
        "colab": {
          "base_uri": "https://localhost:8080/"
        },
        "outputId": "b122e1c8-294f-464a-a1ac-d701a45a7066"
      },
      "execution_count": 113,
      "outputs": [
        {
          "output_type": "execute_result",
          "data": {
            "text/plain": [
              "3486784401"
            ]
          },
          "metadata": {},
          "execution_count": 113
        }
      ]
    },
    {
      "cell_type": "code",
      "source": [
        "### Modulo\n",
        "mod = a%c\n",
        "mod"
      ],
      "metadata": {
        "id": "u_mZ5iSZ2gx8",
        "colab": {
          "base_uri": "https://localhost:8080/"
        },
        "outputId": "7ee47556-402b-4f87-dffd-fcbcc6f6475b"
      },
      "execution_count": 114,
      "outputs": [
        {
          "output_type": "execute_result",
          "data": {
            "text/plain": [
              "17"
            ]
          },
          "metadata": {},
          "execution_count": 114
        }
      ]
    },
    {
      "cell_type": "markdown",
      "source": [
        "### Assignment Operations"
      ],
      "metadata": {
        "id": "LvTSSpZl3T0U"
      }
    },
    {
      "cell_type": "markdown",
      "source": [
        "- assigning numbers (integer or float) to each variable and using these variables to perform the following operations:\n",
        "  - **Increment or Addition Assignment Operator** - wherein each time the code runs the value of G increases by d.\n",
        "  - **Decrement or Subtraction Assignment Operator** - wherein each time the code runs the value of H decreases by a.\n",
        "  - **Multiplication Assignment Operator** - wherein each time the code runs the value of J would be multiplied to a value of 2. \n",
        "  - **Exponent Assignment Operator** - wherein each time the code runs the value of K would be raised to a value of 3. "
      ],
      "metadata": {
        "id": "2tw84Fquub_o"
      }
    },
    {
      "cell_type": "code",
      "source": [
        "G , H , J , K = 6 , 12 , 20 , 2"
      ],
      "metadata": {
        "id": "A8gXjv513eTX"
      },
      "execution_count": 191,
      "outputs": []
    },
    {
      "cell_type": "code",
      "source": [
        "G += a\n",
        "G"
      ],
      "metadata": {
        "id": "ZDspYGS73ym0",
        "colab": {
          "base_uri": "https://localhost:8080/"
        },
        "outputId": "94ed4528-4cbe-4c4d-fcdc-9b56eae3d1f5"
      },
      "execution_count": 153,
      "outputs": [
        {
          "output_type": "execute_result",
          "data": {
            "text/plain": [
              "-3"
            ]
          },
          "metadata": {},
          "execution_count": 153
        }
      ]
    },
    {
      "cell_type": "code",
      "source": [
        "H -= b\n",
        "H"
      ],
      "metadata": {
        "id": "TUGmxchv4nSJ",
        "colab": {
          "base_uri": "https://localhost:8080/"
        },
        "outputId": "ac8cdee7-5ceb-4bd1-fddb-9d46fadfe6c3"
      },
      "execution_count": 155,
      "outputs": [
        {
          "output_type": "execute_result",
          "data": {
            "text/plain": [
              "34"
            ]
          },
          "metadata": {},
          "execution_count": 155
        }
      ]
    },
    {
      "cell_type": "code",
      "source": [
        "J *= c\n",
        "J"
      ],
      "metadata": {
        "id": "Cdo1Nc0z5Mcw",
        "colab": {
          "base_uri": "https://localhost:8080/"
        },
        "outputId": "1deaca66-34ae-4cf2-e788-eb46e91e715c"
      },
      "execution_count": 163,
      "outputs": [
        {
          "output_type": "execute_result",
          "data": {
            "text/plain": [
              "100"
            ]
          },
          "metadata": {},
          "execution_count": 163
        }
      ]
    },
    {
      "cell_type": "code",
      "source": [
        "K **= d\n",
        "K"
      ],
      "metadata": {
        "id": "LIBxB40X5e07",
        "colab": {
          "base_uri": "https://localhost:8080/"
        },
        "outputId": "8e79c5c4-dcb9-49cb-ed52-06395a2ffe9b"
      },
      "execution_count": 192,
      "outputs": [
        {
          "output_type": "execute_result",
          "data": {
            "text/plain": [
              "1048576"
            ]
          },
          "metadata": {},
          "execution_count": 192
        }
      ]
    },
    {
      "cell_type": "markdown",
      "source": [
        "### Comparators"
      ],
      "metadata": {
        "id": "9NNI0SrE5vCO"
      }
    },
    {
      "cell_type": "markdown",
      "source": [
        "- assigning and integer, float, or string to each variable and using these variables to perform the following comparison operators to determine if the condition would prove to be either true or false:\n",
        "  - **Equality** - when two operands are equal then the condition is true, if not then false.\n",
        "  - **Non-Equality** - when two operands are not equal then the condition is true, if not then false.\n",
        "  - **Inequality**\n",
        "    - *Greater than* - when the left operand is greater than the right then the condition is true, if not then false.\n",
        "    - *Less than* - when the left operand is less than the right then the condition is true, if not then false.\n",
        "    - *Greater than or Equal to* - when the left operand is greater than or equal to the right then the condition is true, if not then false.\n",
        "    - *Less than or Equal to* - when the left operand is less than or equal to the right then the condition is true, if not then false."
      ],
      "metadata": {
        "id": "bCbG0aZQugj_"
      }
    },
    {
      "cell_type": "code",
      "source": [
        "res_1, res_2, res_3 = 3, 6, 19\n",
        "true_val = 3.0"
      ],
      "metadata": {
        "id": "HlsgxbKU6FB7"
      },
      "execution_count": 215,
      "outputs": []
    },
    {
      "cell_type": "code",
      "source": [
        "## Equality\n",
        "res_2 == true_val"
      ],
      "metadata": {
        "id": "Sf2xemIe6l-d",
        "colab": {
          "base_uri": "https://localhost:8080/"
        },
        "outputId": "b0254edf-3b98-4dea-8426-9e9e9d76837a"
      },
      "execution_count": 198,
      "outputs": [
        {
          "output_type": "execute_result",
          "data": {
            "text/plain": [
              "False"
            ]
          },
          "metadata": {},
          "execution_count": 198
        }
      ]
    },
    {
      "cell_type": "code",
      "source": [
        "## Non-equality\n",
        "res_2 != true_val"
      ],
      "metadata": {
        "id": "BZJRONgb7JTW",
        "colab": {
          "base_uri": "https://localhost:8080/"
        },
        "outputId": "01ba64cf-4e83-4a7e-c1cd-445d0dda2d84"
      },
      "execution_count": 199,
      "outputs": [
        {
          "output_type": "execute_result",
          "data": {
            "text/plain": [
              "True"
            ]
          },
          "metadata": {},
          "execution_count": 199
        }
      ]
    },
    {
      "cell_type": "code",
      "source": [
        "## Inequality\n",
        "t1= res_1 > res_2\n",
        "t2= res_1 < res_2/2\n",
        "t3= res_1 >= res_2/2\n",
        "t4= res_1 <= res_2\n",
        "t3"
      ],
      "metadata": {
        "id": "XC5Q6-lz7eZk",
        "colab": {
          "base_uri": "https://localhost:8080/"
        },
        "outputId": "bf672003-a62a-454d-9949-f3718af81924"
      },
      "execution_count": 200,
      "outputs": [
        {
          "output_type": "execute_result",
          "data": {
            "text/plain": [
              "True"
            ]
          },
          "metadata": {},
          "execution_count": 200
        }
      ]
    },
    {
      "cell_type": "markdown",
      "source": [
        "### Logical"
      ],
      "metadata": {
        "id": "WdnR2J4o9IbK"
      }
    },
    {
      "cell_type": "markdown",
      "source": [
        "**Boolean value** - This is a built-in data type in Python that is mostly used in logical operations to represent an expressions truth value.\n",
        "\n",
        "- assigning and integer, float, string, or boolean value [2] to each variable and using these variables to perform the following logical operators:\n",
        "  - **Equality** - used to compare two operands to check if they are equal. This would show true if both operands are equal and false if not.\n",
        "  - **Is** - used to compare two operands to check if they are the same identity [3]. This would show true if both operands are the same and false if not.\n",
        "  - **Conjunction** - uses \"and\" in between two operands. This would show true if both operands are true and false if not.\n",
        "  - **Disjunction** - uses \"or\" in between two operands. This would show true if atleast one of the operands is true and false if none are true.\n",
        "  - **Negation** - uses \"not\" at the beginning of an operand. This would show true if the operand is false and false if the operand is true."
      ],
      "metadata": {
        "id": "NN9bFBBBumrq"
      }
    },
    {
      "cell_type": "code",
      "source": [
        "res_1 == true_val"
      ],
      "metadata": {
        "id": "Tfr_546_9M6G",
        "colab": {
          "base_uri": "https://localhost:8080/"
        },
        "outputId": "e227b695-30fb-41ca-ce1b-52444ff5ea60"
      },
      "execution_count": 201,
      "outputs": [
        {
          "output_type": "execute_result",
          "data": {
            "text/plain": [
              "True"
            ]
          },
          "metadata": {},
          "execution_count": 201
        }
      ]
    },
    {
      "cell_type": "code",
      "source": [
        "res_2 == true_val"
      ],
      "metadata": {
        "colab": {
          "base_uri": "https://localhost:8080/"
        },
        "id": "5o5HxrEnzbDn",
        "outputId": "89b8fc35-f8f7-42ae-9a1d-2374964315dd"
      },
      "execution_count": 211,
      "outputs": [
        {
          "output_type": "execute_result",
          "data": {
            "text/plain": [
              "False"
            ]
          },
          "metadata": {},
          "execution_count": 211
        }
      ]
    },
    {
      "cell_type": "code",
      "source": [
        "res_1 is true_val"
      ],
      "metadata": {
        "id": "n40cQf1kCBd_",
        "colab": {
          "base_uri": "https://localhost:8080/"
        },
        "outputId": "69777e43-0b05-4062-b6f4-ebd9b3b49068"
      },
      "execution_count": 217,
      "outputs": [
        {
          "output_type": "execute_result",
          "data": {
            "text/plain": [
              "False"
            ]
          },
          "metadata": {},
          "execution_count": 217
        }
      ]
    },
    {
      "cell_type": "code",
      "source": [
        "res_1 is not true_val"
      ],
      "metadata": {
        "id": "DG2ej-FnCIla",
        "colab": {
          "base_uri": "https://localhost:8080/"
        },
        "outputId": "a5be592b-4f24-4c3b-905b-348297b6ada9"
      },
      "execution_count": 203,
      "outputs": [
        {
          "output_type": "execute_result",
          "data": {
            "text/plain": [
              "True"
            ]
          },
          "metadata": {},
          "execution_count": 203
        }
      ]
    },
    {
      "cell_type": "code",
      "source": [
        "p,q = True, False \n",
        "conj = p and q\n",
        "conj"
      ],
      "metadata": {
        "id": "_uqCma7XCWAq",
        "colab": {
          "base_uri": "https://localhost:8080/"
        },
        "outputId": "83132c14-22ff-425c-ed84-0a60bddcd5e6"
      },
      "execution_count": 220,
      "outputs": [
        {
          "output_type": "execute_result",
          "data": {
            "text/plain": [
              "False"
            ]
          },
          "metadata": {},
          "execution_count": 220
        }
      ]
    },
    {
      "cell_type": "code",
      "source": [
        "p,q = True, True \n",
        "conj = p and q\n",
        "conj"
      ],
      "metadata": {
        "colab": {
          "base_uri": "https://localhost:8080/"
        },
        "id": "Fm-7HbbG0284",
        "outputId": "2da9454b-feef-4cdc-a5b4-e476cfb441a5"
      },
      "execution_count": 219,
      "outputs": [
        {
          "output_type": "execute_result",
          "data": {
            "text/plain": [
              "True"
            ]
          },
          "metadata": {},
          "execution_count": 219
        }
      ]
    },
    {
      "cell_type": "code",
      "source": [
        "p,j = True, True\n",
        "disj = p or q\n",
        "disj"
      ],
      "metadata": {
        "id": "Uwj7FfyBCofC",
        "colab": {
          "base_uri": "https://localhost:8080/"
        },
        "outputId": "b01834b9-174a-441c-f38d-a1950eeb6943"
      },
      "execution_count": 221,
      "outputs": [
        {
          "output_type": "execute_result",
          "data": {
            "text/plain": [
              "True"
            ]
          },
          "metadata": {},
          "execution_count": 221
        }
      ]
    },
    {
      "cell_type": "code",
      "source": [
        "p,j = True, False\n",
        "disj = p or q\n",
        "disj"
      ],
      "metadata": {
        "colab": {
          "base_uri": "https://localhost:8080/"
        },
        "id": "eV4hAUji1a-q",
        "outputId": "ae1be4d3-59c9-4754-d324-965ea2d93fbd"
      },
      "execution_count": 222,
      "outputs": [
        {
          "output_type": "execute_result",
          "data": {
            "text/plain": [
              "True"
            ]
          },
          "metadata": {},
          "execution_count": 222
        }
      ]
    },
    {
      "cell_type": "code",
      "source": [
        "p,j = False, False\n",
        "disj = p or q\n",
        "disj"
      ],
      "metadata": {
        "colab": {
          "base_uri": "https://localhost:8080/"
        },
        "id": "AYlWgJtt1eYe",
        "outputId": "5ae6506b-0dc8-45bc-cb1a-16afb1f78164"
      },
      "execution_count": 223,
      "outputs": [
        {
          "output_type": "execute_result",
          "data": {
            "text/plain": [
              "False"
            ]
          },
          "metadata": {},
          "execution_count": 223
        }
      ]
    },
    {
      "cell_type": "code",
      "source": [
        "p, q = True , False\n",
        "e = not (q)\n",
        "e"
      ],
      "metadata": {
        "id": "Em-oci37EpiM",
        "colab": {
          "base_uri": "https://localhost:8080/"
        },
        "outputId": "8b9d3d8d-6104-4a1e-fb40-d5b6b78a92a5"
      },
      "execution_count": 206,
      "outputs": [
        {
          "output_type": "execute_result",
          "data": {
            "text/plain": [
              "True"
            ]
          },
          "metadata": {},
          "execution_count": 206
        }
      ]
    },
    {
      "cell_type": "code",
      "source": [
        "p,q = True, False\n",
        "xor = (not p and q) or (p and not q)\n",
        "xor"
      ],
      "metadata": {
        "id": "Uuvhi9pzFZ2S",
        "colab": {
          "base_uri": "https://localhost:8080/"
        },
        "outputId": "194a3308-dbd5-477d-af87-fb47ac80f7be"
      },
      "execution_count": 207,
      "outputs": [
        {
          "output_type": "execute_result",
          "data": {
            "text/plain": [
              "True"
            ]
          },
          "metadata": {},
          "execution_count": 207
        }
      ]
    },
    {
      "cell_type": "markdown",
      "source": [
        "### I/O"
      ],
      "metadata": {
        "id": "9JicNDeUHVbq"
      }
    },
    {
      "cell_type": "markdown",
      "source": [
        "**I/O** - stands for Input/Output and it is informaly known as IO or io. I/O shows a string that serves as an output based on what you input. [4]\n",
        "\n",
        "\n",
        "\n",
        "> Commands or Declarations that are used under Input/Output are the following:\n",
        "\n",
        "\n",
        "> - **Print** - easiest way to produce an output whrein you can type a statement or different statements that are to be separated by a comma. Converts statements into strings and produces an output.\n",
        "- **Counter** - a declaration where you can set the starting number for the command \"cnt\". An increment will result to an increase to the set value of the counter.\n",
        "- **Input** - displays a prompt that will ask you to input a text or a value. Depending on your code, it can display the text or value right away or it can use your text or value for the string that will be printed as the output.\n"
      ],
      "metadata": {
        "id": "smlhxN59uwcp"
      }
    },
    {
      "cell_type": "code",
      "source": [
        "print (\"Hello Master\")"
      ],
      "metadata": {
        "id": "YKQac77cHcjy",
        "colab": {
          "base_uri": "https://localhost:8080/"
        },
        "outputId": "e3e25eac-029a-4410-fdfc-b3b9707165e1"
      },
      "execution_count": 131,
      "outputs": [
        {
          "output_type": "stream",
          "name": "stdout",
          "text": [
            "Hello Master\n"
          ]
        }
      ]
    },
    {
      "cell_type": "code",
      "source": [
        "cnt=1"
      ],
      "metadata": {
        "id": "yA_YKw02Hqy6"
      },
      "execution_count": 224,
      "outputs": []
    },
    {
      "cell_type": "code",
      "source": [
        "string = \"Hello World\"\n",
        "print(string,  \",Current run count is:\" , cnt)\n",
        "cnt += 1"
      ],
      "metadata": {
        "id": "_dkLWiAmHwCN",
        "colab": {
          "base_uri": "https://localhost:8080/"
        },
        "outputId": "59efa67c-f3fd-4d3a-df2f-12c20e6211e9"
      },
      "execution_count": 225,
      "outputs": [
        {
          "output_type": "stream",
          "name": "stdout",
          "text": [
            "Hello World ,Current run count is: 1\n"
          ]
        }
      ]
    },
    {
      "cell_type": "code",
      "source": [
        "print(f\"{string}, Current count is: {cnt}\")"
      ],
      "metadata": {
        "id": "8mBTbP1YJhyf",
        "colab": {
          "base_uri": "https://localhost:8080/"
        },
        "outputId": "3e3dacd8-fbf5-4a34-8700-344241bbc1e2"
      },
      "execution_count": 134,
      "outputs": [
        {
          "output_type": "stream",
          "name": "stdout",
          "text": [
            "Hello World, Current count is: 2\n"
          ]
        }
      ]
    },
    {
      "cell_type": "code",
      "source": [
        "sem_grade = 95.3333333\n",
        "name = \"Karen Alda\"\n",
        "print(\"Hello {} , your semestral grade is: {}\".format(name, sem_grade))"
      ],
      "metadata": {
        "id": "s4yg9UKOLEVp",
        "colab": {
          "base_uri": "https://localhost:8080/"
        },
        "outputId": "99609f93-5fdc-4ad5-b015-d066acc518f3"
      },
      "execution_count": 135,
      "outputs": [
        {
          "output_type": "stream",
          "name": "stdout",
          "text": [
            "Hello Karen Alda , your semestral grade is: 95.3333333\n"
          ]
        }
      ]
    },
    {
      "cell_type": "code",
      "source": [
        "w_pg, w_mg, w_fg = 0.3, 0.3, 0.4\n",
        "print(\"The weights of your semestral grades are; \\\n",
        "\\n\\t{: .2%} for Prelims\\\n",
        "\\n\\t{: .2%} for Midterms, and\\\n",
        "\\n\\t{: .2%} for Finals.\".format(w_pg, w_mg, w_fg))"
      ],
      "metadata": {
        "id": "pm-q-S0KXoB3",
        "colab": {
          "base_uri": "https://localhost:8080/"
        },
        "outputId": "cb4293d0-310b-4c46-e540-e4e2db1b2831"
      },
      "execution_count": 136,
      "outputs": [
        {
          "output_type": "stream",
          "name": "stdout",
          "text": [
            "The weights of your semestral grades are; \n",
            "\t 30.00% for Prelims\n",
            "\t 30.00% for Midterms, and\n",
            "\t 40.00% for Finals.\n"
          ]
        }
      ]
    },
    {
      "cell_type": "code",
      "source": [
        "x = input(\"enter a number: \")\n",
        "x"
      ],
      "metadata": {
        "id": "mHP2x8xnkfV6",
        "colab": {
          "base_uri": "https://localhost:8080/",
          "height": 53
        },
        "outputId": "c8048674-aa9e-41c1-be1c-80600a9b2de6"
      },
      "execution_count": 137,
      "outputs": [
        {
          "name": "stdout",
          "output_type": "stream",
          "text": [
            "enter a number: 11\n"
          ]
        },
        {
          "output_type": "execute_result",
          "data": {
            "application/vnd.google.colaboratory.intrinsic+json": {
              "type": "string"
            },
            "text/plain": [
              "'11'"
            ]
          },
          "metadata": {},
          "execution_count": 137
        }
      ]
    },
    {
      "cell_type": "code",
      "source": [
        "name = input(\"Name: \")\n",
        "pg = input(\"Enter prelim grade: \")\n",
        "mg = input(\"Enter midterm grade: \")\n",
        "fg = input(\"Enter finals grade: \")\n",
        "sem_grade = 95\n",
        "print(\"Hello {}, your semestral grade is: {}\" .format(name, sem_grade))"
      ],
      "metadata": {
        "id": "KX2gd4tnksVh",
        "colab": {
          "base_uri": "https://localhost:8080/"
        },
        "outputId": "25e1ab80-676c-44df-f56e-46888cb0fcc1"
      },
      "execution_count": 226,
      "outputs": [
        {
          "output_type": "stream",
          "name": "stdout",
          "text": [
            "Name: Karen\n",
            "Enter prelim grade: 95\n",
            "Enter midterm grade: 95\n",
            "Enter finals grade: 95\n",
            "Hello Karen, your semestral grade is: 95\n"
          ]
        }
      ]
    },
    {
      "cell_type": "markdown",
      "source": [
        "## Looping Statements"
      ],
      "metadata": {
        "id": "K-JfbSMvnXt1"
      }
    },
    {
      "cell_type": "markdown",
      "source": [
        "### While"
      ],
      "metadata": {
        "id": "NRrzSnKXngMC"
      }
    },
    {
      "cell_type": "markdown",
      "source": [
        "**While Loop** - continually executes until it reaches the value that is given in the command. While loop can also be used in statements given that the condition is true and it will stop the loop once the condition is false. [5]"
      ],
      "metadata": {
        "id": "AhQOZ4_Ku154"
      }
    },
    {
      "cell_type": "code",
      "source": [
        "## while loops\n",
        "i, j = 12, 19\n",
        "while(i<=j):\n",
        "  print(f\"{i}\\t|\\t{j}\")\n",
        "  i+=1"
      ],
      "metadata": {
        "id": "-zJddTNZnhzd",
        "colab": {
          "base_uri": "https://localhost:8080/"
        },
        "outputId": "b17bec26-da2a-4f4f-a002-23b694d94a2c"
      },
      "execution_count": 139,
      "outputs": [
        {
          "output_type": "stream",
          "name": "stdout",
          "text": [
            "12\t|\t19\n",
            "13\t|\t19\n",
            "14\t|\t19\n",
            "15\t|\t19\n",
            "16\t|\t19\n",
            "17\t|\t19\n",
            "18\t|\t19\n",
            "19\t|\t19\n"
          ]
        }
      ]
    },
    {
      "cell_type": "markdown",
      "source": [
        "### For"
      ],
      "metadata": {
        "id": "z5cTAbTHpy_M"
      }
    },
    {
      "cell_type": "markdown",
      "source": [
        "**For Loop** - executes a sequence of statement or value. It is frequently used to display a sequence of lists, sets, strings, or even songs. [5] When it comes to values, it will display up to what value is declared for the range of your for loop."
      ],
      "metadata": {
        "id": "WMItmYsju3dy"
      }
    },
    {
      "cell_type": "code",
      "source": [
        "# for(int i=0; i<10; i++){\n",
        "# print(i)\n",
        "# } eto pwede pang Java and c++\n",
        "\n",
        "i=0\n",
        "for i in range(10):\n",
        "  print(i)"
      ],
      "metadata": {
        "id": "s7yXFK9EokES",
        "colab": {
          "base_uri": "https://localhost:8080/"
        },
        "outputId": "b59ff47c-bb16-4ddb-c4bf-7cbbf3558b75"
      },
      "execution_count": 140,
      "outputs": [
        {
          "output_type": "stream",
          "name": "stdout",
          "text": [
            "0\n",
            "1\n",
            "2\n",
            "3\n",
            "4\n",
            "5\n",
            "6\n",
            "7\n",
            "8\n",
            "9\n"
          ]
        }
      ]
    },
    {
      "cell_type": "code",
      "source": [
        "playlist = [\"We don't talk about Bruno\", \"Family Madrigal\"]\n",
        "print('Now playing: \\n')\n",
        "for song in playlist:\n",
        "  print(song)"
      ],
      "metadata": {
        "id": "RqGIF9bap18t",
        "colab": {
          "base_uri": "https://localhost:8080/"
        },
        "outputId": "7a3fb327-1319-48b8-fb4b-9aa5dc8d1c8b"
      },
      "execution_count": 141,
      "outputs": [
        {
          "output_type": "stream",
          "name": "stdout",
          "text": [
            "Now playing: \n",
            "\n",
            "We don't talk about Bruno\n",
            "Family Madrigal\n"
          ]
        }
      ]
    },
    {
      "cell_type": "markdown",
      "source": [
        "## Flow Control"
      ],
      "metadata": {
        "id": "RWOtpVUJqocr"
      }
    },
    {
      "cell_type": "markdown",
      "source": [
        "### Condition Statements"
      ],
      "metadata": {
        "id": "YJWsZLtVqqxa"
      }
    },
    {
      "cell_type": "markdown",
      "source": [
        "**Condition Statements** - used for different decision-making situations. It's action depends whether a Boolean value [2] is true or false.\n",
        "\n",
        "\n",
        "> The three condition statements are as follows:\n",
        "- **If Statement** - executed once the given condition is met or true. \n",
        "- **Else If Statement** - executed once 'if statement' did not meet the given condition or is false.\n",
        "- **Else Statement** - executed once the condition did not meet neither 'if statement' or 'else if statement'. In other words, else statement will be executed once the two above are false.\n",
        "\n",
        "\n",
        "\n"
      ],
      "metadata": {
        "id": "mML3c3GOu9be"
      }
    },
    {
      "cell_type": "code",
      "source": [
        "numeral1, numeral2 = 11, 10+2\n",
        "if(numeral1 == numeral2):\n",
        "  print(\"Yzel\")\n",
        "elif(numeral1>numeral2):\n",
        "  print(\"Oreo\")\n",
        "else:\n",
        "    print(\"Mocha\")"
      ],
      "metadata": {
        "id": "CMelRgtTquEj",
        "colab": {
          "base_uri": "https://localhost:8080/"
        },
        "outputId": "f1f6765c-b99f-43b7-c818-9d369871a361"
      },
      "execution_count": 230,
      "outputs": [
        {
          "output_type": "stream",
          "name": "stdout",
          "text": [
            "Mocha\n"
          ]
        }
      ]
    },
    {
      "cell_type": "markdown",
      "source": [
        "## Functions"
      ],
      "metadata": {
        "id": "PB0Hi8fgrXMa"
      }
    },
    {
      "cell_type": "markdown",
      "source": [
        "**Functions** - statement that performs a task. It lessens the job for you can use the same code infinitely just by using different inputs. This command only runs when it is called. With functions, you can input statement to be runned or use it for computation. \n",
        "\n",
        "\n",
        "> We can declare a function through:\n",
        "- **Define** - or \"def\" creates a function once it is followed by a parenthesis containing the statement or parameter of your choice. The function will then be called once you input the name of the function. [6]\n",
        "\n"
      ],
      "metadata": {
        "id": "7DvYnZh-vBjy"
      }
    },
    {
      "cell_type": "code",
      "source": [
        "def delete_user (userid):\n",
        "  print(\"Succesfully deleted user:{}\".format(userid))\n",
        "\n",
        "def delete_all_users ():\n",
        "  print(\"Successfully deleted all users\")"
      ],
      "metadata": {
        "id": "z9XQuewnrY-a"
      },
      "execution_count": 231,
      "outputs": []
    },
    {
      "cell_type": "code",
      "source": [
        "userid = \"Purple\"\n",
        "delete_user(\"Purple\")\n",
        "delete_all_users()"
      ],
      "metadata": {
        "id": "EOecfq10sXmy",
        "colab": {
          "base_uri": "https://localhost:8080/"
        },
        "outputId": "f20c6998-dedf-4723-f5e9-03878d9871c9"
      },
      "execution_count": 232,
      "outputs": [
        {
          "output_type": "stream",
          "name": "stdout",
          "text": [
            "Succesfully deleted user:Purple\n",
            "Successfully deleted all users\n"
          ]
        }
      ]
    },
    {
      "cell_type": "code",
      "source": [
        "def add(addend1, addend2):\n",
        "  return addend1 + addend2\n",
        "\n",
        "def power_of_base4(exponent):\n",
        "  return 4**exponent"
      ],
      "metadata": {
        "id": "87xgsNSfsme8"
      },
      "execution_count": 145,
      "outputs": []
    },
    {
      "cell_type": "code",
      "source": [
        "# addend1, addend2 = 34, 35\n",
        "# add(addend1, addend2)\n",
        "\n",
        "exponent = 2\n",
        "power_of_base4(exponent)"
      ],
      "metadata": {
        "id": "ssnN925vtBGy",
        "colab": {
          "base_uri": "https://localhost:8080/"
        },
        "outputId": "ff02d2d9-257f-41f6-fd61-7049920f4022"
      },
      "execution_count": 233,
      "outputs": [
        {
          "output_type": "execute_result",
          "data": {
            "text/plain": [
              "16"
            ]
          },
          "metadata": {},
          "execution_count": 233
        }
      ]
    },
    {
      "cell_type": "markdown",
      "source": [
        "##Grade Calculator"
      ],
      "metadata": {
        "id": "-aPeNYXScZpO"
      }
    },
    {
      "cell_type": "code",
      "source": [
        "name = input(\"Name: \")\n",
        "course = input(\"Course:\")\n",
        "prelim = float(input(\"Prelim Grade: \"))\n",
        "midterm = float(input(\"Midterm Grade: \"))\n",
        "finals = float(input(\"Finals Grade: \"))\n",
        "sem_grade = prelim*.30+midterm*.30+finals*.40\n",
        "print(\"Hello {} of {}! Your Semestral Grade is {}. Congratulations!\" .format(name, course, sem_grade))\n",
        "if (sem_grade > 70.00) :\n",
        "  print(\"\\U0001F600\")\n",
        "elif(sem_grade == 70.00) :\n",
        "  print(\"\\U0001F606\")\n",
        "else:\n",
        "  print(\"\\U0001F62D\")"
      ],
      "metadata": {
        "id": "wPuWCSTiccco",
        "colab": {
          "base_uri": "https://localhost:8080/"
        },
        "outputId": "1070b44b-d01f-4f8b-cb27-a4b793b62871"
      },
      "execution_count": 238,
      "outputs": [
        {
          "output_type": "stream",
          "name": "stdout",
          "text": [
            "Name: Karen Alda\n",
            "Course:B.S. ChE\n",
            "Prelim Grade: 65\n",
            "Midterm Grade: 63\n",
            "Finals Grade: 68\n",
            "Hello Karen Alda of B.S. ChE! Your Semestral Grade is 65.6. Congratulations!\n",
            "😭\n"
          ]
        }
      ]
    }
  ]
}